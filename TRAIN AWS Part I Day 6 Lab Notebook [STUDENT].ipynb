{
 "cells": [
  {
   "cell_type": "markdown",
   "metadata": {
    "id": "mbZXQ3rA3NwL"
   },
   "source": [
    "# **Day 6: Supervised Learning Review**\n",
    "---\n",
    "\n",
    "### **Description**\n",
    "\n",
    "In today's lab, we will review everything we have seen so far. This is your chance to clarify any points of confusion and ultimately ensure your comfort with the fundamentals of supervised machine learning from exploratory data analysis to evaluating linear regression models.\n",
    "\n",
    "<br>\n",
    "\n",
    "### **Structure**\n",
    "\n",
    "**Part 1**: [[OPTIONAL] Exploratory Data Analysis Review](#p1)\n",
    "\n",
    "**Part 2**: [[OPTIONAL] Data Visualization Review](#p2)\n",
    "\n",
    "**Part 3**: [[OPTIONAL] Linear Regression Review](#p3)\n",
    "\n",
    "**Part 4**: [2015 World Happiness Report Project](#p4)\n",
    "\n",
    "**Part 5**: [[OPTIONAL] Homework Practice](#p3)\n",
    "\n",
    "\n",
    "<br>\n",
    "\n",
    "### **Learning Objectives**\n",
    "\n",
    "By the end of this lab, you will:\n",
    "* Understand how to perform exploratory data analysis before applying ML.\n",
    "* Understand how to implement and evaluate Linear Regression models in sklearn.\n",
    "\n",
    "<br>\n",
    "\n",
    "### **Resources**\n",
    "* [EDA with pandas Cheat Sheet](https://docs.google.com/document/d/1PDHUzx7dHCa6MZBpHFME8IMW3EFtcUj-FHPhi_p6QEE/edit?usp=sharing)\n",
    "\n",
    "* [Data Visualization with matplotlib Cheat Sheet](https://docs.google.com/document/d/1kRBEo82pP5r5OJ1npGbfubUw2z8aXIKonjW4PXgY4x8/edit?usp=sharing)\n",
    "\n",
    "* [Linear Regression with sklearn](https://docs.google.com/document/d/1uc4fq5cjOoT1ohol9SR0020ThksWKFjMMnXsvXIPIWE/edit?usp=sharing)\n",
    "\n",
    "\n",
    "\n",
    "<br>\n",
    "\n",
    "**Run the code below before continuing.**"
   ]
  },
  {
   "cell_type": "code",
   "execution_count": 1,
   "metadata": {
    "id": "YAvvLhRIoqYp",
    "tags": []
   },
   "outputs": [],
   "source": [
    "import warnings\n",
    "warnings.filterwarnings('ignore')\n",
    "\n",
    "import pandas as pd\n",
    "import matplotlib.pyplot as plt\n",
    "\n",
    "from sklearn.model_selection import train_test_split\n",
    "from sklearn.metrics import *"
   ]
  },
  {
   "cell_type": "markdown",
   "metadata": {
    "id": "-l9pd5CCqVtD"
   },
   "source": [
    "<a name=\"p1\"></a>\n",
    "\n",
    "---\n",
    "## **Part 1: [OPTIONAL] Exploratory Data Analysis Review**\n",
    "---\n",
    "\n",
    "\n",
    "**Run the code cell below to create the DataFrame.**"
   ]
  },
  {
   "cell_type": "code",
   "execution_count": 2,
   "metadata": {
    "id": "iD9_DTVCzRbY"
   },
   "outputs": [],
   "source": [
    "# Create a Pandas dataframe from the dictionary\n",
    "df = pd.DataFrame({'U.S. State': ['California', 'Florida', 'Indiana', 'Texas', 'Pennsylvania'],\n",
    "        'Population (in millions)': [38, 21, 6.5, 28, 13],\n",
    "        'Capitol': ['Sacramento', 'Tallahassee', 'Indianapolis', 'Austin', 'Harrisburg'],\n",
    "        'GDP ($ in billions)': [3700, 1070, 352, 1876, 726]})"
   ]
  },
  {
   "cell_type": "markdown",
   "metadata": {
    "id": "hjbtt13XrE7G"
   },
   "source": [
    "#### **Problem #1.1**\n",
    "\n",
    "What does `.head()` tell you about this DataFrame?"
   ]
  },
  {
   "cell_type": "code",
   "execution_count": 15,
   "metadata": {
    "id": "_d_m_CVn0t-z",
    "tags": []
   },
   "outputs": [
    {
     "data": {
      "text/html": [
       "<div>\n",
       "<style scoped>\n",
       "    .dataframe tbody tr th:only-of-type {\n",
       "        vertical-align: middle;\n",
       "    }\n",
       "\n",
       "    .dataframe tbody tr th {\n",
       "        vertical-align: top;\n",
       "    }\n",
       "\n",
       "    .dataframe thead th {\n",
       "        text-align: right;\n",
       "    }\n",
       "</style>\n",
       "<table border=\"1\" class=\"dataframe\">\n",
       "  <thead>\n",
       "    <tr style=\"text-align: right;\">\n",
       "      <th></th>\n",
       "      <th>U.S. State</th>\n",
       "      <th>Population (in millions)</th>\n",
       "      <th>Capitol</th>\n",
       "      <th>GDP ($ in billions)</th>\n",
       "    </tr>\n",
       "  </thead>\n",
       "  <tbody>\n",
       "    <tr>\n",
       "      <th>0</th>\n",
       "      <td>California</td>\n",
       "      <td>38.0</td>\n",
       "      <td>Sacramento</td>\n",
       "      <td>3700</td>\n",
       "    </tr>\n",
       "    <tr>\n",
       "      <th>1</th>\n",
       "      <td>Florida</td>\n",
       "      <td>21.0</td>\n",
       "      <td>Tallahassee</td>\n",
       "      <td>1070</td>\n",
       "    </tr>\n",
       "    <tr>\n",
       "      <th>2</th>\n",
       "      <td>Indiana</td>\n",
       "      <td>6.5</td>\n",
       "      <td>Indianapolis</td>\n",
       "      <td>352</td>\n",
       "    </tr>\n",
       "    <tr>\n",
       "      <th>3</th>\n",
       "      <td>Texas</td>\n",
       "      <td>28.0</td>\n",
       "      <td>Austin</td>\n",
       "      <td>1876</td>\n",
       "    </tr>\n",
       "    <tr>\n",
       "      <th>4</th>\n",
       "      <td>Pennsylvania</td>\n",
       "      <td>13.0</td>\n",
       "      <td>Harrisburg</td>\n",
       "      <td>726</td>\n",
       "    </tr>\n",
       "  </tbody>\n",
       "</table>\n",
       "</div>"
      ],
      "text/plain": [
       "     U.S. State  Population (in millions)       Capitol  GDP ($ in billions)\n",
       "0    California                      38.0    Sacramento                 3700\n",
       "1       Florida                      21.0   Tallahassee                 1070\n",
       "2       Indiana                       6.5  Indianapolis                  352\n",
       "3         Texas                      28.0        Austin                 1876\n",
       "4  Pennsylvania                      13.0    Harrisburg                  726"
      ]
     },
     "execution_count": 15,
     "metadata": {},
     "output_type": "execute_result"
    }
   ],
   "source": [
    "df.head()"
   ]
  },
  {
   "cell_type": "markdown",
   "metadata": {
    "id": "_xkLxO4drLIL"
   },
   "source": [
    "#### **Problem #1.2**\n",
    "\n",
    "What is the datatype of `Population (in millions)`?"
   ]
  },
  {
   "cell_type": "code",
   "execution_count": 17,
   "metadata": {
    "id": "sn1aSL4ceKOj",
    "tags": []
   },
   "outputs": [
    {
     "data": {
      "text/plain": [
       "dtype('float64')"
      ]
     },
     "execution_count": 17,
     "metadata": {},
     "output_type": "execute_result"
    }
   ],
   "source": [
    "df['Population (in millions)'].dtype"
   ]
  },
  {
   "cell_type": "markdown",
   "metadata": {
    "id": "JFzkrUYt04_4"
   },
   "source": [
    "#### **Problem #1.3**\n",
    "\n",
    "What is the average `Population (in millions)` size among the U.S. states in the dataset?"
   ]
  },
  {
   "cell_type": "code",
   "execution_count": null,
   "metadata": {
    "id": "J3Qt_0oneJtN"
   },
   "outputs": [],
   "source": []
  },
  {
   "cell_type": "markdown",
   "metadata": {
    "id": "pCQRROJm054A"
   },
   "source": [
    "#### **Problem #1.4**\n",
    "\n",
    "Explore rows 4 and 5. What are the U.S. States listed?"
   ]
  },
  {
   "cell_type": "code",
   "execution_count": null,
   "metadata": {
    "id": "mclhR7MJeMto"
   },
   "outputs": [],
   "source": []
  },
  {
   "cell_type": "markdown",
   "metadata": {
    "id": "M2ZiYzdX06OR"
   },
   "source": [
    "#### **Problem #1.5**\n",
    "\n",
    "Print all of the unique values for `GDP ($ in billions)`."
   ]
  },
  {
   "cell_type": "code",
   "execution_count": null,
   "metadata": {
    "id": "NTMZN8Tw07bU"
   },
   "outputs": [],
   "source": []
  },
  {
   "cell_type": "markdown",
   "metadata": {
    "id": "Qf1t26ecTaFO"
   },
   "source": [
    "#### **Problem #1.6**\n",
    "\n",
    "What are the column names in the dataset?"
   ]
  },
  {
   "cell_type": "code",
   "execution_count": 3,
   "metadata": {
    "id": "8CKIqilfUDhr"
   },
   "outputs": [],
   "source": [
    "# column names"
   ]
  },
  {
   "cell_type": "markdown",
   "metadata": {
    "id": "UJwIu_cuUhFR"
   },
   "source": [
    "#### **Problem #1.7**\n",
    "\n",
    "What is the total population across all states?"
   ]
  },
  {
   "cell_type": "code",
   "execution_count": 4,
   "metadata": {
    "id": "8fhwGXkKV0sY"
   },
   "outputs": [],
   "source": [
    "# total population"
   ]
  },
  {
   "cell_type": "markdown",
   "metadata": {
    "id": "jrKxwNQFUls3"
   },
   "source": [
    "#### **Problem #1.8**\n",
    "\n",
    "Which is the highest GDP in the dataset?"
   ]
  },
  {
   "cell_type": "code",
   "execution_count": 5,
   "metadata": {
    "id": "RSmYyAeGWC4X"
   },
   "outputs": [],
   "source": [
    "# highest GDP"
   ]
  },
  {
   "cell_type": "markdown",
   "metadata": {
    "id": "1TSmsuIUUsWo"
   },
   "source": [
    "#### **Problem #1.9**\n",
    "\n",
    "What is the average population of the states?"
   ]
  },
  {
   "cell_type": "code",
   "execution_count": 6,
   "metadata": {
    "id": "WBDhjRUPWVvd"
   },
   "outputs": [],
   "source": [
    "# average population"
   ]
  },
  {
   "cell_type": "markdown",
   "metadata": {
    "id": "Mt80XQ5MU9yY"
   },
   "source": [
    "#### **Problem #1.10**\n",
    "\n",
    "What is the `Population (in millions)` for the 3rd state in the dataset?"
   ]
  },
  {
   "cell_type": "code",
   "execution_count": 7,
   "metadata": {
    "id": "rSprvOkBWedi"
   },
   "outputs": [],
   "source": [
    "# population of 3rd state"
   ]
  },
  {
   "cell_type": "markdown",
   "metadata": {
    "id": "Z-o7V6JfVCR6"
   },
   "source": [
    "#### **Problem #1.11**\n",
    "\n",
    "Which states are included in this dataset?"
   ]
  },
  {
   "cell_type": "code",
   "execution_count": 8,
   "metadata": {
    "id": "_5G1-bSxWsAr"
   },
   "outputs": [],
   "source": [
    "# list of states"
   ]
  },
  {
   "cell_type": "markdown",
   "metadata": {
    "id": "Jb_Ob6OaVSQC"
   },
   "source": [
    "#### **Problem #1.12**\n",
    "\n",
    "What is the range of GDP values among the states?"
   ]
  },
  {
   "cell_type": "code",
   "execution_count": 9,
   "metadata": {
    "id": "MxnSgKfGW6YX"
   },
   "outputs": [],
   "source": [
    "# range of GDP values"
   ]
  },
  {
   "cell_type": "markdown",
   "metadata": {
    "id": "Q0Fgq9OcVYeQ"
   },
   "source": [
    "#### **Problem #1.13**\n",
    "\n",
    "How many states have a population greater than 20 million?"
   ]
  },
  {
   "cell_type": "code",
   "execution_count": 10,
   "metadata": {
    "id": "V07n-gn_XEXc"
   },
   "outputs": [],
   "source": [
    "# list of states with population greater than 20 million\n"
   ]
  },
  {
   "cell_type": "markdown",
   "metadata": {
    "id": "Drvifp0dVdVt"
   },
   "source": [
    "#### **Problem #1.14**\n",
    "\n",
    "Explore the last row in the dataset."
   ]
  },
  {
   "cell_type": "code",
   "execution_count": 11,
   "metadata": {
    "id": "iRgm79MOXUaK"
   },
   "outputs": [],
   "source": [
    "# last row"
   ]
  },
  {
   "cell_type": "markdown",
   "metadata": {
    "id": "zl6J9CXNVqcP"
   },
   "source": [
    "#### **[ADVANCED] Problem #1.15**\n",
    "\n",
    "What is the average `GDP per capita` for the states? Divide `GDP per capita` by `Population (in millions)`."
   ]
  },
  {
   "cell_type": "code",
   "execution_count": 12,
   "metadata": {
    "id": "wTU7IGcnXyPZ"
   },
   "outputs": [],
   "source": [
    "# average GDP per capita"
   ]
  },
  {
   "cell_type": "markdown",
   "metadata": {
    "id": "XxQR7m6jcBOg"
   },
   "source": [
    "<a name=\"p2\"></a>\n",
    "\n",
    "---\n",
    "## **Part 2: [OPTIONAL] Data Visualization Review**\n",
    "---\n",
    "\n",
    "**Run the cell below to load in the data.**"
   ]
  },
  {
   "cell_type": "code",
   "execution_count": 13,
   "metadata": {
    "id": "3e2U3qBtVK-1"
   },
   "outputs": [
    {
     "data": {
      "text/html": [
       "<div>\n",
       "<style scoped>\n",
       "    .dataframe tbody tr th:only-of-type {\n",
       "        vertical-align: middle;\n",
       "    }\n",
       "\n",
       "    .dataframe tbody tr th {\n",
       "        vertical-align: top;\n",
       "    }\n",
       "\n",
       "    .dataframe thead th {\n",
       "        text-align: right;\n",
       "    }\n",
       "</style>\n",
       "<table border=\"1\" class=\"dataframe\">\n",
       "  <thead>\n",
       "    <tr style=\"text-align: right;\">\n",
       "      <th></th>\n",
       "      <th>Series_Title</th>\n",
       "      <th>Released_Year</th>\n",
       "      <th>Runtime (min)</th>\n",
       "      <th>Genre</th>\n",
       "      <th>IMDB_Rating</th>\n",
       "      <th>Overview</th>\n",
       "      <th>Director</th>\n",
       "      <th>Star1</th>\n",
       "      <th>Star2</th>\n",
       "      <th>Star3</th>\n",
       "      <th>Star4</th>\n",
       "      <th>No_of_Votes</th>\n",
       "      <th>Gross</th>\n",
       "    </tr>\n",
       "  </thead>\n",
       "  <tbody>\n",
       "    <tr>\n",
       "      <th>0</th>\n",
       "      <td>The Shawshank Redemption</td>\n",
       "      <td>1994</td>\n",
       "      <td>142</td>\n",
       "      <td>Drama</td>\n",
       "      <td>9.3</td>\n",
       "      <td>Two imprisoned men bond over a number of years...</td>\n",
       "      <td>Frank Darabont</td>\n",
       "      <td>Tim Robbins</td>\n",
       "      <td>Morgan Freeman</td>\n",
       "      <td>Bob Gunton</td>\n",
       "      <td>William Sadler</td>\n",
       "      <td>2343110</td>\n",
       "      <td>28341469</td>\n",
       "    </tr>\n",
       "    <tr>\n",
       "      <th>1</th>\n",
       "      <td>The Godfather</td>\n",
       "      <td>1972</td>\n",
       "      <td>175</td>\n",
       "      <td>Crime</td>\n",
       "      <td>9.2</td>\n",
       "      <td>An organized crime dynasty's aging patriarch t...</td>\n",
       "      <td>Francis Ford Coppola</td>\n",
       "      <td>Marlon Brando</td>\n",
       "      <td>Al Pacino</td>\n",
       "      <td>James Caan</td>\n",
       "      <td>Diane Keaton</td>\n",
       "      <td>1620367</td>\n",
       "      <td>134966411</td>\n",
       "    </tr>\n",
       "    <tr>\n",
       "      <th>2</th>\n",
       "      <td>The Dark Knight</td>\n",
       "      <td>2008</td>\n",
       "      <td>152</td>\n",
       "      <td>Action</td>\n",
       "      <td>9.0</td>\n",
       "      <td>When the menace known as the Joker wreaks havo...</td>\n",
       "      <td>Christopher Nolan</td>\n",
       "      <td>Christian Bale</td>\n",
       "      <td>Heath Ledger</td>\n",
       "      <td>Aaron Eckhart</td>\n",
       "      <td>Michael Caine</td>\n",
       "      <td>2303232</td>\n",
       "      <td>534858444</td>\n",
       "    </tr>\n",
       "    <tr>\n",
       "      <th>3</th>\n",
       "      <td>The Godfather: Part II</td>\n",
       "      <td>1974</td>\n",
       "      <td>202</td>\n",
       "      <td>Crime</td>\n",
       "      <td>9.0</td>\n",
       "      <td>The early life and career of Vito Corleone in ...</td>\n",
       "      <td>Francis Ford Coppola</td>\n",
       "      <td>Al Pacino</td>\n",
       "      <td>Robert De Niro</td>\n",
       "      <td>Robert Duvall</td>\n",
       "      <td>Diane Keaton</td>\n",
       "      <td>1129952</td>\n",
       "      <td>57300000</td>\n",
       "    </tr>\n",
       "    <tr>\n",
       "      <th>4</th>\n",
       "      <td>12 Angry Men</td>\n",
       "      <td>1957</td>\n",
       "      <td>96</td>\n",
       "      <td>Crime</td>\n",
       "      <td>9.0</td>\n",
       "      <td>A jury holdout attempts to prevent a miscarria...</td>\n",
       "      <td>Sidney Lumet</td>\n",
       "      <td>Henry Fonda</td>\n",
       "      <td>Lee J. Cobb</td>\n",
       "      <td>Martin Balsam</td>\n",
       "      <td>John Fiedler</td>\n",
       "      <td>689845</td>\n",
       "      <td>4360000</td>\n",
       "    </tr>\n",
       "  </tbody>\n",
       "</table>\n",
       "</div>"
      ],
      "text/plain": [
       "               Series_Title  Released_Year  Runtime (min)   Genre  \\\n",
       "0  The Shawshank Redemption           1994            142   Drama   \n",
       "1             The Godfather           1972            175   Crime   \n",
       "2           The Dark Knight           2008            152  Action   \n",
       "3    The Godfather: Part II           1974            202   Crime   \n",
       "4              12 Angry Men           1957             96   Crime   \n",
       "\n",
       "   IMDB_Rating                                           Overview  \\\n",
       "0          9.3  Two imprisoned men bond over a number of years...   \n",
       "1          9.2  An organized crime dynasty's aging patriarch t...   \n",
       "2          9.0  When the menace known as the Joker wreaks havo...   \n",
       "3          9.0  The early life and career of Vito Corleone in ...   \n",
       "4          9.0  A jury holdout attempts to prevent a miscarria...   \n",
       "\n",
       "               Director           Star1           Star2          Star3  \\\n",
       "0        Frank Darabont     Tim Robbins  Morgan Freeman     Bob Gunton   \n",
       "1  Francis Ford Coppola   Marlon Brando       Al Pacino     James Caan   \n",
       "2     Christopher Nolan  Christian Bale    Heath Ledger  Aaron Eckhart   \n",
       "3  Francis Ford Coppola       Al Pacino  Robert De Niro  Robert Duvall   \n",
       "4          Sidney Lumet     Henry Fonda     Lee J. Cobb  Martin Balsam   \n",
       "\n",
       "            Star4  No_of_Votes      Gross  \n",
       "0  William Sadler      2343110   28341469  \n",
       "1    Diane Keaton      1620367  134966411  \n",
       "2   Michael Caine      2303232  534858444  \n",
       "3    Diane Keaton      1129952   57300000  \n",
       "4    John Fiedler       689845    4360000  "
      ]
     },
     "execution_count": 13,
     "metadata": {},
     "output_type": "execute_result"
    }
   ],
   "source": [
    "url = \"https://docs.google.com/spreadsheets/d/e/2PACX-1vS9jPkeKJ8QUuAl-fFdg3nJPDP6vx1byvIBl4yW8UZZJ9QEscyALJp1eywKeAg7aAffwdKP63D9osF1/pub?gid=169291584&single=true&output=csv\"\n",
    "movie_df = pd.read_csv(url)\n",
    "\n",
    "movie_df.drop_duplicates(inplace=True)\n",
    "\n",
    "mean_runtime = movie_df['Runtime'].mean()\n",
    "movie_df['Runtime'] = movie_df['Runtime'].fillna(mean_runtime)\n",
    "\n",
    "movie_df = movie_df.rename(columns = {\"Runtime\": \"Runtime (min)\"})\n",
    "movie_df = movie_df.astype({\"Runtime (min)\": \"int64\"})\n",
    "\n",
    "movie_df.head()"
   ]
  },
  {
   "cell_type": "markdown",
   "metadata": {
    "id": "TmujqDuMDmua"
   },
   "source": [
    "#### **Problem #2.1**\n",
    "\n",
    "Create a scatterplot using `Runtime (min)` as the x-axis value and `Gross` as the y-axis value.\n",
    "\n",
    "Make sure to include a meaningful:\n",
    "* `Title`: \"Gross Money vs. Runtime:\n",
    "* `X-axis`: \"Gross (USD)\"\n",
    "* `Y-axis`: \"Runtime (min)\""
   ]
  },
  {
   "cell_type": "code",
   "execution_count": null,
   "metadata": {
    "id": "4z1ytVFrDmub"
   },
   "outputs": [],
   "source": []
  },
  {
   "cell_type": "markdown",
   "metadata": {
    "id": "8kCYTBSCFaM9"
   },
   "source": [
    "#### **Problem #2.2**\n",
    "\n",
    "Create a scatterplot using `Released_Year` as the x-axis value and `Runtime (min)` as the y-axis value.\n",
    "\n",
    "Make sure to include a meaningful:\n",
    "* `Title`: \"Runtime vs. Released_Year\"\n",
    "* `X-axis`: \"Year\"\n",
    "* `Y-axis`: \"Runtime (min)\""
   ]
  },
  {
   "cell_type": "code",
   "execution_count": null,
   "metadata": {
    "id": "wAuYh9xqFaM-"
   },
   "outputs": [],
   "source": []
  },
  {
   "cell_type": "markdown",
   "metadata": {
    "id": "A7ZZMz9CJQKU"
   },
   "source": [
    "#### **Problem #2.3**\n",
    "\n",
    "Create a *lineplot* using `Runtime (min)` as the x-axis value and `Gross` as the y-axis value.\n",
    "\n",
    "Make sure to include a meaningful:\n",
    "* Title, ex: `'Gross Money vs. Runtime'`.\n",
    "* X-axis label including units `'min'`.\n",
    "* Y-axis label including units `'USD'`.\n",
    "\n",
    "<br>\n",
    "\n",
    "**NOTE**: This is not going to be a particularly helpful graph (the scatter plot is a better choice), but we oftentimes will not know this ahead of time. A lot of EDA and visualizations involves trying a number of things and seeing what is useful."
   ]
  },
  {
   "cell_type": "code",
   "execution_count": null,
   "metadata": {
    "id": "V9Nwq-BhJQKU"
   },
   "outputs": [],
   "source": []
  },
  {
   "cell_type": "markdown",
   "metadata": {
    "id": "h9Xvd-tBJkja"
   },
   "source": [
    "#### **Problem #2.4**\n",
    "\n",
    "Create a *lineplot* using `Released_Year` as the x-axis value and `Average Gross in Year` as the y-axis value.\n",
    "\n",
    "Make sure to include a meaningful:\n",
    "* Title, ex: `'Average Gross Money vs. Released Year'`.\n",
    "* X-axis label.\n",
    "* Y-axis label including units `'USD'`."
   ]
  },
  {
   "cell_type": "code",
   "execution_count": 14,
   "metadata": {
    "id": "Tugg473VJkjb"
   },
   "outputs": [
    {
     "ename": "SyntaxError",
     "evalue": "unexpected EOF while parsing (2632197534.py, line 1)",
     "output_type": "error",
     "traceback": [
      "\u001b[0;36m  File \u001b[0;32m\"/tmp/ipykernel_163/2632197534.py\"\u001b[0;36m, line \u001b[0;32m1\u001b[0m\n\u001b[0;31m    mean_gross = movie_df.groupby(# COMPLETE THIS LINE\u001b[0m\n\u001b[0m                                                      ^\u001b[0m\n\u001b[0;31mSyntaxError\u001b[0m\u001b[0;31m:\u001b[0m unexpected EOF while parsing\n"
     ]
    }
   ],
   "source": [
    "mean_gross = movie_df.groupby(# COMPLETE THIS LINE\n"
   ]
  },
  {
   "cell_type": "markdown",
   "metadata": {
    "id": "ZBbQ_A7SHG84"
   },
   "source": [
    "#### **Problem #2.5**\n",
    "\n",
    "Create a bar plot of the number of movies released per year.\n",
    "\n",
    "Use the DataFrame provided, `movies_per_year` and make sure to include a meaningful:\n",
    "* Title.\n",
    "* X-axis label.\n",
    "* Y-axis label."
   ]
  },
  {
   "cell_type": "code",
   "execution_count": null,
   "metadata": {
    "id": "1mgDNmnWHG85"
   },
   "outputs": [],
   "source": [
    "movies_per_year = movie_df['Released_Year'].value_counts()\n",
    "\n",
    "plt.bar(movies_per_year.index, # COMPLETE THIS CODE"
   ]
  },
  {
   "cell_type": "markdown",
   "metadata": {
    "id": "hA9Yjy0UGHtS"
   },
   "source": [
    "#### **Problem #2.6**\n",
    "\n",
    "Create a bar plot of the number of Dramas released per year.\n",
    "\n",
    "Use the DataFrame provided, `movies_per_year` and make sure to include a meaningful:\n",
    "* Title.\n",
    "* X-axis label.\n",
    "* Y-axis label.\n",
    "\n",
    "<br>\n",
    "\n",
    "**Hint**: Recall that you can use `.loc[CRITERIA, :]` to find all data matching given criteria and the example in Problem #6 for finding the number of movies realeased per year."
   ]
  },
  {
   "cell_type": "code",
   "execution_count": null,
   "metadata": {
    "id": "OTLvzDLNGHtT"
   },
   "outputs": [],
   "source": [
    "# COMPLETE THIS CODE"
   ]
  },
  {
   "cell_type": "markdown",
   "metadata": {
    "id": "4MNrBgFrz4ET"
   },
   "source": [
    "<a name=\"p3\"></a>\n",
    "\n",
    "---\n",
    "## **Part 3: [OPTIONAL] Linear Regression Review**\n",
    "---\n",
    "\n",
    "In this part, we will model the relationship between the numerical features and the `Runtime (min)` variable as the label using linear regression."
   ]
  },
  {
   "cell_type": "markdown",
   "metadata": {
    "id": "YQPB7XZ9v-sn"
   },
   "source": [
    "#### **Step #1: Load the data**\n",
    "\n",
    "Reload the data below, even if you did this in Part 2."
   ]
  },
  {
   "cell_type": "code",
   "execution_count": 18,
   "metadata": {
    "id": "C1rwfTb_rXia"
   },
   "outputs": [
    {
     "data": {
      "text/html": [
       "<div>\n",
       "<style scoped>\n",
       "    .dataframe tbody tr th:only-of-type {\n",
       "        vertical-align: middle;\n",
       "    }\n",
       "\n",
       "    .dataframe tbody tr th {\n",
       "        vertical-align: top;\n",
       "    }\n",
       "\n",
       "    .dataframe thead th {\n",
       "        text-align: right;\n",
       "    }\n",
       "</style>\n",
       "<table border=\"1\" class=\"dataframe\">\n",
       "  <thead>\n",
       "    <tr style=\"text-align: right;\">\n",
       "      <th></th>\n",
       "      <th>Series_Title</th>\n",
       "      <th>Released_Year</th>\n",
       "      <th>Runtime (min)</th>\n",
       "      <th>Genre</th>\n",
       "      <th>IMDB_Rating</th>\n",
       "      <th>Overview</th>\n",
       "      <th>Director</th>\n",
       "      <th>Star1</th>\n",
       "      <th>Star2</th>\n",
       "      <th>Star3</th>\n",
       "      <th>Star4</th>\n",
       "      <th>No_of_Votes</th>\n",
       "      <th>Gross</th>\n",
       "    </tr>\n",
       "  </thead>\n",
       "  <tbody>\n",
       "    <tr>\n",
       "      <th>0</th>\n",
       "      <td>The Shawshank Redemption</td>\n",
       "      <td>1994</td>\n",
       "      <td>142</td>\n",
       "      <td>Drama</td>\n",
       "      <td>9.3</td>\n",
       "      <td>Two imprisoned men bond over a number of years...</td>\n",
       "      <td>Frank Darabont</td>\n",
       "      <td>Tim Robbins</td>\n",
       "      <td>Morgan Freeman</td>\n",
       "      <td>Bob Gunton</td>\n",
       "      <td>William Sadler</td>\n",
       "      <td>2343110</td>\n",
       "      <td>28341469</td>\n",
       "    </tr>\n",
       "    <tr>\n",
       "      <th>1</th>\n",
       "      <td>The Godfather</td>\n",
       "      <td>1972</td>\n",
       "      <td>175</td>\n",
       "      <td>Crime</td>\n",
       "      <td>9.2</td>\n",
       "      <td>An organized crime dynasty's aging patriarch t...</td>\n",
       "      <td>Francis Ford Coppola</td>\n",
       "      <td>Marlon Brando</td>\n",
       "      <td>Al Pacino</td>\n",
       "      <td>James Caan</td>\n",
       "      <td>Diane Keaton</td>\n",
       "      <td>1620367</td>\n",
       "      <td>134966411</td>\n",
       "    </tr>\n",
       "    <tr>\n",
       "      <th>2</th>\n",
       "      <td>The Dark Knight</td>\n",
       "      <td>2008</td>\n",
       "      <td>152</td>\n",
       "      <td>Action</td>\n",
       "      <td>9.0</td>\n",
       "      <td>When the menace known as the Joker wreaks havo...</td>\n",
       "      <td>Christopher Nolan</td>\n",
       "      <td>Christian Bale</td>\n",
       "      <td>Heath Ledger</td>\n",
       "      <td>Aaron Eckhart</td>\n",
       "      <td>Michael Caine</td>\n",
       "      <td>2303232</td>\n",
       "      <td>534858444</td>\n",
       "    </tr>\n",
       "    <tr>\n",
       "      <th>3</th>\n",
       "      <td>The Godfather: Part II</td>\n",
       "      <td>1974</td>\n",
       "      <td>202</td>\n",
       "      <td>Crime</td>\n",
       "      <td>9.0</td>\n",
       "      <td>The early life and career of Vito Corleone in ...</td>\n",
       "      <td>Francis Ford Coppola</td>\n",
       "      <td>Al Pacino</td>\n",
       "      <td>Robert De Niro</td>\n",
       "      <td>Robert Duvall</td>\n",
       "      <td>Diane Keaton</td>\n",
       "      <td>1129952</td>\n",
       "      <td>57300000</td>\n",
       "    </tr>\n",
       "    <tr>\n",
       "      <th>4</th>\n",
       "      <td>12 Angry Men</td>\n",
       "      <td>1957</td>\n",
       "      <td>96</td>\n",
       "      <td>Crime</td>\n",
       "      <td>9.0</td>\n",
       "      <td>A jury holdout attempts to prevent a miscarria...</td>\n",
       "      <td>Sidney Lumet</td>\n",
       "      <td>Henry Fonda</td>\n",
       "      <td>Lee J. Cobb</td>\n",
       "      <td>Martin Balsam</td>\n",
       "      <td>John Fiedler</td>\n",
       "      <td>689845</td>\n",
       "      <td>4360000</td>\n",
       "    </tr>\n",
       "  </tbody>\n",
       "</table>\n",
       "</div>"
      ],
      "text/plain": [
       "               Series_Title  Released_Year  Runtime (min)   Genre  \\\n",
       "0  The Shawshank Redemption           1994            142   Drama   \n",
       "1             The Godfather           1972            175   Crime   \n",
       "2           The Dark Knight           2008            152  Action   \n",
       "3    The Godfather: Part II           1974            202   Crime   \n",
       "4              12 Angry Men           1957             96   Crime   \n",
       "\n",
       "   IMDB_Rating                                           Overview  \\\n",
       "0          9.3  Two imprisoned men bond over a number of years...   \n",
       "1          9.2  An organized crime dynasty's aging patriarch t...   \n",
       "2          9.0  When the menace known as the Joker wreaks havo...   \n",
       "3          9.0  The early life and career of Vito Corleone in ...   \n",
       "4          9.0  A jury holdout attempts to prevent a miscarria...   \n",
       "\n",
       "               Director           Star1           Star2          Star3  \\\n",
       "0        Frank Darabont     Tim Robbins  Morgan Freeman     Bob Gunton   \n",
       "1  Francis Ford Coppola   Marlon Brando       Al Pacino     James Caan   \n",
       "2     Christopher Nolan  Christian Bale    Heath Ledger  Aaron Eckhart   \n",
       "3  Francis Ford Coppola       Al Pacino  Robert De Niro  Robert Duvall   \n",
       "4          Sidney Lumet     Henry Fonda     Lee J. Cobb  Martin Balsam   \n",
       "\n",
       "            Star4  No_of_Votes      Gross  \n",
       "0  William Sadler      2343110   28341469  \n",
       "1    Diane Keaton      1620367  134966411  \n",
       "2   Michael Caine      2303232  534858444  \n",
       "3    Diane Keaton      1129952   57300000  \n",
       "4    John Fiedler       689845    4360000  "
      ]
     },
     "execution_count": 18,
     "metadata": {},
     "output_type": "execute_result"
    }
   ],
   "source": [
    "url = \"https://docs.google.com/spreadsheets/d/e/2PACX-1vS9jPkeKJ8QUuAl-fFdg3nJPDP6vx1byvIBl4yW8UZZJ9QEscyALJp1eywKeAg7aAffwdKP63D9osF1/pub?gid=169291584&single=true&output=csv\"\n",
    "movie_df = pd.read_csv(url)\n",
    "\n",
    "movie_df.drop_duplicates(inplace=True)\n",
    "\n",
    "mean_runtime = movie_df['Runtime'].mean()\n",
    "movie_df['Runtime'] = movie_df['Runtime'].fillna(mean_runtime)\n",
    "\n",
    "movie_df = movie_df.rename(columns = {\"Runtime\": \"Runtime (min)\"})\n",
    "movie_df = movie_df.astype({\"Runtime (min)\": \"int64\"})\n",
    "\n",
    "movie_df.head()"
   ]
  },
  {
   "cell_type": "markdown",
   "metadata": {
    "id": "E5z0mLEQF565"
   },
   "source": [
    "#### **Step #2: Decide independent and dependent variables**\n",
    "\n",
    "Examining the DataFrame, choose only the numerical variables (other than `Runtime (min)`) for the features and `Runtime (min)` for the label.\n"
   ]
  },
  {
   "cell_type": "code",
   "execution_count": null,
   "metadata": {
    "id": "Le7RzFSXS7FW"
   },
   "outputs": [],
   "source": [
    "features = # COMPLETE THIS CODE\n",
    "label = # COMPLETE THIS CODE"
   ]
  },
  {
   "cell_type": "markdown",
   "metadata": {
    "id": "lMDn8ONk600c"
   },
   "source": [
    "#### **Step #3: Split data into training and testing data**\n",
    "\n",
    "Split the data using a 80 / 20 split."
   ]
  },
  {
   "cell_type": "code",
   "execution_count": null,
   "metadata": {
    "id": "IOuMRPdQlAVz"
   },
   "outputs": [],
   "source": [
    "X_train, X_test, y_train, y_test = train_test_split(# COMPLETE THIS CODE"
   ]
  },
  {
   "cell_type": "markdown",
   "metadata": {
    "id": "5ADG4KRM69dJ"
   },
   "source": [
    "#### **Step #4: Import your model**"
   ]
  },
  {
   "cell_type": "code",
   "execution_count": null,
   "metadata": {
    "id": "VZMm4IAClBLO"
   },
   "outputs": [],
   "source": [
    "# COMPLETE THIS CODE"
   ]
  },
  {
   "cell_type": "markdown",
   "metadata": {
    "id": "PFUiA67CHAMc"
   },
   "source": [
    "#### **Step #5: Initialize your model and set hyperparameters**\n",
    "\n",
    "\n",
    "Linear regression takes no hyperparameters, so just initialize the model."
   ]
  },
  {
   "cell_type": "code",
   "execution_count": null,
   "metadata": {
    "id": "faXqWmQElEFD"
   },
   "outputs": [],
   "source": []
  },
  {
   "cell_type": "markdown",
   "metadata": {
    "id": "xMnlj4W0HF9U"
   },
   "source": [
    "#### **Step #6: Fit your model, test on the testing data, and create a visualization if applicable**"
   ]
  },
  {
   "cell_type": "code",
   "execution_count": null,
   "metadata": {
    "id": "h5iPDJmJlFAQ"
   },
   "outputs": [],
   "source": []
  },
  {
   "cell_type": "markdown",
   "metadata": {
    "id": "6DmQtTt9HNJE"
   },
   "source": [
    "##### **Create a visualization**\n",
    "\n",
    "Use `y_test` and your `prediction` from the model to create a scatter plot. Then use the following line to visualize where a correct prediction would be. The code has already been given to you.\n",
    "```\n",
    "plt.plot([y_test.min(), y_test.max()], [y_test.min(), y_test.max()], '--k', label=\"Correct prediction\")\n",
    "```"
   ]
  },
  {
   "cell_type": "code",
   "execution_count": null,
   "metadata": {
    "id": "-kRYw_V5y9qP"
   },
   "outputs": [],
   "source": [
    "plt.figure(figsize=(8, 8))\n",
    "\n",
    "plt.scatter(# COMPLETE THIS CODE\n",
    "plt.plot(# COMPLETE THIS CODE, '--k', label=\"Correct prediction\")\\\n",
    "\n",
    "plt.xlabel(# COMPLETE THIS CODE\n",
    "plt.ylabel(# COMPLETE THIS CODE\n",
    "plt.title(# COMPLETE THIS CODE\n",
    "\n",
    "\n",
    "plt.legend()"
   ]
  },
  {
   "cell_type": "markdown",
   "metadata": {
    "id": "9hqWuSqc7Tpp"
   },
   "source": [
    "#### **Step #7: Evaluate your model**\n",
    "\n",
    "Use mean squared error and the R2 score as the evaluation metrics.\n"
   ]
  },
  {
   "cell_type": "code",
   "execution_count": null,
   "metadata": {
    "id": "9Q0ABlESlNDE"
   },
   "outputs": [],
   "source": []
  },
  {
   "cell_type": "markdown",
   "metadata": {
    "id": "kKm0SpTVQMkn"
   },
   "source": [
    "#### **Step #8: Use the model**\n",
    "\n",
    "Using the model we created, predict the disease progression of two new patients:\n",
    "\n",
    "* Patient 1:  age 45, bmi of 26.3, and average blood pressure of 98\n",
    "\n",
    "* Patient 2:  age 39, bmi of 22.7, and average blood pressure of 114\n",
    "\n",
    "**NOTE**: you must create a dataframe containing with the information of the new patients:\n",
    "\n",
    "```python\n",
    "new_patient_data = pd.DataFrame(new_patient_data_here, columns =[\"AGE\", \"BMI\", \"BP\"])\n",
    "```"
   ]
  },
  {
   "cell_type": "code",
   "execution_count": null,
   "metadata": {
    "colab": {
     "base_uri": "https://localhost:8080/",
     "height": 300
    },
    "executionInfo": {
     "elapsed": 148,
     "status": "ok",
     "timestamp": 1708355493983,
     "user": {
      "displayName": "Tristin Rice",
      "userId": "01719244519041825611"
     },
     "user_tz": 300
    },
    "id": "I6lImblY6OM-",
    "outputId": "4c954ec1-a42b-4a38-dd6b-32d024fd59c5"
   },
   "outputs": [],
   "source": [
    "movie_df.describe()"
   ]
  },
  {
   "cell_type": "markdown",
   "metadata": {
    "id": "rYNYANc_0lN6"
   },
   "source": [
    "<a name=\"p4\"></a>\n",
    "\n",
    "---\n",
    "## **Part 4: 2015 World Happiness Report Project**\n",
    "---\n",
    "\n",
    "### **Description**\n",
    "In this project, you will use what you have learned so far about the machine learning process and Linear Regression to analyze the official 2015 World Happiness Report from the United Nations. In particular, you will explore and visualize this data and then model the Happiness Score based on the variables reported in this dataset.\n",
    "\n",
    "<br>\n",
    "\n",
    "\n",
    "### **Overview**\n",
    "For this project, you are given data collected for the 2015 UN Happiness Report. The 2015 Happiness Report, also known as the World Happiness Report 2015, is a publication that presents rankings of countries based on their levels of happiness and well-being. The report is a collaborative effort between the Sustainable Development Solutions Network (SDSN) and the Earth Institute at Columbia University, with contributions from various researchers and experts.\n",
    "\n",
    "<br>\n",
    "\n",
    "The report includes rankings of 158 countries based on the \"World Happiness Index,\" which is calculated using survey data from the Gallup World Poll and other sources. The index combines factors such as GDP per capita, social support, healthy life expectancy, freedom to make life choices, generosity, and perceptions of corruption to assess overall happiness levels.\n",
    "\n",
    "<br>\n",
    "\n",
    "The 2015 Happiness Report sheds light on the relationship between happiness, well-being, and sustainable development, emphasizing the importance of incorporating measures of happiness into policy-making and development strategies. It provides valuable insights into global happiness levels, highlighting the factors that contribute to happiness and offering recommendations for policymakers and individuals to improve overall well-being.\n",
    "\n",
    "<br>\n",
    "\n",
    " Everything you need is provided below. But, if you are curious to learn more the [official source can be found here](https://worldhappiness.report/ed/2015/#appendices-and-data). Here is a list of variables for your reference:\n",
    "\n",
    "* `Country`: The country that the data corresponds to.\n",
    "\n",
    "* `Region`: The region that this country is classified as belong to.\n",
    "\n",
    "* `Happiness Score`: A metric measured in 2015 by asking the sampled people the question: \"How would you rate your happiness on a scale of 0 to 10 where 10 is the happiest.\"\n",
    "\n",
    "* `GDP`: The extent to which GDP contributes to the calculation of the Happiness Score.\n",
    "\n",
    "* `Social Support`: The extent to which Family contributes to the calculation of the Happiness Score\n",
    "\n",
    "* `Health Life Expectancy`: The extent to which Life expectancy contributed to the calculation of the Happiness Score\n",
    "\n",
    "* `Freedom`: The extent to which Freedom contributed to the calculation of the Happiness Score.\n",
    "\n",
    "* `Corruption Perception`: The extent to which Perception of Corruption contributes to Happiness Score.\n",
    "\n",
    "* `Generosity`: A model of the national average of response to the question “Have you donated money to a charity in the past month?” on GDP per\n",
    "capita.\n",
    "\n",
    "**NOTE**: All numerical variables except `Happiness Score` have already been standardized.\n",
    "\n",
    "<br>\n",
    "\n",
    "### **Key questions to answer**\n",
    "1. How do these variables, such as `Generosity` or `Freedom`, influence a country's `Happiness Score`?\n",
    "\n",
    "2. In 2015, which nation had the highest `Happiness Score`? Which nation had the lowest `Happiness Score`?\n",
    "\n",
    "3. What patterns can be observed visually? What patterns can be observed with deeper data exploration?"
   ]
  },
  {
   "cell_type": "markdown",
   "metadata": {
    "id": "PW6EDtnXdczv"
   },
   "source": [
    "<a name=\"p4.1\"></a>\n",
    "\n",
    "---\n",
    "### **Part 4.1: Data Exploration, Wrangling, and Visualization**\n",
    "---\n",
    "\n",
    "In this part, you will load in and explore the dataset for this project. This will involve using functions from pandas as well as reading source material to understand the data that you are working with.\n",
    "\n",
    "**NOTE**: In most real world situations, you will not do data exploration, wrangling, and visualization separately as we have done in the past. As such, you will simply be asked to perform tasks throughout this section without explicitly distinguishing between exploration, wrangling, and visualization.\n",
    "\n",
    "<br>\n",
    "\n",
    "**Run the code below to load in the data.**"
   ]
  },
  {
   "cell_type": "code",
   "execution_count": null,
   "metadata": {
    "id": "hRZBMlvDZn5U"
   },
   "outputs": [],
   "source": [
    "url = \"https://docs.google.com/spreadsheets/d/e/2PACX-1vSUoGLZ90Qr6A5-DmdYD30CIEwMqIAmtWSbdcLgi10u5WoCtCuj_RuSm7wDsFsfcwPGRB6ZZDduCxpO/pub?gid=108149846&single=true&output=csv\"\n",
    "\n",
    "happy_df = pd.read_csv(url)"
   ]
  },
  {
   "cell_type": "markdown",
   "metadata": {
    "id": "NhuunxzY8Sxx"
   },
   "source": [
    "#### **Problem #4.1.1**\n",
    "\n",
    "Spend a few minutes getting familiar with the data. Some things to consider: how many instances are there? How many features? What are the features' datatypes?"
   ]
  },
  {
   "cell_type": "code",
   "execution_count": null,
   "metadata": {
    "id": "NqsdS5NXcwR8"
   },
   "outputs": [],
   "source": []
  },
  {
   "cell_type": "markdown",
   "metadata": {
    "id": "SN4uAbT-0GLi"
   },
   "source": [
    "#### **Problem #4.1.2**\n",
    "\n",
    "This data currently has no consistent naming convention for columns, which is very bad practice. So, rename each column to be of the style, `'Column Name'`, where each word is separated by a space (not an underscore, slash, or anything else) and starts uppercase. Furthermore, make sure all words are spelled correctly.\n",
    "\n",
    "<br>\n",
    "\n",
    "**Hint**: It may make you life easier to quickly print the current column names here using the `.columns` attribute."
   ]
  },
  {
   "cell_type": "code",
   "execution_count": null,
   "metadata": {
    "id": "T1dokwjC0GLj"
   },
   "outputs": [],
   "source": []
  },
  {
   "cell_type": "markdown",
   "metadata": {
    "id": "f5ZW7Yo_ypkD"
   },
   "source": [
    "#### **Problem #4.1.3**\n",
    "\n",
    "Drop any duplicate rows."
   ]
  },
  {
   "cell_type": "code",
   "execution_count": null,
   "metadata": {
    "id": "t3srgtUjypkE"
   },
   "outputs": [],
   "source": []
  },
  {
   "cell_type": "markdown",
   "metadata": {
    "id": "9k5LjqCxwpHa"
   },
   "source": [
    "#### **Problem #4.1.4**\n",
    "\n",
    "Determine the datatypes of each feature. Determine the number of non-null values in each column."
   ]
  },
  {
   "cell_type": "code",
   "execution_count": null,
   "metadata": {
    "id": "D9tg8YBiwpHb"
   },
   "outputs": [],
   "source": []
  },
  {
   "cell_type": "markdown",
   "metadata": {
    "id": "eIcT3HdYy0Tz"
   },
   "source": [
    "#### **Problem #4.1.5**\n",
    "\n",
    "You should have seen from Problem #1.4 that there are 3 columns with null values. We need to either impute by filling with the average or drop the rows with null values.\n",
    "\n",
    "\n",
    "Let's deal with these columns by type, specifically:\n",
    "1. Impute or drop the numerical null values.\n",
    "2. Impute or drop the object (string) null values."
   ]
  },
  {
   "cell_type": "markdown",
   "metadata": {
    "id": "kZJ25BOCTusV"
   },
   "source": [
    "##### **1. Impute or drop the numerical null values.**\n",
    "\n",
    "Complete the code below to *drop* the numerical null values. There's an argument for dropping or imputing, but dropping is a safer choice that does not rely on making any assumptions about these variables."
   ]
  },
  {
   "cell_type": "code",
   "execution_count": null,
   "metadata": {
    "id": "X463Ho8By0Tz"
   },
   "outputs": [],
   "source": [
    "happy_df = happy_df.dropna(axis = 0, how='any', subset = [# COMPLETE THIS LINE"
   ]
  },
  {
   "cell_type": "markdown",
   "metadata": {
    "id": "o43u1mzRUYH0"
   },
   "source": [
    "##### **2. Impute or drop the object (string) null values.**\n",
    "\n",
    "Complete the code below to *impute* the object (string) null value(s). This is something we can look up, so it's completely reasonable to fill in the missing values manually and not have to sacrifice more data points.\n",
    "\n",
    "<br>\n",
    "\n",
    "**NOTE**: You will likely need to use the following three commands to accomplish this:\n",
    "\n",
    "1. `happy_df[happy_df['column name'].isnull()]`: Print the specific data point(s) with a null value for `'column name'`.\n",
    "2. `happy_df['column name'].unique()`: Print the possible values that we could use to fill in the null value found above.\n",
    "3. `happy_df.loc[happy_df['column name'].isnull(), 'column name'] = 'non-null value'`: Fill in the null value with a new value. This should be the best option from the list of unique values found above."
   ]
  },
  {
   "cell_type": "code",
   "execution_count": null,
   "metadata": {
    "id": "5qKWwPnPUv9u"
   },
   "outputs": [],
   "source": []
  },
  {
   "cell_type": "code",
   "execution_count": null,
   "metadata": {
    "id": "WduNjaE2V-dS"
   },
   "outputs": [],
   "source": []
  },
  {
   "cell_type": "code",
   "execution_count": null,
   "metadata": {
    "id": "ri19lCOQWBId"
   },
   "outputs": [],
   "source": []
  },
  {
   "cell_type": "markdown",
   "metadata": {
    "id": "0sOSncGP8fNU"
   },
   "source": [
    "#### **Problem #4.1.6**\n",
    "\n",
    "Now that the data should be clean, take some time to understand the variables in this dataset, by looking at the [official statistical appendix/codebook here](https://s3.amazonaws.com/happiness-report/2015/StatisticalAppendixWHR3-April-16-2015.pdf) and answering the multiple choice questions below.\n",
    "\n",
    "You will only need to refer to the first 2.5 pages of information, until they start mentioning the \"expanded data set\". You do not need to read anything after this.\n",
    "\n",
    "<br>\n",
    "\n",
    "**1. Which of the following best describes the `Happiness Score`?**\n",
    "\n",
    ">**a.** We can also call this measure the \"life ladder”.\n",
    "\n",
    ">**b.** We can also call this measure the “objective well-being”.\n",
    "\n",
    ">**c.** This is a measure of how many ladders people own in a country on average. The more ladders, the happier the people.\n",
    "\n",
    ">**d.** Respondents were asked how happy they were on a scale of 1 - 10.\n",
    "\n",
    "<br>\n",
    "\n",
    "**2. How is `Social Support` measured?**\n",
    "\n",
    ">**a.** This represents the average of responses on a scale of 1 - 10.\n",
    "\n",
    ">**b.** This is measured differently for each country.\n",
    "\n",
    ">**c**. Respondents were asked, “If you were in trouble, would you have support?”\n",
    "\n",
    ">**d.** Respondents were asked, “If you were in trouble, do you have relatives or friends you can count on to help you whenever you need them, or not?”\n",
    "\n",
    "<br>\n",
    "\n",
    "**3. How is `Freedom` measured?**\n",
    "\n",
    ">**a.** This represents the average of responses on a scale of 1 - 10.\n",
    "\n",
    ">**b.** This is measured differently for each country.\n",
    "\n",
    ">**c**. Respondents were asked, “Are you satisfied or dissatisfied with your freedom to choose what you do with your life?”\n",
    "\n",
    ">**d.** Respondents were asked, “How free are you?”"
   ]
  },
  {
   "cell_type": "code",
   "execution_count": null,
   "metadata": {
    "id": "P-KFjeVWXhgl"
   },
   "outputs": [],
   "source": [
    "# ENTER YOUR ANSWER TO 1 HERE"
   ]
  },
  {
   "cell_type": "code",
   "execution_count": null,
   "metadata": {
    "id": "YHP1QIDaXjpU"
   },
   "outputs": [],
   "source": [
    "# ENTER YOUR ANSWER TO 2 HERE"
   ]
  },
  {
   "cell_type": "code",
   "execution_count": null,
   "metadata": {
    "id": "vaOGD6ifXk8M"
   },
   "outputs": [],
   "source": [
    "# ENTER YOUR ANSWER TO 3 HERE"
   ]
  },
  {
   "cell_type": "markdown",
   "metadata": {
    "id": "1pSRy496-WVf"
   },
   "source": [
    "#### **Problem #4.1.7**\n",
    "\n",
    "Determine the average (mean) and standard deviation (std) of the numerical variables."
   ]
  },
  {
   "cell_type": "code",
   "execution_count": null,
   "metadata": {
    "id": "X-GpnCl0tkcO"
   },
   "outputs": [],
   "source": []
  },
  {
   "cell_type": "markdown",
   "metadata": {
    "id": "tWCgavI9-q_b"
   },
   "source": [
    "#### **Problem #4.1.8**\n",
    "\n",
    "Determine all the regions that were included in this dataset."
   ]
  },
  {
   "cell_type": "code",
   "execution_count": null,
   "metadata": {
    "id": "2pNMjL4_t-Bh"
   },
   "outputs": [],
   "source": []
  },
  {
   "cell_type": "markdown",
   "metadata": {
    "id": "vD3nrzSPY9D9"
   },
   "source": [
    "#### **Problem #4.1.9**\n",
    "\n",
    "Complete the code below to create a new feature called `Region Encoded` that encodes the regions into numerical values."
   ]
  },
  {
   "cell_type": "code",
   "execution_count": null,
   "metadata": {
    "id": "mipCFd7AY9D9"
   },
   "outputs": [],
   "source": [
    "region_list = # COMPLETE THIS LINE\n",
    "region_map = {region_list[i]: i for i in range(len(region_list))}\n",
    "\n",
    "happy_df['Region Encoded'] = # COMPLETE THIS LINE\n",
    "\n",
    "happy_df.head()"
   ]
  },
  {
   "cell_type": "markdown",
   "metadata": {
    "id": "Qq1bhvR6-dYm"
   },
   "source": [
    "#### **Problem #4.1.10**\n",
    "\n",
    "Let's visualize some of the data and see if we can discover some relationships. Specifically, create bar graphs of `Happiness Score` for the countries in several different regions: `\"Middle East and Northern Africa\"`, `\"Southern Asia\"`, and `\"North America\"`.\n",
    "\n",
    "\n",
    "**NOTE:** Some of the code has already been provided for the first example to help you get started."
   ]
  },
  {
   "cell_type": "markdown",
   "metadata": {
    "id": "jrmSU9K1DTB6"
   },
   "source": [
    "##### **Middle East and Northern Africa**"
   ]
  },
  {
   "cell_type": "code",
   "execution_count": null,
   "metadata": {
    "id": "qrv4G4yTaUA8"
   },
   "outputs": [],
   "source": [
    "x = happy_df[happy_df[\"Region\"] == # COMPLETE THIS LINE\n",
    "y = # COMPLETE THIS LINE\n",
    "\n",
    "plt.# COMPLETE THIS LINE\n",
    "\n",
    "plt.title(# COMPLETE THIS LINE\n",
    "plt.xlabel(# COMPLETE THIS LINE\n",
    "plt.ylabel(# COMPLETE THIS LINE\n",
    "plt.xticks(rotation = 90)\n",
    "\n",
    "plt.show()"
   ]
  },
  {
   "cell_type": "markdown",
   "metadata": {
    "id": "7n3OX701DXUO"
   },
   "source": [
    "##### **Southern Asia**"
   ]
  },
  {
   "cell_type": "code",
   "execution_count": null,
   "metadata": {
    "id": "oty9jw9MaXUm"
   },
   "outputs": [],
   "source": []
  },
  {
   "cell_type": "markdown",
   "metadata": {
    "id": "QdV-HA4DaJGG"
   },
   "source": [
    "##### **North America**"
   ]
  },
  {
   "cell_type": "code",
   "execution_count": null,
   "metadata": {
    "id": "BMGWEHDoaX9O"
   },
   "outputs": [],
   "source": []
  },
  {
   "cell_type": "markdown",
   "metadata": {
    "id": "E9EZiL7Xb1cH"
   },
   "source": [
    "#### **Problem #4.1.11**\n",
    "\n",
    "Now, create scatter plots of `Happiness Score` on the y-axis versus several different numerical variables on the x-axis: `Social Support`, `Freedom`, and `GDP`."
   ]
  },
  {
   "cell_type": "markdown",
   "metadata": {
    "id": "B8J2nKMeEA34"
   },
   "source": [
    "##### **Happiness Score vs. Social Support**"
   ]
  },
  {
   "cell_type": "code",
   "execution_count": null,
   "metadata": {
    "id": "0MwCdyWTa7aQ"
   },
   "outputs": [],
   "source": []
  },
  {
   "cell_type": "markdown",
   "metadata": {
    "id": "ewxAlHaobC66"
   },
   "source": [
    "##### **Happiness Score vs. Freedom**"
   ]
  },
  {
   "cell_type": "code",
   "execution_count": null,
   "metadata": {
    "id": "-R8EnRWFbC66"
   },
   "outputs": [],
   "source": []
  },
  {
   "cell_type": "markdown",
   "metadata": {
    "id": "VciZBGV1bc9X"
   },
   "source": [
    "##### **Happiness Score vs. GDP**"
   ]
  },
  {
   "cell_type": "code",
   "execution_count": null,
   "metadata": {
    "id": "4O-NXhTHbc9g"
   },
   "outputs": [],
   "source": []
  },
  {
   "cell_type": "markdown",
   "metadata": {
    "id": "uQr8LsOKkeU5"
   },
   "source": [
    "#### **Reflection Questions**\n",
    "\n",
    "1. Is there a noticeable difference in happiness scores between different regions?\n",
    "2. Does any region display a significant disparity between its country with the highest happiness score and its country with the lowest?\n",
    "3. How do variables such as `Social Support`, `GDP`, and `Freedom` influence a country's happiness score? Do any variables seem to influence a country's happiness score more than others?\n",
    "4. What are other relationships between variables that you think may be useful to visualize? What kind of data visualization graph would you use?\n",
    "5. Consider the conceptual definitions of the features provided in the dataset. Are there any features that seem ambiguous or open to interpretation? How might these conceptual definitions impact the accuracy and reliability of the models when predicting happiness levels?\n",
    "6. Reflect on the cultural and contextual factors that may influence the interpretation and relevance of the features in different countries. How might the meaning of a specific feature differ across diverse cultural and socioeconomic contexts?"
   ]
  },
  {
   "cell_type": "markdown",
   "metadata": {
    "id": "tR2_M-tIYyfD"
   },
   "source": [
    "<a name=\"p4.2\"></a>\n",
    "\n",
    "---\n",
    "### **Part 4.2: Predicting Happiness Score**\n",
    "---\n",
    "\n",
    "Now you will create, evaluate, and train a machine learning model to predict the happiness score of a country based on the provided numerical features."
   ]
  },
  {
   "cell_type": "markdown",
   "metadata": {
    "id": "4rq3tDncvCOd"
   },
   "source": [
    "#### **Step #1: Load in the data**\n",
    "\n",
    "This step was completed above."
   ]
  },
  {
   "cell_type": "markdown",
   "metadata": {
    "id": "Lf5OrHhNifXL"
   },
   "source": [
    "#### **Step #2: Decide independent and dependent variables**\n",
    "\n",
    "Complete the code below to decide the independent and dependent variables.\n",
    "\n",
    "<br>\n",
    "\n",
    "**NOTE**: The dependent variable (label) for all of Part 2 is `Happiness Score`. Using one of several pandas functions, you can determine the numerical features available and use them all as the independent variables."
   ]
  },
  {
   "cell_type": "code",
   "execution_count": null,
   "metadata": {
    "id": "nt2s_Sh8gE2f"
   },
   "outputs": [],
   "source": [
    "happy_df.# COMPLETE THIS LINE"
   ]
  },
  {
   "cell_type": "code",
   "execution_count": null,
   "metadata": {
    "id": "roZfBwfPgEiY"
   },
   "outputs": [],
   "source": [
    "x = # COMPLETE THIS LINE\n",
    "y = # COMPLETE THIS LINE"
   ]
  },
  {
   "cell_type": "markdown",
   "metadata": {
    "id": "f2My4nq5gKNq"
   },
   "source": [
    "#### **Step #3: Split data into training and testing data**\n",
    "\n",
    "Complete the code below to split the data, using 80% for training and 20% for testing."
   ]
  },
  {
   "cell_type": "code",
   "execution_count": null,
   "metadata": {
    "id": "L-zVhDgvgXMD"
   },
   "outputs": [],
   "source": [
    "X_train, X_test, y_train, y_test = train_test_split(# COMPLETE THIS LINE"
   ]
  },
  {
   "cell_type": "markdown",
   "metadata": {
    "id": "CfiX_8hhg9n8"
   },
   "source": [
    "#### **Step #4: Import the algorithm**\n",
    "\n",
    "We are using `GDP`,\t`Social Support`,\t`Healthy Life Expectancy`, `Freedom`,\t`Corruption Perception`, `Generosity`, and \t`Region Encoded` to predict `Happiness Score`. Which algorithm is best suited for this goal?"
   ]
  },
  {
   "cell_type": "code",
   "execution_count": null,
   "metadata": {
    "id": "Cd1IkHtOg-Ig"
   },
   "outputs": [],
   "source": []
  },
  {
   "cell_type": "markdown",
   "metadata": {
    "id": "g2KE3jHPhKzg"
   },
   "source": [
    "#### **Step #5: Initialize the model and set hyperparameters**\n",
    "\n",
    "For linear regression, there are no hyperparameters to set."
   ]
  },
  {
   "cell_type": "code",
   "execution_count": null,
   "metadata": {
    "id": "elnmJ3iBhTKR"
   },
   "outputs": [],
   "source": [
    "model_1 = # COMPLETE THIS LINE"
   ]
  },
  {
   "cell_type": "markdown",
   "metadata": {
    "id": "0Xb5J75whk-Z"
   },
   "source": [
    "#### **Step #6: Fit your model and make a prediction.**\n",
    "\n",
    "Create a visualization if applicable.\n",
    "\n",
    "Specifically,\n",
    "\n",
    "1. Fit the model to the training data and make predictions on the test data.\n",
    "2. Visualize the results."
   ]
  },
  {
   "cell_type": "markdown",
   "metadata": {
    "id": "zEVQG9nT1P_c"
   },
   "source": [
    "##### **1. Fit the model to the training data.**"
   ]
  },
  {
   "cell_type": "code",
   "execution_count": null,
   "metadata": {
    "id": "c4SWvBhkiJzD"
   },
   "outputs": [],
   "source": [
    "model_1.# COMPLETE THIS LINE TO TRAIN\n",
    "predictions = model_1.# COMPLETE THIS LINE TO PREDICT"
   ]
  },
  {
   "cell_type": "markdown",
   "metadata": {
    "id": "j6ELbxOz1dEJ"
   },
   "source": [
    "##### **2. Visualize the results.**\n",
    "\n",
    "Compare the true test values versus the predicted values."
   ]
  },
  {
   "cell_type": "code",
   "execution_count": null,
   "metadata": {
    "id": "lHCCS8oz2ZPH"
   },
   "outputs": [],
   "source": []
  },
  {
   "cell_type": "markdown",
   "metadata": {
    "id": "nuqWq13eibD-"
   },
   "source": [
    "#### **Step #7: Evaluate the model's performance**\n",
    "\n",
    "To complete this step, you will need to recall or find out what evaluation metrics we typically use for whichever type of model you have trained."
   ]
  },
  {
   "cell_type": "code",
   "execution_count": null,
   "metadata": {
    "id": "Ezue7YozibD_"
   },
   "outputs": [],
   "source": []
  },
  {
   "cell_type": "markdown",
   "metadata": {
    "id": "LT_lgbfTjJlO"
   },
   "source": [
    "#### **Step #8: Use the model**\n",
    "\n",
    "Specifically,\n",
    "\n",
    "1. Predict the happiness score of three countries that reported provided results for their numerical measures.\n",
    "\n",
    "2. Visualize the modeled relationship between `Happinesss Score` and `Social Support` to see if a qualitative relationship can be inferred.\n",
    "\n",
    "3. Look at the coefficients and intercept to determine the modeled relationships quantitatively."
   ]
  },
  {
   "cell_type": "markdown",
   "metadata": {
    "id": "APzOK_U9NcDn"
   },
   "source": [
    "##### **1. Predict the happiness score of these countries that reported the following results for their numerical measures:**\n",
    "\n",
    "**Country 1**\n",
    "\n",
    "* `GDP`: 0.9\n",
    "* `Social Support`: 0.4\n",
    "* `Healthy Life Expectancy`: 0.8\n",
    "* `Freedom`: 0.4\n",
    "* `Corruption Perception`: 0.2\n",
    "* `Generosity`: 0.09\n",
    "* `Region Encoded`: 0\n",
    "\n",
    "<br>\n",
    "\n",
    "**Country 2**\n",
    "\n",
    "* `GDP`: 0.9\n",
    "* `Social Support`: 0.4\n",
    "* `Healthy Life Expectancy`: 0.8\n",
    "* `Freedom`: 0.4\n",
    "* `Corruption Perception`: 0.2\n",
    "* `Generosity`: 0.09\n",
    "* `Region Encoded`: 9\n",
    "\n",
    "<br>\n",
    "\n",
    "**Country 3**\n",
    "\n",
    "* `GDP`: 1.1\n",
    "* `Social Support`: 0.9\n",
    "* `Healthy Life Expectancy`: 1.01\n",
    "* `Freedom`: 0.9\n",
    "* `Corruption Perception`: 0.1\n",
    "* `Generosity`: 0.9\n",
    "* `Region Encoded`: 4"
   ]
  },
  {
   "cell_type": "code",
   "execution_count": null,
   "metadata": {
    "id": "ZOwDEPfUjrtj"
   },
   "outputs": [],
   "source": [
    "# COUNTRY 1\n",
    "new_country = pd.DataFrame([[# COMPLETE THIS LINE]], columns = X_test.columns)\n",
    "\n",
    "print(model_1.predict(# COMPLETE THIS LINE"
   ]
  },
  {
   "cell_type": "code",
   "execution_count": null,
   "metadata": {
    "id": "m6FTxs0dmKo5"
   },
   "outputs": [],
   "source": [
    "# COUNTRY 2\n",
    "# COMPLETE THIS CODE"
   ]
  },
  {
   "cell_type": "code",
   "execution_count": null,
   "metadata": {
    "id": "6CXK6HSEmMut"
   },
   "outputs": [],
   "source": [
    "# COUNTRY 3\n",
    "# COMPLETE THIS CODE"
   ]
  },
  {
   "cell_type": "markdown",
   "metadata": {
    "id": "oHo9E1DaNcMp"
   },
   "source": [
    "##### **2. Visualize the modeled relationship between `Happinesss Score` and `Social Support` to see if a qualitative relationship can be inferred.**"
   ]
  },
  {
   "cell_type": "code",
   "execution_count": null,
   "metadata": {
    "id": "wCcjKeGGmz5v"
   },
   "outputs": [],
   "source": []
  },
  {
   "cell_type": "markdown",
   "metadata": {
    "id": "YG6QrVIrNcSr"
   },
   "source": [
    "##### **3. Complete the cells below to look at the coefficients and intercept to determine the modeled relationships quantitatively.**"
   ]
  },
  {
   "cell_type": "code",
   "execution_count": null,
   "metadata": {
    "id": "1AI68Jupn6UR"
   },
   "outputs": [],
   "source": [
    "coefficients = model_1.# COMPLETE THIS LINE\n",
    "intercept = model_1.# COMPLETE THIS LINE\n",
    "\n",
    "coefficients = pd.DataFrame([coefficients], columns = X_test.columns)\n",
    "intercept = pd.DataFrame([intercept], columns = [\"Happiness Score\"])"
   ]
  },
  {
   "cell_type": "code",
   "execution_count": null,
   "metadata": {
    "id": "A4TnZL6fn6US"
   },
   "outputs": [],
   "source": [
    "print(\"Coefficients:\")\n",
    "coefficients.head()"
   ]
  },
  {
   "cell_type": "code",
   "execution_count": null,
   "metadata": {
    "id": "9MxeCWwsn6US"
   },
   "outputs": [],
   "source": [
    "print(\"\\nIntercept:\")\n",
    "intercept.head()"
   ]
  },
  {
   "cell_type": "markdown",
   "metadata": {
    "id": "jrhBusmaIq46"
   },
   "source": [
    "<a name=\"p5\"></a>\n",
    "\n",
    "---\n",
    "## **Part 5: [OPTIONAL] Homework Practice**\n",
    "---"
   ]
  },
  {
   "cell_type": "markdown",
   "metadata": {
    "id": "JC9VU5-TIgZA"
   },
   "source": [
    "\n",
    "\n",
    "---\n",
    "### **Part 5.1: [OPTIONAL] Exploratory Data Analysis**\n",
    "---\n",
    "\n",
    "\n",
    "**Run the code cell below to create the DataFrame.**"
   ]
  },
  {
   "cell_type": "code",
   "execution_count": null,
   "metadata": {
    "id": "zO9jXKORIYbX"
   },
   "outputs": [],
   "source": [
    "power_df = pd.read_csv('https://raw.githubusercontent.com/the-codingschool/TRAIN-datasets/main/wind%20generator%20power/power%20-%20T1.csv.csv')"
   ]
  },
  {
   "cell_type": "markdown",
   "metadata": {
    "id": "S4iUpw5sIgZH"
   },
   "source": [
    "#### **Problem #5.1.1**\n",
    "\n",
    "Using `.head()`, determine how many variables are included in this dataset."
   ]
  },
  {
   "cell_type": "code",
   "execution_count": null,
   "metadata": {
    "id": "MO_l1DVNIgZI"
   },
   "outputs": [],
   "source": [
    "# COMPLETE THIS CODE"
   ]
  },
  {
   "cell_type": "markdown",
   "metadata": {
    "id": "ZpLf6YX7fzoQ"
   },
   "source": [
    "#### **Problem #5.1.2**\n",
    "\n",
    "Determine if there are any null values in this dataset and, if so, drop the rows they are in."
   ]
  },
  {
   "cell_type": "code",
   "execution_count": null,
   "metadata": {
    "id": "gFO3NLy-fzoQ"
   },
   "outputs": [],
   "source": [
    "# COMPLETE THIS CODE"
   ]
  },
  {
   "cell_type": "markdown",
   "metadata": {
    "id": "GTBq0xu1f-j0"
   },
   "source": [
    "#### **Problem #5.1.3**\n",
    "\n",
    "Determine if there are any duplicate values in this dataset and, if so, drop the rows they are in."
   ]
  },
  {
   "cell_type": "code",
   "execution_count": null,
   "metadata": {
    "id": "AfGO8QvbgBqP"
   },
   "outputs": [],
   "source": [
    "# COMPLETE THIS CODE"
   ]
  },
  {
   "cell_type": "markdown",
   "metadata": {
    "id": "yyLH6rlHgDAl"
   },
   "source": [
    "#### **Problem #5.1.4**\n",
    "\n",
    "It is not possible in this case for the power generated to be negative. Check if there are any entries where `LV ActivePower (kW)` is negative and, if so, drop the rows they are in."
   ]
  },
  {
   "cell_type": "code",
   "execution_count": null,
   "metadata": {
    "id": "Mqx27h2mgDAl"
   },
   "outputs": [],
   "source": [
    "# COMPLETE THIS CODE"
   ]
  },
  {
   "cell_type": "markdown",
   "metadata": {
    "id": "Za0VlrLXheBZ"
   },
   "source": [
    "#### **Problem #5.1.5**\n",
    "\n",
    "After potentially dropping rows above, determine how many data points remain in the dataset."
   ]
  },
  {
   "cell_type": "code",
   "execution_count": null,
   "metadata": {
    "id": "m3GKP-joheBk"
   },
   "outputs": [],
   "source": [
    "# COMPLETE THIS CODE"
   ]
  },
  {
   "cell_type": "markdown",
   "metadata": {
    "id": "a771qOrnhsXR"
   },
   "source": [
    "#### **Problem #5.1.6**\n",
    "\n",
    "Using pandas methods, determine the following statistics about this dataset:\n",
    "* Average of each variable.\n",
    "* Minimum of each variable.\n",
    "* Maximum of each variable.\n",
    "* Standard Deviation of each variable."
   ]
  },
  {
   "cell_type": "code",
   "execution_count": null,
   "metadata": {
    "id": "DfBXPGgNkhK9"
   },
   "outputs": [],
   "source": [
    "# COMPLETE THIS CODE"
   ]
  },
  {
   "cell_type": "markdown",
   "metadata": {
    "id": "IU1qcrAs6Wei"
   },
   "source": [
    "#### **Problem #5.1.7**\n",
    "\n",
    "To finish our initial data exploration, let's look at the `Date/Time` variable. Specifically,\n",
    "\n",
    "1. Look at the first 10 rows of this variable and determine the relationship between this variable and `power_df.index`.\n",
    "1. Determine how many data points fit into one day.\n",
    "1. Determine how many days are contained in this dataset."
   ]
  },
  {
   "cell_type": "markdown",
   "metadata": {
    "id": "TGNecaP08iBS"
   },
   "source": [
    "##### **1. Look at the first 10 rows of this variable and determine the relationship between this variable and `power_df.index`.**"
   ]
  },
  {
   "cell_type": "code",
   "execution_count": null,
   "metadata": {
    "id": "nPtvzRiM6Weu"
   },
   "outputs": [],
   "source": [
    "# COMPLETE THIS CODE"
   ]
  },
  {
   "cell_type": "markdown",
   "metadata": {
    "id": "jp7r_7Hb8mwQ"
   },
   "source": [
    "##### **2. Determine how many data points fit into one day.**\n",
    "\n",
    "Specifically, find the value for `day_len` such that the code below prints out up to `02 01 2018 0:00` at the end."
   ]
  },
  {
   "cell_type": "code",
   "execution_count": null,
   "metadata": {
    "id": "l-D904Sv9LaX"
   },
   "outputs": [],
   "source": [
    "day_len = # COMPLETE THIS CODE\n",
    "\n",
    "power_df['Date/Time'].iloc[0:day_len + 1]"
   ]
  },
  {
   "cell_type": "markdown",
   "metadata": {
    "id": "d3aaoajX9qVq"
   },
   "source": [
    "##### **3. Determine how many days are contained in this dataset.**\n",
    "\n",
    "\n",
    "**Hint**: Use the variable you created above, `day_len`. Be careful about how you approach this though! If you dropped any null values, there may be missing times."
   ]
  },
  {
   "cell_type": "code",
   "execution_count": null,
   "metadata": {
    "id": "bbOtfUPM9qV4"
   },
   "outputs": [],
   "source": [
    "# COMPLETE THIS CODE"
   ]
  },
  {
   "cell_type": "markdown",
   "metadata": {
    "id": "NM18vl9EkiIZ"
   },
   "source": [
    "#### **Problem #5.1.8**\n",
    "\n",
    "Plot `LV ActivePower (kW)` over time, using `power_df.index` as the x axis representing time."
   ]
  },
  {
   "cell_type": "code",
   "execution_count": null,
   "metadata": {
    "id": "uUqYW2nHkiIl"
   },
   "outputs": [],
   "source": [
    "start = # COMPLETE THIS CODE\n",
    "end = # COMPLETE THIS CODE\n",
    "\n",
    "x = # COMPLETE THIS CODE\n",
    "y = # COMPLETE THIS CODE\n",
    "\n",
    "plt.figure(figsize = (30, 8))\n",
    "plt.# COMPLETE THIS CODE\n",
    "\n",
    "plt.xlabel(# COMPLETE THIS CODE\n",
    "plt.ylabel(# COMPLETE THIS CODE\n",
    "plt.title(# COMPLETE THIS CODE\n",
    "\n",
    "plt.show()"
   ]
  },
  {
   "cell_type": "markdown",
   "metadata": {
    "id": "sSNguVQb6Hmo"
   },
   "source": [
    "#### **Problem #5.1.9**\n",
    "\n",
    "The plot above contains a *lot* of data and it can be hard to really see any patterns in it. In the space below, create the same plot, but only for the first day's worth of data. **NOTE**: Do not worry about missing/dropped rows, simply use a full 24 hours worth of data.\n",
    "\n",
    "<br>\n",
    "\n",
    "**Hint**: Use the `day_len` variable you created in the section above."
   ]
  },
  {
   "cell_type": "code",
   "execution_count": null,
   "metadata": {
    "id": "rpR_Wzmt6Hmp"
   },
   "outputs": [],
   "source": [
    "start = # COMPLETE THIS CODE\n",
    "end = # COMPLETE THIS CODE\n",
    "\n",
    "x = # COMPLETE THIS CODE\n",
    "y = # COMPLETE THIS CODE\n",
    "\n",
    "plt.figure(figsize = (30, 8))\n",
    "plt.plot(x[start:end], y[start:end])\n",
    "\n",
    "plt.xlabel(# COMPLETE THIS CODE\n",
    "plt.ylabel(# COMPLETE THIS CODE\n",
    "plt.title(# COMPLETE THIS CODE\n",
    "\n",
    "plt.show()"
   ]
  },
  {
   "cell_type": "markdown",
   "metadata": {
    "id": "z-mhLFIj_CFd"
   },
   "source": [
    "#### **Problem #5.1.10**\n",
    "\n",
    "Create a similar plot, but for the first *week's* worth of data. **NOTE**: Do not worry about missing/dropped rows, simply use a full 7 days worth of data."
   ]
  },
  {
   "cell_type": "code",
   "execution_count": null,
   "metadata": {
    "id": "NzF_Lcoq_CFe"
   },
   "outputs": [],
   "source": [
    "# COMPLETE THIS CODE"
   ]
  },
  {
   "cell_type": "markdown",
   "metadata": {
    "id": "oKDQJkG0AjTE"
   },
   "source": [
    "#### **Problem #5.1.11**\n",
    "\n",
    "Read about the [matplotlib.pyplot.axvline(...) method](https://matplotlib.org/stable/api/_as_gen/matplotlib.pyplot.axvline.html) and use it to create a vertical line on this plot at the beginning of each day.\n",
    "\n",
    "<br>\n",
    "\n",
    "**NOTE**: We recommend that you skip this problem for now and come back later if you're curious."
   ]
  },
  {
   "cell_type": "code",
   "execution_count": null,
   "metadata": {
    "id": "JhhalHIyAjTR"
   },
   "outputs": [],
   "source": [
    "# COMPLETE THIS CODE"
   ]
  },
  {
   "cell_type": "markdown",
   "metadata": {
    "id": "fXyoanGuAAZZ"
   },
   "source": [
    "#### **Problem #5.1.12**\n",
    "\n",
    "Create a similar plot, but for the first week's worth of `Wind Speed (m/s)` data on the y axis.\n",
    "\n",
    "<br>\n",
    "\n",
    "**NOTE**: You *do not* need to include vertical lines."
   ]
  },
  {
   "cell_type": "code",
   "execution_count": null,
   "metadata": {
    "id": "bDGqsH-pAAZb"
   },
   "outputs": [],
   "source": [
    "# COMPLETE THIS CODE"
   ]
  },
  {
   "cell_type": "markdown",
   "metadata": {
    "id": "cP2H7vJDAQZ4"
   },
   "source": [
    "#### **Problem #5.1.13**\n",
    "\n",
    "Create a similar plot, but for the first week's worth of `Wind Direction (°)` data on the y axis."
   ]
  },
  {
   "cell_type": "code",
   "execution_count": null,
   "metadata": {
    "id": "SWlM5Fu6AQZ6"
   },
   "outputs": [],
   "source": [
    "# COMPLETE THIS CODE"
   ]
  },
  {
   "cell_type": "markdown",
   "metadata": {
    "id": "q7Av1kRWDc0f"
   },
   "source": [
    "#### **Problem #5.1.14**\n",
    "\n",
    "Now, create a plot to see the relationship between `LV ActivePower (kW)` and `Wind Speed (m/s)`.\n",
    "\n",
    "<br>\n",
    "\n",
    "**NOTE**: We will be using `LV ActivePower (kW)` as our label, so it is natural (but not strictly required) to use this as the y variable."
   ]
  },
  {
   "cell_type": "code",
   "execution_count": null,
   "metadata": {
    "id": "472kD0cKDc0s"
   },
   "outputs": [],
   "source": [
    "# COMPLETE THIS CODE"
   ]
  },
  {
   "cell_type": "markdown",
   "metadata": {
    "id": "FO3ALASqEf1I"
   },
   "source": [
    "#### **Problem #5.1.15**\n",
    "\n",
    "Create a plot to see the relationship between `LV ActivePower (kW)` and `Wind Direction (°)`."
   ]
  },
  {
   "cell_type": "code",
   "execution_count": null,
   "metadata": {
    "id": "sd8NySDrEf1V"
   },
   "outputs": [],
   "source": [
    "# COMPLETE THIS CODE"
   ]
  },
  {
   "cell_type": "markdown",
   "metadata": {
    "id": "nKgOSAUMEHru"
   },
   "source": [
    "#### **Problem #5.1.16**\n",
    "\n",
    "Create a plot to see the relationship between `LV ActivePower (kW)` and `Theoretical_Power_Curve (KWh)`."
   ]
  },
  {
   "cell_type": "code",
   "execution_count": null,
   "metadata": {
    "id": "6fZ_gHCVEHr8"
   },
   "outputs": [],
   "source": [
    "# COMPLETE THIS CODE"
   ]
  },
  {
   "cell_type": "markdown",
   "metadata": {
    "id": "GqWxrjvQFWtj"
   },
   "source": [
    "#### **Problem #5.1.17**\n",
    "\n",
    "It's common that during data visualization, certain aspects of the data will become clear that warrant further modification of the data. In this particular case, these plots have highlighted several aspects of the data that we should consider in our modeling:\n",
    "\n",
    "1. When `LV ActivePower (kW)` is 0, the other variables can take on a very wide range of values. This is *likely* a sign that we cannot trust the data when `LV ActivePower (kW)` is 0 since it seems to have very little relationship to the other variables, which is not particularly realistic. **NOTE**: This is can be seen by a straight horizontal line of data running along the bottom of the x axis.\n",
    "\n",
    "2. Similarly, when `Theoretical_Power_Curve (KWh)` is at its maximum, the other variables can take on a wide range of values. **NOTE**: This can be seen by a straight vertical line of data running along the right side of the graph with `Theoretical_Power_Curve (KWh)`.\n",
    "\n",
    "\n",
    "<br>\n",
    "\n",
    "Complete the code below to verify the two patterns described above and that this *doesn't* occur for the other variables. **NOTE**: We have provided you the code for `LV ActivePower (kW)` to get you started."
   ]
  },
  {
   "cell_type": "markdown",
   "metadata": {
    "id": "hPF3MV7GIHg_"
   },
   "source": [
    "##### **`LV ActivePower (kW)`**"
   ]
  },
  {
   "cell_type": "code",
   "execution_count": null,
   "metadata": {
    "colab": {
     "base_uri": "https://localhost:8080/",
     "height": 300
    },
    "executionInfo": {
     "elapsed": 153,
     "status": "ok",
     "timestamp": 1708355997643,
     "user": {
      "displayName": "Tristin Rice",
      "userId": "01719244519041825611"
     },
     "user_tz": 300
    },
    "id": "BhHWPpIEGHDp",
    "outputId": "6909d564-238f-4be4-98cd-34aaa3c9a13e"
   },
   "outputs": [],
   "source": [
    "rows_to_examine = power_df['LV ActivePower (kW)'] == 0\n",
    "\n",
    "power_df[rows_to_examine].describe()"
   ]
  },
  {
   "cell_type": "code",
   "execution_count": null,
   "metadata": {
    "colab": {
     "base_uri": "https://localhost:8080/",
     "height": 300
    },
    "executionInfo": {
     "elapsed": 172,
     "status": "ok",
     "timestamp": 1708356000192,
     "user": {
      "displayName": "Tristin Rice",
      "userId": "01719244519041825611"
     },
     "user_tz": 300
    },
    "id": "rS_pV-YTGW99",
    "outputId": "49bdf94c-9af8-4398-e133-cb158301874f"
   },
   "outputs": [],
   "source": [
    "rows_to_examine = power_df['LV ActivePower (kW)'] == power_df['LV ActivePower (kW)'].max()\n",
    "\n",
    "power_df[rows_to_examine].describe()"
   ]
  },
  {
   "cell_type": "markdown",
   "metadata": {
    "id": "FUew1c7TINF_"
   },
   "source": [
    "##### **`Theoretical_Power_Curve (KWh)`**"
   ]
  },
  {
   "cell_type": "code",
   "execution_count": null,
   "metadata": {
    "id": "i1nSSF9SINGA"
   },
   "outputs": [],
   "source": [
    "# COMPLETE THIS CODE"
   ]
  },
  {
   "cell_type": "markdown",
   "metadata": {
    "id": "cuSQY21ZINz0"
   },
   "source": [
    "##### **`Wind Speed (m/s)`**"
   ]
  },
  {
   "cell_type": "code",
   "execution_count": null,
   "metadata": {
    "id": "3qTTwxUFIN0A"
   },
   "outputs": [],
   "source": [
    "# COMPLETE THIS CODE"
   ]
  },
  {
   "cell_type": "markdown",
   "metadata": {
    "id": "W6eZe3mDIOLa"
   },
   "source": [
    "##### **`Wind Direction (°)`**"
   ]
  },
  {
   "cell_type": "code",
   "execution_count": null,
   "metadata": {
    "id": "71CW1yJXIOLb"
   },
   "outputs": [],
   "source": [
    "# COMPLETE THIS CODE"
   ]
  },
  {
   "cell_type": "markdown",
   "metadata": {
    "id": "FjviQRCh3ONJ"
   },
   "source": [
    "\n",
    "---\n",
    "### **Part 5.2: Modeling `LV ActivePower (kW)` Using Data As Is**\n",
    "---\n",
    "\n",
    "In this part, you will use linear regression to model `LV ActivePower (kW)` following our 8 step model implementation process.\n",
    "Let's start by working with the data as is, instead of considering any adjustments based on Problem #1.2.10 (which you can do in the optional section at the end)."
   ]
  },
  {
   "cell_type": "markdown",
   "metadata": {
    "id": "wsQwfAtKIgZN"
   },
   "source": [
    "#### **Step #1: Load in the data**\n",
    "\n",
    "This step was completed above."
   ]
  },
  {
   "cell_type": "markdown",
   "metadata": {
    "id": "4_VRfVs0IgZN"
   },
   "source": [
    "#### **Step #2: Decide independent and dependent variables**\n",
    "\n",
    "`LV ActivePower (kW)` is our label (dependent variable) and every other variable other than `Date/Time` will make up our features."
   ]
  },
  {
   "cell_type": "code",
   "execution_count": null,
   "metadata": {
    "id": "BWjTRsKUIgZN"
   },
   "outputs": [],
   "source": [
    "x = # COMPLETE THIS LINE\n",
    "y = # COMPLETE THIS LINE"
   ]
  },
  {
   "cell_type": "markdown",
   "metadata": {
    "id": "Jv_RKo3LIgZN"
   },
   "source": [
    "#### **Step #3: Split data into training and testing data**\n",
    "\n",
    "Complete the code below to split the data, using 80% for training and 20% for testing."
   ]
  },
  {
   "cell_type": "code",
   "execution_count": null,
   "metadata": {
    "id": "VBXIh1ofIgZN"
   },
   "outputs": [],
   "source": [
    "X_train, X_test, y_train, y_test = train_test_split(# COMPLETE THIS LINE"
   ]
  },
  {
   "cell_type": "markdown",
   "metadata": {
    "id": "rh34uXkKIgZN"
   },
   "source": [
    "#### **Step #4: Import the algorithm**"
   ]
  },
  {
   "cell_type": "code",
   "execution_count": null,
   "metadata": {
    "id": "_mqF50IHIgZN"
   },
   "outputs": [],
   "source": [
    "# COMPLETE THIS CODE"
   ]
  },
  {
   "cell_type": "markdown",
   "metadata": {
    "id": "lvle9i5gIgZN"
   },
   "source": [
    "#### **Step #5: Initialize the model and set hyperparameters**\n",
    "\n",
    "For linear regression, there are no hyperparameters to set."
   ]
  },
  {
   "cell_type": "code",
   "execution_count": null,
   "metadata": {
    "id": "KKuNTcoSIgZN"
   },
   "outputs": [],
   "source": [
    "model_1 = # COMPLETE THIS LINE"
   ]
  },
  {
   "cell_type": "markdown",
   "metadata": {
    "id": "jskIMeOCIgZO"
   },
   "source": [
    "#### **Step #6: Fit your model and make a prediction.**\n",
    "\n",
    "Create a visualization if applicable.\n",
    "\n",
    "Specifically,\n",
    "\n",
    "1. Fit the model to the training data and make predictions on the test data.\n",
    "2. Visualize the results."
   ]
  },
  {
   "cell_type": "markdown",
   "metadata": {
    "id": "OxD8dmc_IgZO"
   },
   "source": [
    "##### **1. Fit the model to the training data.**"
   ]
  },
  {
   "cell_type": "code",
   "execution_count": null,
   "metadata": {
    "id": "yD0bkCLcIgZO"
   },
   "outputs": [],
   "source": [
    "model_1.# COMPLETE THIS LINE TO TRAIN\n",
    "predictions = # COMPLETE THIS LINE TO PREDICT"
   ]
  },
  {
   "cell_type": "markdown",
   "metadata": {
    "id": "zOzvAgFmIgZO"
   },
   "source": [
    "##### **2. Visualize the results.**\n",
    "\n",
    "Compare the true test values versus the predicted values."
   ]
  },
  {
   "cell_type": "code",
   "execution_count": null,
   "metadata": {
    "id": "pWrOf0VBIgZO"
   },
   "outputs": [],
   "source": []
  },
  {
   "cell_type": "markdown",
   "metadata": {
    "id": "IKcYcMZCIgZO"
   },
   "source": [
    "#### **Step #7: Evaluate the model's performance**\n",
    "\n",
    "Specifically,\n",
    "\n",
    "1. Use $\\text{R}^2$, $\\text{MSE}$, and $\\text{MAE}$ to evaluate this model.\n",
    "\n",
    "2. Visualize and interpret the residuals."
   ]
  },
  {
   "cell_type": "markdown",
   "metadata": {
    "id": "CuS0jCf7LD3F"
   },
   "source": [
    "##### **1. Use $\\text{R}^2$, $\\text{MSE}$, and $\\text{MAE}$ to evaluate this model.**"
   ]
  },
  {
   "cell_type": "code",
   "execution_count": null,
   "metadata": {
    "id": "GHH7FZFLIgZO"
   },
   "outputs": [],
   "source": [
    "# COMPLETE THIS CODE"
   ]
  },
  {
   "cell_type": "markdown",
   "metadata": {
    "id": "GhyI_2UeLIX4"
   },
   "source": [
    "##### **2. Visualize and interpret the residuals.**\n",
    "\n",
    "Plot the residuals for each test point and confirm that they are randomly distributed around 0."
   ]
  },
  {
   "cell_type": "code",
   "execution_count": null,
   "metadata": {
    "id": "F80R9UwDbXuV"
   },
   "outputs": [],
   "source": [
    "residuals = # COMPLETE THIS LINE\n",
    "\n",
    "plt.figure(figsize = (8, 5))\n",
    "plt.scatter(predictions, residuals)\n",
    "\n",
    "plt.plot([predictions.min(), predictions.max()], [0, 0], color = \"black\")\n",
    "\n",
    "\n",
    "plt.title(\"Residuals Plot\", fontsize = \"x-large\")\n",
    "plt.xlabel(\"Predicted Value\", fontsize = \"x-large\")\n",
    "plt.ylabel(\"Residuals\", fontsize = \"x-large\")\n",
    "\n",
    "plt.show()"
   ]
  },
  {
   "cell_type": "markdown",
   "metadata": {
    "id": "dDazs2KtIgZO"
   },
   "source": [
    "#### **Step #8: Use the model**\n",
    "\n",
    "Specifically,\n",
    "\n",
    "1. Predict the power output for the three three provided data points.\n",
    "\n",
    "2. Compare these values to the minimum, average, and maximum outputs.\n",
    "\n",
    "3. Visualize the modeled relationship between `LV ActivePower (kW)` and each of the three features used to see if a qualitative relationship can be inferred.\n",
    "\n",
    "4. Look at the coefficients and intercept to determine the modeled relationships quantitatively."
   ]
  },
  {
   "cell_type": "markdown",
   "metadata": {
    "id": "mlSy4C1fIgZP"
   },
   "source": [
    "##### **1. Predict the power output for the following data points:**\n",
    "\n",
    "* **Data Point 1: The Minimum** - Each feature for this data point should be the minimum possible value found in the dataset.\n",
    "* **Data Point 2: The Average** - Each feature for this data point should be the average value found in the dataset.\n",
    "* **Data Point 3: The Maximum** - Each feature for this data point should be the maximum value found int he dataset.\n",
    "\n",
    "<br>\n",
    "\n",
    "**NOTE**: There are several ways to accomplish this, with the easiest relying on pandas methods."
   ]
  },
  {
   "cell_type": "code",
   "execution_count": null,
   "metadata": {
    "id": "STyeucCGIgZP"
   },
   "outputs": [],
   "source": [
    "new_data = pd.DataFrame([[# COMPLETE THIS LINE]], columns = X_test.columns)\n",
    "\n",
    "print(model_1.predict(# COMPLETE THIS LINE"
   ]
  },
  {
   "cell_type": "markdown",
   "metadata": {
    "id": "Yonip0xdIgZP"
   },
   "source": [
    "##### **2. Compare these values to the minimum, average, and maximum outputs.**\n",
    "\n",
    "Find the minimum, average, and maximum for `LV ActivePower (kW)` and compare to the predicted values above.\n",
    "\n",
    "<br>\n",
    "\n",
    "**NOTE**: These are not exactly the actual values we should expect for the data points above, but they are a good way to *loosely* check our model in this case."
   ]
  },
  {
   "cell_type": "code",
   "execution_count": null,
   "metadata": {
    "colab": {
     "base_uri": "https://localhost:8080/"
    },
    "executionInfo": {
     "elapsed": 148,
     "status": "ok",
     "timestamp": 1708356114885,
     "user": {
      "displayName": "Tristin Rice",
      "userId": "01719244519041825611"
     },
     "user_tz": 300
    },
    "id": "vhMeQunfTx3A",
    "outputId": "7a5a76a8-af77-4f41-c6fa-4382f49a706f"
   },
   "outputs": [],
   "source": [
    "y.describe()"
   ]
  },
  {
   "cell_type": "markdown",
   "metadata": {
    "id": "WLFf1ZDMVPdX"
   },
   "source": [
    "##### **3. Visualize the modeled relationship between `LV ActivePower (kW)` and each of the three features used to see if a qualitative relationship can be inferred.**\n",
    "\n",
    "Specifically, plot the predicted and actual values in the test set against each feature.\n",
    "\n",
    "<br>\n",
    "\n",
    "**NOTE**: Make sure to include proper axis labels, a title, and a legend."
   ]
  },
  {
   "cell_type": "code",
   "execution_count": null,
   "metadata": {
    "id": "Q8fU__lSIgZP"
   },
   "outputs": [],
   "source": []
  },
  {
   "cell_type": "markdown",
   "metadata": {
    "id": "WVuy6YniIgZP"
   },
   "source": [
    "##### **4. Complete the cells below to look at the coefficients and intercept to determine the modeled relationships quantitatively.**"
   ]
  },
  {
   "cell_type": "code",
   "execution_count": null,
   "metadata": {
    "id": "8wNZhYTMIgZP"
   },
   "outputs": [],
   "source": [
    "coefficients = model_1.# COMPLETE THIS LINE\n",
    "intercept = model_1.# COMPLETE THIS LINE\n",
    "\n",
    "coefficients = pd.DataFrame([coefficients], columns = X_test.columns)\n",
    "intercept = pd.DataFrame([intercept], columns = ['LV ActivePower (kW)'])"
   ]
  },
  {
   "cell_type": "code",
   "execution_count": null,
   "metadata": {
    "id": "LhSF1icpIgZQ"
   },
   "outputs": [],
   "source": [
    "print(\"Coefficients:\")\n",
    "coefficients.head()"
   ]
  },
  {
   "cell_type": "code",
   "execution_count": null,
   "metadata": {
    "id": "Vz1PfraxIgZQ"
   },
   "outputs": [],
   "source": [
    "print(\"\\nIntercept:\")\n",
    "intercept.head()"
   ]
  },
  {
   "cell_type": "markdown",
   "metadata": {
    "id": "MKw6eTyBKgx5"
   },
   "source": [
    "\n",
    "---\n",
    "### **Part 5.3: Attempting to Improve the Model**\n",
    "---\n",
    "\n",
    "In this challenging, optional section, you can work through several ways to *attempt* improving the model by considering the nature of this particular dataset."
   ]
  },
  {
   "cell_type": "markdown",
   "metadata": {
    "id": "KZwD5O4qLf1M"
   },
   "source": [
    "#### **Problem #5.3.1**\n",
    "\n",
    "Let's start by addressing what we observed in Problem #1.2.10. Specifically,\n",
    "1. Drop any data points where `LV ActivePower (kW)` is 0 or `Theoretical_Power_Curve (KWh)` is at its maximum from the features and labels used for modeling.\n",
    "\n",
    "2. Perform Steps #2 - 7 with a linear regression model for these modified features and labels, including the visualizations of the model's predictions and residuals."
   ]
  },
  {
   "cell_type": "code",
   "execution_count": null,
   "metadata": {
    "id": "su7ndfXwNbuy"
   },
   "outputs": [],
   "source": [
    "# Select only valid data points\n",
    "power_df = power_df[power_df['LV ActivePower (kW)'] != 0]\n",
    "power_df = power_df[power_df['Theoretical_Power_Curve (KWh)'] != power_df['Theoretical_Power_Curve (KWh)'].max()]\n",
    "\n",
    "# Steps #2 - 7\n",
    "x = # COMPLETE THIS CODE\n",
    "y = # COMPLETE THIS CODE\n",
    "\n",
    "X_train, X_test, y_train, y_test = train_test_split(# COMPLETE THIS CODE\n",
    "\n",
    "model_2 = # COMPLETE THIS CODE\n",
    "model_2.fit(# COMPLETE THIS CODE\n",
    "predictions = # COMPLETE THIS CODE\n",
    "\n",
    "print(\"R2: \" + str(# COMPLETE THIS CODE\n",
    "print(\"MSE: \" + str(# COMPLETE THIS CODE\n",
    "print(\"MAE: \" + str(# COMPLETE THIS CODE"
   ]
  },
  {
   "cell_type": "code",
   "execution_count": null,
   "metadata": {
    "id": "Lj6iVNelNbpo"
   },
   "outputs": [],
   "source": [
    "# Visualize comparison of predictions vs. actual values\n",
    "\n",
    "# COMPLETE THIS CODE"
   ]
  },
  {
   "cell_type": "code",
   "execution_count": null,
   "metadata": {
    "id": "ZkTUQyopNbiI"
   },
   "outputs": [],
   "source": [
    "# Visualize residuals on the test set\n",
    "\n",
    "# COMPLETE THIS CODE"
   ]
  },
  {
   "cell_type": "markdown",
   "metadata": {
    "id": "yBWu7cXDNY91"
   },
   "source": [
    "#### **Problem #5.3.2**\n",
    "\n",
    "You should have seen an improvement in the results, but still noticed a few items of concern. In particular, notice that the residuals plot is *almost* equally distributed around 0 *except* points that form a nearly straight line changing with predicted value. This was present before, but the fixes in Problem #2.2.1 did not seem to completely address this \"oddity\".\n",
    "\n",
    "<br>\n",
    "\n",
    "This is likely due to the role that *time* plays in our data. This creates complex, correlated relationships between data points meaning that the order of data matters--something that very few models are built to handle. This kind of data, known formally as [time series data](https://en.wikipedia.org/wiki/Time_series), actually requires much deeper and specific statistical tools than what we will explore in this course. However, we can try several different ways of dealing with time.\n",
    "\n",
    "\n",
    "Let's start by simply including time as a feature so that perhaps our model can learn about it. Specifically,\n",
    "\n",
    "1. In the modified DataFrame from above, create a new feature called `Time (min)` that equals `power_df.index` times 10.\n",
    "\n",
    "2. Perform Steps #2 - 7 with a linear regression model for these modified features and labels, including the visualizations of the model's predictions and residuals."
   ]
  },
  {
   "cell_type": "code",
   "execution_count": null,
   "metadata": {
    "id": "Ty0iEnjjNvSq"
   },
   "outputs": [],
   "source": [
    "# Create the Time (min) feature and perform Steps #2 - 7\n",
    "power_df['Time (min)'] = # COMPLETE THIS CODE\n",
    "\n",
    "# COMPLETE THIS CODE"
   ]
  },
  {
   "cell_type": "code",
   "execution_count": null,
   "metadata": {
    "id": "dITRSRSSNvSr"
   },
   "outputs": [],
   "source": [
    "# Visualize comparison of predictions vs. actual values\n",
    "\n",
    "# COMPLETE THIS CODE"
   ]
  },
  {
   "cell_type": "code",
   "execution_count": null,
   "metadata": {
    "id": "K0tg8HDuNvSr"
   },
   "outputs": [],
   "source": [
    "# Visualize residuals on the test set\n",
    "\n",
    "# COMPLETE THIS CODE"
   ]
  },
  {
   "cell_type": "markdown",
   "metadata": {
    "id": "1RdaLSZxRhg2"
   },
   "source": [
    "#### **Problem #5.3.3**\n",
    "\n",
    "You likely noticed very little difference in the results. Simply including time as a feature is not enough. One aspect of more sophisticated approaches is to predict the *difference* between points instead of the values of the points themselves. This is commonly known as [integration](https://en.wikipedia.org/wiki/Order_of_integration), [lag, or backshift](https://en.wikipedia.org/wiki/Lag_operator).\n",
    "\n",
    "While the theory behind this can get complex, we can implement it quite simply using the [`.shift(...)` method](https://pandas.pydata.org/docs/reference/api/pandas.DataFrame.shift.html) built into DataFrames that shifts data by a given number of rows.\n",
    "\n",
    "<br>\n",
    "\n",
    "Let's use the `.shift(...)` method to predict the difference in data points. Specifically,\n",
    "\n",
    "1. Instead of `x` and `y`, prepare the variables `x_diffs` and `y_diffs` as our data for modeling such that they represent a shift of 1 row in the `x` and `y` data *without the `Time (min)` variable*.\n",
    "\n",
    "2. Perform Steps #2 - 7 with a linear regression model for these modified features and labels, including the visualizations of the model's predictions and residuals."
   ]
  },
  {
   "cell_type": "code",
   "execution_count": null,
   "metadata": {
    "id": "mmoB_2CgUG_c"
   },
   "outputs": [],
   "source": [
    "# Create the shifted dataset and perform Steps #2 - 7\n",
    "x = # COMPLETE THIS CODE\n",
    "x_diffs = x - x.shift(1)\n",
    "x_diffs = x_diffs.dropna(how='any')\n",
    "\n",
    "y = # COMPLETE THIS CODE\n",
    "y_diffs = # COMPLETE THIS CODE\n",
    "y_diffs = # COMPLETE THIS CODE\n",
    "\n",
    "# COMPLETE THIS CODE"
   ]
  },
  {
   "cell_type": "code",
   "execution_count": null,
   "metadata": {
    "id": "bl6LEBP2UG_n"
   },
   "outputs": [],
   "source": [
    "# Visualize comparison of predictions vs. actual values\n",
    "\n",
    "# COMPLETE THIS CODE"
   ]
  },
  {
   "cell_type": "code",
   "execution_count": null,
   "metadata": {
    "id": "_u85C_3kUG_n"
   },
   "outputs": [],
   "source": [
    "# Visualize residuals on the test set\n",
    "\n",
    "# COMPLETE THIS CODE"
   ]
  },
  {
   "cell_type": "markdown",
   "metadata": {
    "id": "HtPPusIJUkRS"
   },
   "source": [
    "#### **Problem #5.3.4**\n",
    "\n",
    "You should have seen interesting results where the $\\text{R}^2$ went down (around 0.72), but all other measures of model performance improved. However, an $\\text{R}^2 > 0.7$ is still considered good in practice, particularly given the other markers of success and the many layers of consideration that have been included in our model.\n",
    "\n",
    "From here, it is a matter of adjusting the exact shift we use and eventually moving onto even more advanced methods such as [ARIMA](https://en.wikipedia.org/wiki/Autoregressive_integrated_moving_average).\n",
    "\n",
    "<br>\n",
    "\n",
    "In the space below, explore how changing the amount of shift impacts the model's performance."
   ]
  },
  {
   "cell_type": "code",
   "execution_count": null,
   "metadata": {
    "id": "lOQVdJF1UkRg"
   },
   "outputs": [],
   "source": [
    "# Create the shifted dataset and perform Steps #2 - 7\n",
    "\n",
    "# COMPLETE THIS CODE"
   ]
  },
  {
   "cell_type": "code",
   "execution_count": null,
   "metadata": {
    "id": "fJznu1O5UkRg"
   },
   "outputs": [],
   "source": [
    "# Visualize comparison of predictions vs. actual values\n",
    "\n",
    "# COMPLETE THIS CODE"
   ]
  },
  {
   "cell_type": "code",
   "execution_count": null,
   "metadata": {
    "id": "43VrYryGUkRg"
   },
   "outputs": [],
   "source": [
    "# Visualize residuals on the test set\n",
    "\n",
    "# COMPLETE THIS CODE"
   ]
  },
  {
   "cell_type": "markdown",
   "metadata": {
    "id": "yt29TPJXhU9Q"
   },
   "source": [
    "---\n",
    "#End of Notebook\n",
    "\n",
    "© 2024 The Coding School, All rights reserved"
   ]
  }
 ],
 "metadata": {
  "colab": {
   "collapsed_sections": [
    "FjviQRCh3ONJ",
    "MKw6eTyBKgx5"
   ],
   "provenance": [],
   "toc_visible": true
  },
  "kernelspec": {
   "display_name": "default:Python",
   "language": "python",
   "name": "conda-env-default-py"
  },
  "language_info": {
   "codemirror_mode": {
    "name": "ipython",
    "version": 3
   },
   "file_extension": ".py",
   "mimetype": "text/x-python",
   "name": "python",
   "nbconvert_exporter": "python",
   "pygments_lexer": "ipython3",
   "version": "3.9.16"
  }
 },
 "nbformat": 4,
 "nbformat_minor": 4
}
