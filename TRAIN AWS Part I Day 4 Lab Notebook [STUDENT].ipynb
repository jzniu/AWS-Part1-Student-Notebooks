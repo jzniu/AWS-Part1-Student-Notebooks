{
 "cells": [
  {
   "cell_type": "markdown",
   "metadata": {
    "id": "Ji7AqfTKLQ57"
   },
   "source": [
    "---\n",
    "# **Lab 4: Titanic Project**\n",
    "---\n",
    "\n",
    "Through the following questions, you will hone and apply your skills to a famous dataset containing information about passengers on the Titanic and whether they survived or not: [Titanic dataset from Kaggle](https://www.kaggle.com/competitions/titanic/overview).\n",
    "\n",
    "\n",
    "<br>\n",
    "\n",
    "There are twelve columns in the dataset. The target column is `Survived` which indicates if a passenger survived (1) or not (0). The features initially available are:\n",
    "\n",
    "* `PassengerId`: Numeric, a unique number for each passenger.\n",
    "* `Pclass`: Numeric, the ticket class.\t1 = 1st, 2 = 2nd, 3 = 3rd.\n",
    "* `Name`: Categorical, the name of the passenger.\n",
    "* `Sex`: Categorical, the sex of the passenger.\n",
    "* `Age`: Numeric, the passenger's age in years.\n",
    "* `Sibsp`: Numeric, the number of siblings / spouses aboard the Titanic.\n",
    "* `Parch`: Numeric, the number of parents / children aboard the Titanic.\n",
    "* `Ticket`: Categorical, ticket number.\n",
    "* `Fare`: Numeric, passenger fare.\n",
    "* `Cabin`: Categorical, cabin number.\n",
    "* `Embarked`: Categorical, port of embarkation.\tC = Cherbourg, Q = Queenstown, S = Southampton.\n",
    "* `Hometown`: Categorical, passenger home town.\n",
    "* `Destination`: Categorical, ultimate return point.\n",
    "* `HasCabin`: Categorical, whether the passenger(s) had a cabin or not.\n",
    "\n",
    "<br>\n",
    "\n",
    "**Run the cell below to import all necessary libraries and functions.**"
   ]
  },
  {
   "cell_type": "code",
   "execution_count": 1,
   "metadata": {
    "id": "sy1IOFkVlQQr",
    "tags": []
   },
   "outputs": [],
   "source": [
    "! pip install pandas matplotlib numpy\n",
    "\n",
    "import warnings\n",
    "warnings.filterwarnings('ignore')\n",
    "\n",
    "import pandas as pd\n",
    "import matplotlib.pyplot as plt\n",
    "\n",
    "import numpy as np\n",
    "\n",
    "url = \"https://github.com/the-codingschool/TRAIN-datasets/raw/main/titanic/titanic_cleaned.csv\"\n",
    "data = pd.read_csv(url)"
   ]
  },
  {
   "cell_type": "markdown",
   "metadata": {
    "id": "b-soLic_vu7S"
   },
   "source": [
    "#### **Problem #1**\n",
    "\n",
    "Print the first 10 rows of the data."
   ]
  },
  {
   "cell_type": "code",
   "execution_count": 2,
   "metadata": {
    "id": "x8R3iCfG0R4e",
    "tags": []
   },
   "outputs": [
    {
     "data": {
      "text/html": [
       "<div>\n",
       "<style scoped>\n",
       "    .dataframe tbody tr th:only-of-type {\n",
       "        vertical-align: middle;\n",
       "    }\n",
       "\n",
       "    .dataframe tbody tr th {\n",
       "        vertical-align: top;\n",
       "    }\n",
       "\n",
       "    .dataframe thead th {\n",
       "        text-align: right;\n",
       "    }\n",
       "</style>\n",
       "<table border=\"1\" class=\"dataframe\">\n",
       "  <thead>\n",
       "    <tr style=\"text-align: right;\">\n",
       "      <th></th>\n",
       "      <th>PassengerId</th>\n",
       "      <th>Survived</th>\n",
       "      <th>Pclass</th>\n",
       "      <th>Name</th>\n",
       "      <th>Sex</th>\n",
       "      <th>Age</th>\n",
       "      <th>Sibsp</th>\n",
       "      <th>Parch</th>\n",
       "      <th>Ticket</th>\n",
       "      <th>Fare</th>\n",
       "      <th>Cabin</th>\n",
       "      <th>Embarked</th>\n",
       "      <th>Hometown</th>\n",
       "      <th>Destination</th>\n",
       "      <th>HasCabin</th>\n",
       "    </tr>\n",
       "  </thead>\n",
       "  <tbody>\n",
       "    <tr>\n",
       "      <th>0</th>\n",
       "      <td>1</td>\n",
       "      <td>0</td>\n",
       "      <td>3</td>\n",
       "      <td>Braund, Mr. Owen Harris</td>\n",
       "      <td>male</td>\n",
       "      <td>22</td>\n",
       "      <td>1</td>\n",
       "      <td>0</td>\n",
       "      <td>A/5 21171</td>\n",
       "      <td>7.2500</td>\n",
       "      <td>NaN</td>\n",
       "      <td>S</td>\n",
       "      <td>Bridgerule, Devon, England</td>\n",
       "      <td>Qu'Appelle Valley, Saskatchewan, Canada</td>\n",
       "      <td>False</td>\n",
       "    </tr>\n",
       "    <tr>\n",
       "      <th>1</th>\n",
       "      <td>2</td>\n",
       "      <td>1</td>\n",
       "      <td>1</td>\n",
       "      <td>Cumings, Mrs. John Bradley (Florence Briggs Th...</td>\n",
       "      <td>female</td>\n",
       "      <td>38</td>\n",
       "      <td>1</td>\n",
       "      <td>0</td>\n",
       "      <td>PC 17599</td>\n",
       "      <td>71.2833</td>\n",
       "      <td>C85</td>\n",
       "      <td>C</td>\n",
       "      <td>New York, New York, US</td>\n",
       "      <td>New York, New York, US</td>\n",
       "      <td>True</td>\n",
       "    </tr>\n",
       "    <tr>\n",
       "      <th>2</th>\n",
       "      <td>3</td>\n",
       "      <td>1</td>\n",
       "      <td>3</td>\n",
       "      <td>Heikkinen, Miss. Laina</td>\n",
       "      <td>female</td>\n",
       "      <td>26</td>\n",
       "      <td>0</td>\n",
       "      <td>0</td>\n",
       "      <td>STON/O2. 3101282</td>\n",
       "      <td>7.9250</td>\n",
       "      <td>NaN</td>\n",
       "      <td>S</td>\n",
       "      <td>Jyväskylä, Finland</td>\n",
       "      <td>New York City</td>\n",
       "      <td>False</td>\n",
       "    </tr>\n",
       "    <tr>\n",
       "      <th>3</th>\n",
       "      <td>4</td>\n",
       "      <td>1</td>\n",
       "      <td>1</td>\n",
       "      <td>Futrelle, Mrs. Jacques Heath (Lily May Peel)</td>\n",
       "      <td>female</td>\n",
       "      <td>35</td>\n",
       "      <td>1</td>\n",
       "      <td>0</td>\n",
       "      <td>113803</td>\n",
       "      <td>53.1000</td>\n",
       "      <td>C123</td>\n",
       "      <td>S</td>\n",
       "      <td>Scituate, Massachusetts, US</td>\n",
       "      <td>Scituate, Massachusetts, US</td>\n",
       "      <td>True</td>\n",
       "    </tr>\n",
       "    <tr>\n",
       "      <th>4</th>\n",
       "      <td>5</td>\n",
       "      <td>0</td>\n",
       "      <td>3</td>\n",
       "      <td>Allen, Mr. William Henry</td>\n",
       "      <td>male</td>\n",
       "      <td>35</td>\n",
       "      <td>0</td>\n",
       "      <td>0</td>\n",
       "      <td>373450</td>\n",
       "      <td>8.0500</td>\n",
       "      <td>NaN</td>\n",
       "      <td>S</td>\n",
       "      <td>Birmingham, West Midlands, England</td>\n",
       "      <td>New York City</td>\n",
       "      <td>False</td>\n",
       "    </tr>\n",
       "    <tr>\n",
       "      <th>5</th>\n",
       "      <td>6</td>\n",
       "      <td>0</td>\n",
       "      <td>3</td>\n",
       "      <td>Moran, Mr. James</td>\n",
       "      <td>male</td>\n",
       "      <td>28</td>\n",
       "      <td>0</td>\n",
       "      <td>0</td>\n",
       "      <td>330877</td>\n",
       "      <td>8.4583</td>\n",
       "      <td>NaN</td>\n",
       "      <td>Q</td>\n",
       "      <td>Cork, Ireland</td>\n",
       "      <td>New York City</td>\n",
       "      <td>False</td>\n",
       "    </tr>\n",
       "    <tr>\n",
       "      <th>6</th>\n",
       "      <td>7</td>\n",
       "      <td>0</td>\n",
       "      <td>1</td>\n",
       "      <td>McCarthy, Mr. Timothy J</td>\n",
       "      <td>male</td>\n",
       "      <td>54</td>\n",
       "      <td>0</td>\n",
       "      <td>0</td>\n",
       "      <td>17463</td>\n",
       "      <td>51.8625</td>\n",
       "      <td>E46</td>\n",
       "      <td>S</td>\n",
       "      <td>Dorchester, Massachusetts, US</td>\n",
       "      <td>Dorchester, Massachusetts, US</td>\n",
       "      <td>True</td>\n",
       "    </tr>\n",
       "    <tr>\n",
       "      <th>7</th>\n",
       "      <td>8</td>\n",
       "      <td>0</td>\n",
       "      <td>3</td>\n",
       "      <td>Palsson, Master. Gosta Leonard</td>\n",
       "      <td>male</td>\n",
       "      <td>2</td>\n",
       "      <td>3</td>\n",
       "      <td>1</td>\n",
       "      <td>349909</td>\n",
       "      <td>21.0750</td>\n",
       "      <td>NaN</td>\n",
       "      <td>S</td>\n",
       "      <td>Bjuv, Skåne, Sweden</td>\n",
       "      <td>Chicago, Illinois, US</td>\n",
       "      <td>False</td>\n",
       "    </tr>\n",
       "    <tr>\n",
       "      <th>8</th>\n",
       "      <td>9</td>\n",
       "      <td>1</td>\n",
       "      <td>3</td>\n",
       "      <td>Johnson, Mrs. Oscar W (Elisabeth Vilhelmina Berg)</td>\n",
       "      <td>female</td>\n",
       "      <td>27</td>\n",
       "      <td>0</td>\n",
       "      <td>2</td>\n",
       "      <td>347742</td>\n",
       "      <td>11.1333</td>\n",
       "      <td>NaN</td>\n",
       "      <td>S</td>\n",
       "      <td>St. Charles, Illinois, US</td>\n",
       "      <td>St. Charles, Illinois, US</td>\n",
       "      <td>False</td>\n",
       "    </tr>\n",
       "    <tr>\n",
       "      <th>9</th>\n",
       "      <td>10</td>\n",
       "      <td>1</td>\n",
       "      <td>2</td>\n",
       "      <td>Nasser, Mrs. Nicholas (Adele Achem)</td>\n",
       "      <td>female</td>\n",
       "      <td>14</td>\n",
       "      <td>1</td>\n",
       "      <td>0</td>\n",
       "      <td>237736</td>\n",
       "      <td>30.0708</td>\n",
       "      <td>NaN</td>\n",
       "      <td>C</td>\n",
       "      <td>Zahlé, Lebanon, Ottoman Empire</td>\n",
       "      <td>Cleveland, Ohio, US</td>\n",
       "      <td>False</td>\n",
       "    </tr>\n",
       "  </tbody>\n",
       "</table>\n",
       "</div>"
      ],
      "text/plain": [
       "   PassengerId  Survived  Pclass  \\\n",
       "0            1         0       3   \n",
       "1            2         1       1   \n",
       "2            3         1       3   \n",
       "3            4         1       1   \n",
       "4            5         0       3   \n",
       "5            6         0       3   \n",
       "6            7         0       1   \n",
       "7            8         0       3   \n",
       "8            9         1       3   \n",
       "9           10         1       2   \n",
       "\n",
       "                                                Name     Sex  Age  Sibsp  \\\n",
       "0                            Braund, Mr. Owen Harris    male   22      1   \n",
       "1  Cumings, Mrs. John Bradley (Florence Briggs Th...  female   38      1   \n",
       "2                             Heikkinen, Miss. Laina  female   26      0   \n",
       "3       Futrelle, Mrs. Jacques Heath (Lily May Peel)  female   35      1   \n",
       "4                           Allen, Mr. William Henry    male   35      0   \n",
       "5                                   Moran, Mr. James    male   28      0   \n",
       "6                            McCarthy, Mr. Timothy J    male   54      0   \n",
       "7                     Palsson, Master. Gosta Leonard    male    2      3   \n",
       "8  Johnson, Mrs. Oscar W (Elisabeth Vilhelmina Berg)  female   27      0   \n",
       "9                Nasser, Mrs. Nicholas (Adele Achem)  female   14      1   \n",
       "\n",
       "   Parch            Ticket     Fare Cabin Embarked  \\\n",
       "0      0         A/5 21171   7.2500   NaN        S   \n",
       "1      0          PC 17599  71.2833   C85        C   \n",
       "2      0  STON/O2. 3101282   7.9250   NaN        S   \n",
       "3      0            113803  53.1000  C123        S   \n",
       "4      0            373450   8.0500   NaN        S   \n",
       "5      0            330877   8.4583   NaN        Q   \n",
       "6      0             17463  51.8625   E46        S   \n",
       "7      1            349909  21.0750   NaN        S   \n",
       "8      2            347742  11.1333   NaN        S   \n",
       "9      0            237736  30.0708   NaN        C   \n",
       "\n",
       "                             Hometown  \\\n",
       "0          Bridgerule, Devon, England   \n",
       "1              New York, New York, US   \n",
       "2                  Jyväskylä, Finland   \n",
       "3         Scituate, Massachusetts, US   \n",
       "4  Birmingham, West Midlands, England   \n",
       "5                       Cork, Ireland   \n",
       "6       Dorchester, Massachusetts, US   \n",
       "7                 Bjuv, Skåne, Sweden   \n",
       "8           St. Charles, Illinois, US   \n",
       "9      Zahlé, Lebanon, Ottoman Empire   \n",
       "\n",
       "                               Destination  HasCabin  \n",
       "0  Qu'Appelle Valley, Saskatchewan, Canada     False  \n",
       "1                   New York, New York, US      True  \n",
       "2                            New York City     False  \n",
       "3              Scituate, Massachusetts, US      True  \n",
       "4                            New York City     False  \n",
       "5                            New York City     False  \n",
       "6            Dorchester, Massachusetts, US      True  \n",
       "7                    Chicago, Illinois, US     False  \n",
       "8                St. Charles, Illinois, US     False  \n",
       "9                      Cleveland, Ohio, US     False  "
      ]
     },
     "execution_count": 2,
     "metadata": {},
     "output_type": "execute_result"
    }
   ],
   "source": [
    "data.head(10)"
   ]
  },
  {
   "cell_type": "markdown",
   "metadata": {
    "id": "c5xyfR8Y6G5b"
   },
   "source": [
    "#### **Problem #2**\n",
    "\n",
    "Determine how many data points and how many variables are in this dataset using the `.shape` attribute."
   ]
  },
  {
   "cell_type": "code",
   "execution_count": 3,
   "metadata": {
    "id": "7NkNRxGI6G5p",
    "tags": []
   },
   "outputs": [
    {
     "data": {
      "text/plain": [
       "(891, 15)"
      ]
     },
     "execution_count": 3,
     "metadata": {},
     "output_type": "execute_result"
    }
   ],
   "source": [
    "data.shape"
   ]
  },
  {
   "cell_type": "markdown",
   "metadata": {
    "id": "aDheMZhf6vxp"
   },
   "source": [
    "#### **Problem #3**\n",
    "\n",
    "Now, get a general picture of the data's statistics using the `.describe()` method. Then, specifically determine:\n",
    "\n",
    "* The average age of the passengers.\n",
    "* The standard deviation (std) of the fare."
   ]
  },
  {
   "cell_type": "code",
   "execution_count": 8,
   "metadata": {
    "id": "RPqrQ60Y6vx2",
    "tags": []
   },
   "outputs": [
    {
     "name": "stdout",
     "output_type": "stream",
     "text": [
      "29.34567901234568\n",
      "49.6934285971809\n"
     ]
    }
   ],
   "source": [
    "data.describe()\n",
    "print(data['Age'].mean())\n",
    "print(data['Fare'].std())"
   ]
  },
  {
   "cell_type": "markdown",
   "metadata": {
    "id": "AHRPC38_7eq0"
   },
   "source": [
    "#### **Problem #4**\n",
    "\n",
    "Determine how many passengers did or did not survive using the `.value_counts()` method."
   ]
  },
  {
   "cell_type": "code",
   "execution_count": 10,
   "metadata": {
    "id": "O4wPmM067erC",
    "tags": []
   },
   "outputs": [
    {
     "data": {
      "text/plain": [
       "(2,)"
      ]
     },
     "execution_count": 10,
     "metadata": {},
     "output_type": "execute_result"
    }
   ],
   "source": [
    "data['Survived'].value_counts()"
   ]
  },
  {
   "cell_type": "markdown",
   "metadata": {
    "id": "eoeq-QqI8G8s"
   },
   "source": [
    "#### **Problem #5**\n",
    "\n",
    "Visualize the number of passengers who did versus did not survive using a bar graph."
   ]
  },
  {
   "cell_type": "code",
   "execution_count": 15,
   "metadata": {
    "id": "j0-7-BkwvLWc",
    "tags": []
   },
   "outputs": [
    {
     "data": {
      "image/png": "[encoded data removed]",
      "text/plain": [
       "<Figure size 640x480 with 1 Axes>"
      ]
     },
     "metadata": {},
     "output_type": "display_data"
    }
   ],
   "source": [
    "categories = ['Not Survived', 'Survived']\n",
    "counts = data['Survived'].value_counts()\n",
    "bar_colors = ['blue', 'yellow']\n",
    "\n",
    "plt.bar(categories, counts, label=categories, color=bar_colors)\n",
    "\n",
    "plt.ylabel('Number of Passengers')\n",
    "plt.title('Not Survived vs. Survived')\n",
    "plt.legend()\n",
    "\n",
    "plt.show()"
   ]
  },
  {
   "cell_type": "markdown",
   "metadata": {
    "id": "NR6MXcz-84Na"
   },
   "source": [
    "#### **Problem #6**\n",
    "\n",
    "Visualize the number of male versus female passengers."
   ]
  },
  {
   "cell_type": "code",
   "execution_count": 16,
   "metadata": {
    "id": "_mppJoFk84No",
    "tags": []
   },
   "outputs": [
    {
     "data": {
      "image/png": "[encoded data removed]",
      "text/plain": [
       "<Figure size 640x480 with 1 Axes>"
      ]
     },
     "metadata": {},
     "output_type": "display_data"
    }
   ],
   "source": [
    "categories = ['Male', 'Female']\n",
    "counts = data['Sex'].value_counts()\n",
    "bar_colors = ['blue', 'yellow']\n",
    "\n",
    "plt.bar(categories, counts, label=categories, color=bar_colors)\n",
    "\n",
    "plt.ylabel('Number of Passengers')\n",
    "plt.title('Male vs. Female')\n",
    "plt.legend()\n",
    "\n",
    "plt.show()"
   ]
  },
  {
   "cell_type": "markdown",
   "metadata": {
    "id": "aU5pHtH09dR4"
   },
   "source": [
    "#### **Problem #7**\n",
    "\n",
    "Create the following two bar plots:\n",
    "1. Number of males who did or did not survive.\n",
    "2. Number of females who did or did not survive."
   ]
  },
  {
   "cell_type": "code",
   "execution_count": 41,
   "metadata": {
    "id": "Ec4vEFaZ9dR6",
    "tags": []
   },
   "outputs": [
    {
     "name": "stdout",
     "output_type": "stream",
     "text": [
      "Survived\n",
      "0    468\n",
      "1    109\n",
      "Name: count, dtype: int64\n"
     ]
    },
    {
     "data": {
      "text/plain": [
       "Text(0.5, 1.0, 'Not Survived vs. Survived Male Passengers')"
      ]
     },
     "execution_count": 41,
     "metadata": {},
     "output_type": "execute_result"
    },
    {
     "data": {
      "image/png": "[encoded data removed]",
      "text/plain": [
       "<Figure size 640x480 with 1 Axes>"
      ]
     },
     "metadata": {},
     "output_type": "display_data"
    }
   ],
   "source": [
    "categories = ['Not Survived', 'Survived']\n",
    "\n",
    "male_bars = data[data['Sex']=='male']['Survived'].value_counts().sort_index()\n",
    "print(male_bars)\n",
    "\n",
    "plt.bar(categories, male_bars)\n",
    "\n",
    "plt.ylabel('Number of Passengers')\n",
    "plt.title('Not Survived vs. Survived Male Passengers')\n",
    "\n",
    "#plt.show()"
   ]
  },
  {
   "cell_type": "code",
   "execution_count": 42,
   "metadata": {
    "id": "lHp_dkzxAiXv",
    "tags": []
   },
   "outputs": [
    {
     "name": "stdout",
     "output_type": "stream",
     "text": [
      "Survived\n",
      "0     81\n",
      "1    233\n",
      "Name: count, dtype: int64\n"
     ]
    },
    {
     "data": {
      "image/png": "[encoded data removed]",
      "text/plain": [
       "<Figure size 640x480 with 1 Axes>"
      ]
     },
     "metadata": {},
     "output_type": "display_data"
    }
   ],
   "source": [
    "categories = ['Not Survived', 'Survived']\n",
    "\n",
    "female_bars = data[data['Sex']=='female']['Survived'].value_counts().sort_index()\n",
    "print(female_bars)\n",
    "\n",
    "plt.bar(categories, female_bars)\n",
    "\n",
    "plt.ylabel('Number of Passengers')\n",
    "plt.title('Not Survived vs. Survived Female Passengers')\n",
    "\n",
    "plt.show()"
   ]
  },
  {
   "cell_type": "markdown",
   "metadata": {
    "id": "YahpEf1SDKgZ"
   },
   "source": [
    "#### **Problem #8**\n",
    "\n",
    "Comparing these values can be difficult since there is a different number of males and females in this dataset as seen in Problem #6. To more properly compare, do the following:\n",
    "1. Use the `.groupby(...)` method to group the data by sex.\n",
    "2. Determine the mean value of `Survived` for males and females. **NOTE**: This represents the *fraction* of those who survived since `Survived` is either 0 or 1.\n",
    "3. Visualize the results with a bar graph."
   ]
  },
  {
   "cell_type": "code",
   "execution_count": 48,
   "metadata": {
    "id": "tGrLOLchDKgm",
    "tags": []
   },
   "outputs": [
    {
     "name": "stdout",
     "output_type": "stream",
     "text": [
      "Sex\n",
      "female    0.742038\n",
      "male      0.188908\n",
      "Name: Survived, dtype: float64\n"
     ]
    },
    {
     "data": {
      "image/png": "[encoded data removed]",
      "text/plain": [
       "<Figure size 640x480 with 1 Axes>"
      ]
     },
     "metadata": {},
     "output_type": "display_data"
    }
   ],
   "source": [
    "grouped_data = data.groupby('Sex')\n",
    "surv_frac = grouped_data['Survived'].mean().sort_index()\n",
    "print(surv_frac.head())\n",
    "\n",
    "x_values = surv_frac.index\n",
    "plt.bar(x_values, surv_frac)\n",
    "\n",
    "plt.xlabel('Sex')\n",
    "plt.ylabel('Survival Rate')\n",
    "plt.title('Survival Rates of Male and Female Passengers')\n",
    "\n",
    "plt.show()"
   ]
  },
  {
   "cell_type": "markdown",
   "metadata": {
    "id": "Ym3Ua_uhFK1A"
   },
   "source": [
    "#### **Problem #9**\n",
    "\n",
    "Now, perform the same analysis as in Problem #8 using the variable `HasCabin` instead of `Sex`."
   ]
  },
  {
   "cell_type": "code",
   "execution_count": 45,
   "metadata": {
    "id": "nGDhNWPqFK1M",
    "tags": []
   },
   "outputs": [
    {
     "data": {
      "image/png": "[encoded data removed]",
      "text/plain": [
       "<Figure size 640x480 with 1 Axes>"
      ]
     },
     "metadata": {},
     "output_type": "display_data"
    }
   ],
   "source": [
    "grouped_data = data.groupby('HasCabin')\n",
    "surv_frac = grouped_data['Survived'].mean()\n",
    "surv_frac.head()\n",
    "\n",
    "x_values = ['No', 'Yes']\n",
    "plt.bar(x_values, surv_frac)\n",
    "\n",
    "plt.xlabel('Has Cabin')\n",
    "plt.ylabel('Survival Rate')\n",
    "plt.title('Survival Rates of Passengers Having Cabin or Not')\n",
    "\n",
    "plt.show()"
   ]
  },
  {
   "cell_type": "markdown",
   "metadata": {
    "id": "hOT2P3yTFz3J"
   },
   "source": [
    "#### **Problem #10**\n",
    "\n",
    "Performing the same type of analysis, determine which port of embarkation had the least survivors.\n",
    "\n",
    "<br>\n",
    "\n",
    "**NOTE**: The description of the dataset at the top of the notebook explains what each possible category (C, Q, S) means."
   ]
  },
  {
   "cell_type": "code",
   "execution_count": 59,
   "metadata": {
    "id": "IBRjXjzRFz3X",
    "tags": []
   },
   "outputs": [
    {
     "name": "stdout",
     "output_type": "stream",
     "text": [
      "Embarked\n",
      "S    0.339009\n",
      "Q    0.389610\n",
      "C    0.553571\n",
      "Name: Survived, dtype: float64\n"
     ]
    },
    {
     "ename": "AttributeError",
     "evalue": "'NoneType' object has no attribute 'shape'",
     "output_type": "error",
     "traceback": [
      "\u001b[0;31m---------------------------------------------------------------------------\u001b[0m",
      "\u001b[0;31mAttributeError\u001b[0m                            Traceback (most recent call last)",
      "\u001b[0;32m/tmp/ipykernel_121/3108962851.py\u001b[0m in \u001b[0;36m<cell line: 6>\u001b[0;34m()\u001b[0m\n\u001b[1;32m      4\u001b[0m \u001b[0;34m\u001b[0m\u001b[0m\n\u001b[1;32m      5\u001b[0m \u001b[0mx_values\u001b[0m \u001b[0;34m=\u001b[0m \u001b[0;34m[\u001b[0m\u001b[0;34m'Southampton'\u001b[0m\u001b[0;34m,\u001b[0m \u001b[0;34m'Queenstown'\u001b[0m\u001b[0;34m,\u001b[0m \u001b[0;34m'Cherbourg'\u001b[0m\u001b[0;34m]\u001b[0m\u001b[0;34m.\u001b[0m\u001b[0mreverse\u001b[0m\u001b[0;34m(\u001b[0m\u001b[0;34m)\u001b[0m\u001b[0;31m#surv.frac.index\u001b[0m\u001b[0;34m\u001b[0m\u001b[0;34m\u001b[0m\u001b[0m\n\u001b[0;32m----> 6\u001b[0;31m \u001b[0mprint\u001b[0m\u001b[0;34m(\u001b[0m\u001b[0mx_values\u001b[0m\u001b[0;34m.\u001b[0m\u001b[0mshape\u001b[0m\u001b[0;34m(\u001b[0m\u001b[0;34m)\u001b[0m\u001b[0;34m)\u001b[0m\u001b[0;34m\u001b[0m\u001b[0;34m\u001b[0m\u001b[0m\n\u001b[0m\u001b[1;32m      7\u001b[0m \u001b[0;31m#plt.bar(x_values, surv_frac)\u001b[0m\u001b[0;34m\u001b[0m\u001b[0;34m\u001b[0m\u001b[0m\n\u001b[1;32m      8\u001b[0m \u001b[0;34m\u001b[0m\u001b[0m\n",
      "\u001b[0;31mAttributeError\u001b[0m: 'NoneType' object has no attribute 'shape'"
     ]
    }
   ],
   "source": [
    "grouped_data = data.groupby('Embarked')\n",
    "surv_frac = grouped_data['Survived'].mean().sort_index(ascending=False)\n",
    "print(surv_frac.head())\n",
    "\n",
    "x_values = ['Southampton', 'Queenstown', 'Cherbourg'].reverse()#surv.frac.index\n",
    "print(x_values.shape())\n",
    "#plt.bar(x_values, surv_frac)\n",
    "\n",
    "#plt.xlabel('Port of Embarkation')\n",
    "#plt.ylabel('Survival Rate')\n",
    "#plt.title('Survival Rates of Passengers From Different Ports of Embarkation')\n",
    "\n",
    "#plt.show()"
   ]
  },
  {
   "cell_type": "markdown",
   "metadata": {
    "id": "L-gkdA-GGeQ6"
   },
   "source": [
    "#### **Problem #11**\n",
    "\n",
    "Performing the same type of analysis, determine if the passenger class had a noticeable effect on survival."
   ]
  },
  {
   "cell_type": "code",
   "execution_count": null,
   "metadata": {
    "id": "tRe3YBe-GeRI"
   },
   "outputs": [],
   "source": [
    "# COMPLETE THIS CODE"
   ]
  },
  {
   "cell_type": "markdown",
   "metadata": {
    "id": "SuPOXt3zGrnY"
   },
   "source": [
    "#### **Problem #12**\n",
    "\n",
    "Performing the same type of analysis on the new variable created below, determine if the family size had a noticeable effect on survival."
   ]
  },
  {
   "cell_type": "code",
   "execution_count": null,
   "metadata": {
    "id": "xhr_MPKVGrnl"
   },
   "outputs": [],
   "source": [
    "data['FamilySize'] = data['Sibsp'] + data['Parch'] + 1\n",
    "\n",
    "# COMPLETE THIS CODE"
   ]
  },
  {
   "cell_type": "markdown",
   "metadata": {
    "id": "Itm4O5BqG6ba"
   },
   "source": [
    "#### **Problem #13**\n",
    "\n",
    "For sake of comparison, visualize the fraction of survivors versus family size found in Problem #12 using a *line plot*."
   ]
  },
  {
   "cell_type": "code",
   "execution_count": null,
   "metadata": {
    "id": "Tb9SpilIG6bj"
   },
   "outputs": [],
   "source": [
    "grouped_data = # COMPLETE THIS CODE\n",
    "surv_frac = grouped_data[# COMPLETE THIS CODE\n",
    "\n",
    "x_values = surv_frac.index\n",
    "plt.# COMPLETE THIS CODE\n",
    "\n",
    "plt.xlabel(# COMPLETE THIS CODE\n",
    "plt.ylabel(# COMPLETE THIS CODE\n",
    "plt.title(# COMPLETE THIS CODE\n",
    "\n",
    "plt.# COMPLETE THIS CODE"
   ]
  },
  {
   "cell_type": "markdown",
   "metadata": {
    "id": "suyAS9qjJQoe"
   },
   "source": [
    "#### **Problem #14**\n",
    "\n",
    "Visualize the fraction of survivors versus age using a scatter plot."
   ]
  },
  {
   "cell_type": "code",
   "execution_count": null,
   "metadata": {
    "id": "auyVf7vUJQor"
   },
   "outputs": [],
   "source": [
    "# COMPLETE THIS CODE"
   ]
  },
  {
   "cell_type": "markdown",
   "metadata": {
    "id": "9KlTXU2sJfm8"
   },
   "source": [
    "#### **Problem #15**\n",
    "\n",
    "The results from Problem #14 are not very insightful because we are treating age like a categorical variable when it's realistically a numerical variable that can take on *many* values.\n",
    "\n",
    "<br>\n",
    "\n",
    "So, let's *make* a categorical age variable as follows:\n",
    "1. Run the first cell to create this categorical variable.\n",
    "2. Create a bar plot showing the survival rate versus age category."
   ]
  },
  {
   "cell_type": "code",
   "execution_count": null,
   "metadata": {
    "id": "eM1axct1KIIk"
   },
   "outputs": [],
   "source": [
    "data['Age Category'] = 'unknown'\n",
    "\n",
    "data['Age Category'][data['Age'] < 13] = 1\n",
    "data['Age Category'][(data['Age'] >= 13) & (data['Age'] < 18)] = 2\n",
    "data['Age Category'][(data['Age'] >= 18) & (data['Age'] < 35)] = 3\n",
    "data['Age Category'][(data['Age'] >= 35) & (data['Age'] < 65)] = 4\n",
    "data['Age Category'][data['Age'] >= 65] = 5"
   ]
  },
  {
   "cell_type": "code",
   "execution_count": null,
   "metadata": {
    "id": "H6KRWtYhJfnJ"
   },
   "outputs": [],
   "source": [
    "# COMPLETE THIS CODE"
   ]
  },
  {
   "cell_type": "markdown",
   "metadata": {
    "id": "0Wy_--MPpU6M"
   },
   "source": [
    "#### **Problem #16**\n",
    "\n",
    "Apply what you've learned about this data to *try* making predictions about who survived or not. Specifically,\n",
    "\n",
    "1. Run the provided code to predict that only first class passengers survived (based on the fact that they had the highest survival rate). **Make sure you understand this code before moving on.**\n",
    "\n",
    "2. Using the same approach, make predictions based on whether the passengers were male or female and considering the results you found above.\n",
    "\n",
    "3. Using the same approach, make predictions based on which port the passengers embarked from and considering the results you found above."
   ]
  },
  {
   "cell_type": "code",
   "execution_count": null,
   "metadata": {
    "colab": {
     "base_uri": "https://localhost:8080/"
    },
    "executionInfo": {
     "elapsed": 250,
     "status": "ok",
     "timestamp": 1708352618465,
     "user": {
      "displayName": "Adam Pearson",
      "userId": "12812318258019242438"
     },
     "user_tz": -120
    },
    "id": "ey_FciSjmzIh",
    "outputId": "1b784aec-1cd8-408e-9161-946cb919413b"
   },
   "outputs": [
    {
     "data": {
      "text/plain": [
       "True     605\n",
       "False    286\n",
       "dtype: int64"
      ]
     },
     "execution_count": 195,
     "metadata": {},
     "output_type": "execute_result"
    }
   ],
   "source": [
    "predicted_values = (data['Pclass'] == 1)\n",
    "\n",
    "correct_predictions = (data['Survived'] == predicted_values)\n",
    "\n",
    "correct_predictions.value_counts()"
   ]
  },
  {
   "cell_type": "code",
   "execution_count": null,
   "metadata": {
    "id": "Ipi0u4LYpU6M"
   },
   "outputs": [],
   "source": [
    "# COMPLETE THIS CODE"
   ]
  },
  {
   "cell_type": "code",
   "execution_count": null,
   "metadata": {
    "id": "WpdqQnqxv3Tv"
   },
   "outputs": [],
   "source": [
    "# COMPLETE THIS CODE"
   ]
  },
  {
   "cell_type": "markdown",
   "metadata": {
    "id": "KpNVjZG_n9tQ"
   },
   "source": [
    "---\n",
    "\n",
    "## **[OPTIONAL] Homework**\n",
    "\n",
    "---\n",
    "\n",
    "As we transition from data science and general machine learning concepts to learning our first machine learning model tomorrow, we recommend that you review the optional notebook problems so far, reflect on what topics you feel most and least comfortable with, and consider the following open-ended questions:\n",
    "\n",
    "1. Would you consider Exploratory Data Analysis a “linear” process? Why or why not?\n",
    "\n",
    "1. Can you recall a time you’ve read about or observed the results of unethical data practices in terms of data collection, use, etc.?\n",
    "\n",
    "1. After exploring the Titanic data, were there specific variables that seemed more related to survival rates than others, or did they all seem equally related?\n",
    "\n",
    "1. Are there other ways you could imagine making predictions about the survival of passengers in the Titanic dataset? How you could use more information about one variable (such as its average or standard deviation)? How could you combine the value of multiple variables (ex: `Sex` and `PClass`) to produce one prediction?\n",
    "\n",
    "1. As we will see tomorrow, linear regression is a form of finding the “line of best fit”. Are there places in your own classes where you use or teach this?\n",
    "\n",
    "1. Given the slope and intercept of a line, how can you determine y values given an x value? How could this be used to make predictions for unseen data? How does this work if you have multiple input variables (not just x)?"
   ]
  },
  {
   "cell_type": "markdown",
   "metadata": {
    "id": "7dzC09dLlEhm"
   },
   "source": [
    "---\n",
    "\n",
    "# End of Notebook\n",
    "\n",
    "© 2024 The Coding School, All rights reserved"
   ]
  }
 ],
 "metadata": {
  "colab": {
   "provenance": [],
   "toc_visible": true
  },
  "kernelspec": {
   "display_name": "default:Python",
   "language": "python",
   "name": "conda-env-default-py"
  },
  "language_info": {
   "codemirror_mode": {
    "name": "ipython",
    "version": 3
   },
   "file_extension": ".py",
   "mimetype": "text/x-python",
   "name": "python",
   "nbconvert_exporter": "python",
   "pygments_lexer": "ipython3",
   "version": "3.9.16"
  }
 },
 "nbformat": 4,
 "nbformat_minor": 4
}
