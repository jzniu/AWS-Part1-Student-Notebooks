{
 "cells": [
  {
   "cell_type": "markdown",
   "metadata": {
    "id": "K3JVwUgVElwe"
   },
   "source": [
    "# **Lab 1: Python Refresher**\n",
    "---\n",
    "\n",
    "### **Description**\n",
    "In this lab, we will practice python basics with a focus on manipulating objects and debugging code. With any remaining time, we can also dive into some basic statistics with python and see how this can be used to make predictions.\n",
    "\n",
    "<br>\n",
    "\n",
    "### **Structure**\n",
    "\n",
    "**Part 1**: [Python Refresher](#p1)\n",
    "\n",
    "**Part 2**: [Debugging](#p2)\n",
    "\n",
    "**Part 3**: [Basic Statistics with Python [OPTIONAL]](#p3)\n",
    ">\n",
    "> **Part 3.1**: [Implementing Mean, Standard Deviation, and Others](#p3.1)\n",
    ">\n",
    "> **Part 3.2**: [Analyzing Product Sales](#p3.2)\n",
    "\n",
    "**Part 4**: [Additional Practice [OPTIONAL]](#p4)\n",
    ">\n",
    "> **Part 4.1**: [Arithmetic Operators](#p4.1)\n",
    ">\n",
    "> **Part 4.2**: [Variables](#p4.2)\n",
    ">\n",
    "> **Part 4.3**: [Objects, Methods, and Attributes](#p4.3)\n",
    ">\n",
    "> **Part 4.4**: [Debugging](#p4.4)\n",
    ">\n",
    "> **Part 4.5**: [Challenge Problems](#p4.5)\n",
    "\n",
    "\n",
    "<br>\n",
    "\n",
    "### **Learning Objectives**\n",
    "By the end of this lab, we will:\n",
    "* Recognize the framework of objects, methods, attributes.\n",
    "\n",
    "* Recognize the essential programming skills of: debugging, commenting, and reading documentation.\n",
    "\n",
    "\n",
    "\n",
    "<br>\n",
    "\n",
    "### **Resources**\n",
    "* [Python Basics Cheat Sheet](https://docs.google.com/document/d/1YcbzHos1139dSq-9DO6zYXyza1WXiBF0YdpYlG8yS1k/edit?usp=sharing)"
   ]
  },
  {
   "cell_type": "code",
   "execution_count": 3,
   "metadata": {
    "colab": {
     "base_uri": "https://localhost:8080/"
    },
    "executionInfo": {
     "elapsed": 870,
     "status": "ok",
     "timestamp": 1707468340740,
     "user": {
      "displayName": "Adam Pearson",
      "userId": "12812318258019242438"
     },
     "user_tz": -120
    },
    "id": "pIrZBWXj7fDC",
    "outputId": "59697a46-e29c-47ac-fb4e-f20ae092bdd5",
    "tags": []
   },
   "outputs": [
    {
     "name": "stdout",
     "output_type": "stream",
     "text": [
      "Requirement already satisfied: sympy in c:\\data\\python-workspaces\\vscode\\aws-part1-student-notebooks\\.venv\\lib\\site-packages (1.12)\n",
      "Requirement already satisfied: numpy in c:\\data\\python-workspaces\\vscode\\aws-part1-student-notebooks\\.venv\\lib\\site-packages (1.26.4)\n",
      "Requirement already satisfied: matplotlib in c:\\data\\python-workspaces\\vscode\\aws-part1-student-notebooks\\.venv\\lib\\site-packages (3.8.3)\n",
      "Requirement already satisfied: mpmath>=0.19 in c:\\data\\python-workspaces\\vscode\\aws-part1-student-notebooks\\.venv\\lib\\site-packages (from sympy) (1.3.0)\n",
      "Requirement already satisfied: contourpy>=1.0.1 in c:\\data\\python-workspaces\\vscode\\aws-part1-student-notebooks\\.venv\\lib\\site-packages (from matplotlib) (1.2.0)\n",
      "Requirement already satisfied: cycler>=0.10 in c:\\data\\python-workspaces\\vscode\\aws-part1-student-notebooks\\.venv\\lib\\site-packages (from matplotlib) (0.12.1)\n",
      "Requirement already satisfied: fonttools>=4.22.0 in c:\\data\\python-workspaces\\vscode\\aws-part1-student-notebooks\\.venv\\lib\\site-packages (from matplotlib) (4.50.0)\n",
      "Requirement already satisfied: kiwisolver>=1.3.1 in c:\\data\\python-workspaces\\vscode\\aws-part1-student-notebooks\\.venv\\lib\\site-packages (from matplotlib) (1.4.5)\n",
      "Requirement already satisfied: packaging>=20.0 in c:\\data\\python-workspaces\\vscode\\aws-part1-student-notebooks\\.venv\\lib\\site-packages (from matplotlib) (24.0)\n",
      "Requirement already satisfied: pillow>=8 in c:\\data\\python-workspaces\\vscode\\aws-part1-student-notebooks\\.venv\\lib\\site-packages (from matplotlib) (10.2.0)\n",
      "Requirement already satisfied: pyparsing>=2.3.1 in c:\\data\\python-workspaces\\vscode\\aws-part1-student-notebooks\\.venv\\lib\\site-packages (from matplotlib) (3.1.2)\n",
      "Requirement already satisfied: python-dateutil>=2.7 in c:\\data\\python-workspaces\\vscode\\aws-part1-student-notebooks\\.venv\\lib\\site-packages (from matplotlib) (2.9.0.post0)\n",
      "Requirement already satisfied: six>=1.5 in c:\\data\\python-workspaces\\vscode\\aws-part1-student-notebooks\\.venv\\lib\\site-packages (from python-dateutil>=2.7->matplotlib) (1.16.0)\n",
      "Libraries imported successfully!\n"
     ]
    }
   ],
   "source": [
    "! pip install sympy numpy matplotlib\n",
    "\n",
    "# @title\n",
    "import warnings\n",
    "import sympy\n",
    "import numpy\n",
    "import matplotlib\n",
    "import time\n",
    "import math\n",
    "from matplotlib import pyplot\n",
    "\n",
    "warnings.filterwarnings(\"ignore\")\n",
    "\n",
    "def calculate_area(length, width):\n",
    "  area = length * width\n",
    "  return area\n",
    "\n",
    "class baby():\n",
    "  def __init__(self,age=0, mood=\"crying\", hunger=\"hungry\"):\n",
    "    self.age = age\n",
    "    self.mood = mood\n",
    "    self.hunger = hunger\n",
    "  def feed(self):\n",
    "    self.hunger = \"full\"\n",
    "  def play(self):\n",
    "    self.mood = \"happy\"\n",
    "\n",
    "class plant():\n",
    "  def __init__(self):\n",
    "    self.planted = 0\n",
    "    self.day_of_last_growth = 0\n",
    "    self.day = 0\n",
    "    self.water = 0\n",
    "    self.light = 0\n",
    "    self.health = 10\n",
    "    self.stage = 0\n",
    "    self.perfect_light = numpy.random.choice([1,2,3,4,5,6,7,8,9,10])\n",
    "    self.perfect_water = numpy.random.choice([1,2,3,4,5,6,7,8,9,10])\n",
    "\n",
    "  def water_plant(self,amount):\n",
    "    if amount > 0:\n",
    "      print(\"You watered your plant.\")\n",
    "      self.water += round(amount)\n",
    "    elif amount < 0:\n",
    "      raise ValueError(\"You can't remove water from your plant! You will have to wait a bit for it to dry out.\")\n",
    "    else:\n",
    "      print(\"You decided to not water your plant.\")\n",
    "\n",
    "  def set_light(self,level):\n",
    "    if level <0:\n",
    "      raise ValueError(\"You can't set the light level to negative values.\")\n",
    "    elif level > 10:\n",
    "      raise ValueError(\"Your light is not that strong\")\n",
    "    else:\n",
    "      self.light = round(level)\n",
    "      print(\"You set the light to level \" + str(self.light))\n",
    "\n",
    "  def check_health(self):\n",
    "    print(\"Your plant's health is a \" + str(self.health)+ \"/\" + str(10+(5*self.stage))+\".\")\n",
    "    print(\"If you had to rate the wetness of the soil, it would be a \" + str(self.water)+ \"/10.\")\n",
    "    print(\"Your light is turned up to \" + str(self.light)+ \".\")\n",
    "    if self.stage == 10:\n",
    "      print(\"Your plant is full grown.\")\n",
    "\n",
    "  def wait(self,num_days):\n",
    "    for i in range(num_days):\n",
    "\n",
    "      self.day += 1\n",
    "      print('Day ' + str(self.day))\n",
    "      if self.perfect_light > self.light:\n",
    "        print(\"Your plant needs more light\")\n",
    "        self.health += -1*abs(self.perfect_light- self.light)/10\n",
    "      elif self.perfect_light < self.light:\n",
    "        print(\"Your plant needs less light\")\n",
    "        self.health += -1*abs(self.perfect_light- self.light)/10\n",
    "      else:\n",
    "        print(\"Your plant looks happy with the light it has.\")\n",
    "      if self.perfect_water > self.water:\n",
    "        print(\"Your plant needs more water\")\n",
    "        self.health += -1*abs(self.perfect_water- self.water)/10\n",
    "      elif self.perfect_water < self.water:\n",
    "        print(\"Your plant needs less water\")\n",
    "        self.health += -1*abs(self.perfect_water- self.water)/10\n",
    "      else:\n",
    "        print(\"Your plant looks happy with the water it had.\")\n",
    "      if self.perfect_light == self.light and self.perfect_water == self.water:\n",
    "        self.health = (self.health + 10+(5*self.stage))/2\n",
    "        if self.day- self.day_of_last_growth >= 5 and self.stage < 10:\n",
    "          print(\"Your plant grew a bit! Its preferances may have changed.\")\n",
    "          self.stage += 1\n",
    "          self.health += 5\n",
    "          self.day_of_last_growth = self.day\n",
    "          self.perfect_light = numpy.random.choice([1,2,3,4,5,6,7,8,9,10])\n",
    "          self.perfect_water = numpy.random.choice([1,2,3,4,5,6,7,8,9,10])\n",
    "          if self.stage == 10:\n",
    "            print(\"Congrats! Your plant is full grown.\")\n",
    "      self.water += -1*self.light\n",
    "      if self.water < 0:\n",
    "        self.water = 0\n",
    "      if self.health <= 0:\n",
    "        print(\"Your plant died! You decide to plant a new seed. Treat this one better!\")\n",
    "        self.planted = 0\n",
    "        self.day_of_last_growth = 0\n",
    "        self.day = 0\n",
    "        self.water = 0\n",
    "        self.light = 0\n",
    "        self.health = 10\n",
    "        self.stage = 0\n",
    "        self.perfect_light = numpy.random.choice([1,2,3,4,5,6,7,8,9,10])\n",
    "        self.perfect_water = numpy.random.choice([1,2,3,4,5,6,7,8,9,10])\n",
    "\n",
    "      print('\\n')\n",
    "\n",
    "def dynamic_find_roots(a,b,c):\n",
    "  if b**2-4*a*c == 0:\n",
    "    return -b/(2*a)\n",
    "  elif b**2 - 4*a*c <0:\n",
    "    return (-b+1j*(4*a*c-b**2)**0.5)/(2*a),(-b-1j*(4*a*c-b**2)**0.5)/(2*a)\n",
    "  elif b**2 - 4*a*c >0:\n",
    "    return (-b+(b**2-4*a*c)**0.5)/(2*a),(-b-(b**2-4*a*c)**0.5)/(2*a)\n",
    "print(\"Libraries imported successfully!\")"
   ]
  },
  {
   "cell_type": "markdown",
   "metadata": {
    "id": "idga37M2FsMR"
   },
   "source": [
    "<a name=\"p1\"></a>\n",
    "\n",
    "---\n",
    "## **Part 1: Objects, Methods, and Attributes**\n",
    "---\n",
    "Python and any libraries we install provides us with plenty of objects to work with. In this part, we will practice interacting with objects using methods and attributes."
   ]
  },
  {
   "cell_type": "markdown",
   "metadata": {
    "id": "E90o2LJcwsMI"
   },
   "source": [
    "#### **Problem #1.1**\n",
    "\n",
    "**Together**, let's create a \"baby\" object and output its \"age\" attribute.\n"
   ]
  },
  {
   "cell_type": "code",
   "execution_count": 4,
   "metadata": {
    "id": "xlvZ8-oUEUv4",
    "tags": []
   },
   "outputs": [
    {
     "name": "stdout",
     "output_type": "stream",
     "text": [
      "0\n"
     ]
    }
   ],
   "source": [
    "jeremy = baby()\n",
    "print(jeremy.age)"
   ]
  },
  {
   "cell_type": "markdown",
   "metadata": {
    "id": "VV2qngN080MI"
   },
   "source": [
    "#### **Problem #1.2**\n",
    "\n",
    "**Together**, set the baby Jeremy's age to 2."
   ]
  },
  {
   "cell_type": "code",
   "execution_count": 5,
   "metadata": {
    "id": "cIs8URcj0R8K",
    "tags": []
   },
   "outputs": [],
   "source": [
    "jeremy.age = 2"
   ]
  },
  {
   "cell_type": "markdown",
   "metadata": {
    "id": "1NLuZ2HS0ib4"
   },
   "source": [
    "#### **Problem #1.3**\n",
    "\n",
    "**Together**, output the baby's `hunger` attribute, then use its `feed` method (this method does not require any arguments). Finally, print out the new `hunger` attribute.\n"
   ]
  },
  {
   "cell_type": "code",
   "execution_count": 6,
   "metadata": {
    "id": "urA0ZLTi0icL",
    "tags": []
   },
   "outputs": [
    {
     "name": "stdout",
     "output_type": "stream",
     "text": [
      "hungry\n"
     ]
    }
   ],
   "source": [
    "print(jeremy.hunger)\n",
    "jeremy.feed()"
   ]
  },
  {
   "cell_type": "code",
   "execution_count": 7,
   "metadata": {
    "id": "n7gbGtKkW9S_",
    "tags": []
   },
   "outputs": [
    {
     "name": "stdout",
     "output_type": "stream",
     "text": [
      "full\n"
     ]
    }
   ],
   "source": [
    "print(jeremy.hunger)"
   ]
  },
  {
   "cell_type": "markdown",
   "metadata": {
    "id": "B9w5PxHDvUmQ"
   },
   "source": [
    "---\n",
    "\n",
    "#### **Now it's your turn! Try Problems #1.4 - 1.5 on your own.**\n",
    "\n",
    "---"
   ]
  },
  {
   "cell_type": "markdown",
   "metadata": {
    "id": "PpyG4J8jyB_u"
   },
   "source": [
    "#### **Problem #1.4**\n",
    "\n",
    "**Independently**, create a new `baby` object, and output the `mood` attribute. Then, use its `play` method and output the `mood` attribute once again."
   ]
  },
  {
   "cell_type": "code",
   "execution_count": 8,
   "metadata": {
    "id": "za3WWQC6zl_y",
    "tags": []
   },
   "outputs": [
    {
     "name": "stdout",
     "output_type": "stream",
     "text": [
      "crying\n"
     ]
    }
   ],
   "source": [
    "aisha = baby()\n",
    "print(aisha.mood)"
   ]
  },
  {
   "cell_type": "code",
   "execution_count": 9,
   "metadata": {
    "id": "1Dgk_-7biVNt",
    "tags": []
   },
   "outputs": [
    {
     "name": "stdout",
     "output_type": "stream",
     "text": [
      "happy\n"
     ]
    }
   ],
   "source": [
    "aisha.play()\n",
    "print(aisha.mood)"
   ]
  },
  {
   "cell_type": "markdown",
   "metadata": {
    "id": "y06lT5ANLLjA"
   },
   "source": [
    "#### **Problem #1.5**\n",
    "\n",
    "**Independently**,\n",
    "\n",
    "\n",
    "*   Create a new `baby` object. Output its age attribute.\n",
    "*   Next, use its `feed` method, use its `play` method, and set its age attribute to 1.\n",
    "* Then, output its `mood`, `hunger`, and new `age` attributes.\n",
    "\n",
    "\n",
    "\n"
   ]
  },
  {
   "cell_type": "code",
   "execution_count": 10,
   "metadata": {
    "id": "ECzPUucnM9wF",
    "tags": []
   },
   "outputs": [
    {
     "name": "stdout",
     "output_type": "stream",
     "text": [
      "0\n"
     ]
    }
   ],
   "source": [
    "skylar = baby()\n",
    "print(skylar.age)"
   ]
  },
  {
   "cell_type": "code",
   "execution_count": 11,
   "metadata": {
    "id": "ovWX1bpNM9e5",
    "tags": []
   },
   "outputs": [],
   "source": [
    "skylar.feed()\n",
    "skylar.play()\n",
    "skylar.age = 1"
   ]
  },
  {
   "cell_type": "code",
   "execution_count": 12,
   "metadata": {
    "id": "QwNeCFwMXSQ5",
    "tags": []
   },
   "outputs": [
    {
     "name": "stdout",
     "output_type": "stream",
     "text": [
      "happy\n",
      "full\n",
      "1\n"
     ]
    }
   ],
   "source": [
    "print(skylar.mood)\n",
    "print(skylar.hunger)\n",
    "print(skylar.age)"
   ]
  },
  {
   "cell_type": "markdown",
   "metadata": {
    "id": "hau-HVMLX6T_"
   },
   "source": [
    "---\n",
    "\n",
    "<center>\n",
    "\n",
    "#### **Wait for Your Instructor to Continue**\n",
    "\n",
    "---"
   ]
  },
  {
   "cell_type": "markdown",
   "metadata": {
    "id": "uW7IdP0C9WJp"
   },
   "source": [
    "#### **Problem #1.6**\n",
    "\n",
    "**Together**, let's create a `plant` object using its corresponding function. Then, using the methods listed below, check its health, water it, set it's light level, wait three days, and check its health again.\n",
    "\n",
    "* `check_health()`\n",
    "* `water_plant(amount)`\n",
    "* `set_light(level)`\n",
    "* `wait(num_days)`"
   ]
  },
  {
   "cell_type": "code",
   "execution_count": 13,
   "metadata": {
    "id": "cyzzbQUUT1Da"
   },
   "outputs": [],
   "source": [
    "rose = plant()"
   ]
  },
  {
   "cell_type": "code",
   "execution_count": 14,
   "metadata": {
    "id": "F5De-nHMT2pu"
   },
   "outputs": [
    {
     "name": "stdout",
     "output_type": "stream",
     "text": [
      "Your plant's health is a 10/10.\n",
      "If you had to rate the wetness of the soil, it would be a 0/10.\n",
      "Your light is turned up to 0.\n"
     ]
    }
   ],
   "source": [
    "rose.check_health()"
   ]
  },
  {
   "cell_type": "code",
   "execution_count": 15,
   "metadata": {
    "id": "NpVj77wV9VwJ"
   },
   "outputs": [],
   "source": [
    "# COMPLETE THIS CODE"
   ]
  },
  {
   "cell_type": "code",
   "execution_count": 16,
   "metadata": {
    "id": "6y0i_BSEHQs1"
   },
   "outputs": [],
   "source": [
    "# COMPLETE THIS CODE"
   ]
  },
  {
   "cell_type": "code",
   "execution_count": 17,
   "metadata": {
    "id": "2jxExudeYvOC"
   },
   "outputs": [],
   "source": [
    "# COMPLETE THIS CODE"
   ]
  },
  {
   "cell_type": "markdown",
   "metadata": {
    "id": "DYB6g6qQYxTa"
   },
   "source": [
    "#### **Problem #1.7**\n",
    "\n",
    "**Together**, let's create a `plant` object using its corresponding function. Then, check the value of its `perfect_light` attribute and set the light to this value using the `set_light(level)` method. Lastly, wait 5 days."
   ]
  },
  {
   "cell_type": "code",
   "execution_count": 18,
   "metadata": {
    "id": "QOMpSstkYxTp",
    "tags": []
   },
   "outputs": [],
   "source": [
    "cactus = plant()"
   ]
  },
  {
   "cell_type": "code",
   "execution_count": 19,
   "metadata": {
    "id": "ZXyPx0p5YxTq",
    "tags": []
   },
   "outputs": [
    {
     "name": "stdout",
     "output_type": "stream",
     "text": [
      "7\n"
     ]
    }
   ],
   "source": [
    "print(cactus.perfect_light)"
   ]
  },
  {
   "cell_type": "code",
   "execution_count": 20,
   "metadata": {
    "id": "LzU8QW6dZ7UY",
    "tags": []
   },
   "outputs": [
    {
     "name": "stdout",
     "output_type": "stream",
     "text": [
      "You set the light to level 7\n"
     ]
    }
   ],
   "source": [
    "cactus.set_light(cactus.perfect_light)"
   ]
  },
  {
   "cell_type": "code",
   "execution_count": 21,
   "metadata": {
    "id": "0syLUKfZZ8r0",
    "tags": []
   },
   "outputs": [
    {
     "name": "stdout",
     "output_type": "stream",
     "text": [
      "Day 1\n",
      "Your plant looks happy with the light it has.\n",
      "Your plant needs more water\n",
      "\n",
      "\n",
      "Day 2\n",
      "Your plant looks happy with the light it has.\n",
      "Your plant needs more water\n",
      "\n",
      "\n",
      "Day 3\n",
      "Your plant looks happy with the light it has.\n",
      "Your plant needs more water\n",
      "\n",
      "\n",
      "Day 4\n",
      "Your plant looks happy with the light it has.\n",
      "Your plant needs more water\n",
      "\n",
      "\n",
      "Day 5\n",
      "Your plant looks happy with the light it has.\n",
      "Your plant needs more water\n",
      "\n",
      "\n"
     ]
    }
   ],
   "source": [
    "cactus.wait(5)"
   ]
  },
  {
   "cell_type": "markdown",
   "metadata": {
    "id": "Dy_9fQr7Z-rv"
   },
   "source": [
    "#### **Problem #1.8**\n",
    "\n",
    "**Independently**, create a `plant` object using its corresponding function. Then, check the value of its `water` and `perfect_water` attributes and increase the water to the perfect value using the `water_plant(amount)` methods. Lastly, check its health using the `check_health()` method."
   ]
  },
  {
   "cell_type": "code",
   "execution_count": 22,
   "metadata": {
    "id": "F4aeffS0bZL-",
    "tags": []
   },
   "outputs": [],
   "source": [
    "cactus = plant()"
   ]
  },
  {
   "cell_type": "code",
   "execution_count": 23,
   "metadata": {
    "id": "6hz1Nx7gbZL_",
    "tags": []
   },
   "outputs": [
    {
     "name": "stdout",
     "output_type": "stream",
     "text": [
      "0\n"
     ]
    }
   ],
   "source": [
    "print(cactus.water)"
   ]
  },
  {
   "cell_type": "code",
   "execution_count": 24,
   "metadata": {
    "id": "ZxBa6UeUbZL_",
    "tags": []
   },
   "outputs": [
    {
     "name": "stdout",
     "output_type": "stream",
     "text": [
      "5\n"
     ]
    }
   ],
   "source": [
    "print(cactus.perfect_water)"
   ]
  },
  {
   "cell_type": "code",
   "execution_count": 25,
   "metadata": {
    "id": "q19Pj9kxbZL_",
    "tags": []
   },
   "outputs": [
    {
     "name": "stdout",
     "output_type": "stream",
     "text": [
      "You watered your plant.\n"
     ]
    }
   ],
   "source": [
    "cactus.water_plant(cactus.perfect_water-cactus.water)"
   ]
  },
  {
   "cell_type": "code",
   "execution_count": 26,
   "metadata": {
    "id": "O7ebOi8ybZMA",
    "tags": []
   },
   "outputs": [
    {
     "name": "stdout",
     "output_type": "stream",
     "text": [
      "Your plant's health is a 10/10.\n",
      "If you had to rate the wetness of the soil, it would be a 5/10.\n",
      "Your light is turned up to 0.\n"
     ]
    }
   ],
   "source": [
    "cactus.check_health()"
   ]
  },
  {
   "cell_type": "markdown",
   "metadata": {
    "id": "uzaiDti_bgcF"
   },
   "source": [
    "#### **Problem #1.9**\n",
    "\n",
    "Create a `plant` object using its corresponding function. Then, wait 10 days using the `wait(num_days)` method without changing the water or light levels."
   ]
  },
  {
   "cell_type": "code",
   "execution_count": 27,
   "metadata": {
    "id": "-oH2GW-MbgcR"
   },
   "outputs": [],
   "source": [
    "cactus = plant()"
   ]
  },
  {
   "cell_type": "code",
   "execution_count": 28,
   "metadata": {
    "id": "7uiIJjcDbgcR",
    "tags": []
   },
   "outputs": [
    {
     "name": "stdout",
     "output_type": "stream",
     "text": [
      "Day 1\n",
      "Your plant needs more light\n",
      "Your plant needs more water\n",
      "\n",
      "\n",
      "Day 2\n",
      "Your plant needs more light\n",
      "Your plant needs more water\n",
      "\n",
      "\n",
      "Day 3\n",
      "Your plant needs more light\n",
      "Your plant needs more water\n",
      "\n",
      "\n",
      "Day 4\n",
      "Your plant needs more light\n",
      "Your plant needs more water\n",
      "\n",
      "\n",
      "Day 5\n",
      "Your plant needs more light\n",
      "Your plant needs more water\n",
      "\n",
      "\n",
      "Day 6\n",
      "Your plant needs more light\n",
      "Your plant needs more water\n",
      "\n",
      "\n",
      "Day 7\n",
      "Your plant needs more light\n",
      "Your plant needs more water\n",
      "\n",
      "\n",
      "Day 8\n",
      "Your plant needs more light\n",
      "Your plant needs more water\n",
      "\n",
      "\n",
      "Day 9\n",
      "Your plant needs more light\n",
      "Your plant needs more water\n",
      "\n",
      "\n",
      "Day 10\n",
      "Your plant needs more light\n",
      "Your plant needs more water\n",
      "Your plant died! You decide to plant a new seed. Treat this one better!\n",
      "\n",
      "\n"
     ]
    }
   ],
   "source": [
    "cactus.wait(10)"
   ]
  },
  {
   "cell_type": "markdown",
   "metadata": {
    "id": "qHmgepsdb_QY"
   },
   "source": [
    "#### **Problem #1.10**\n",
    "\n",
    "Rearrange the cells below such that you create the plant, ensure it has enough light and water, and then check its health after waiting a day."
   ]
  },
  {
   "cell_type": "code",
   "execution_count": 29,
   "metadata": {
    "id": "C2ggbTwqd8_7",
    "tags": []
   },
   "outputs": [],
   "source": [
    "cactus = plant()"
   ]
  },
  {
   "cell_type": "code",
   "execution_count": 30,
   "metadata": {
    "id": "6Dmc1H_gd9AG",
    "tags": []
   },
   "outputs": [
    {
     "name": "stdout",
     "output_type": "stream",
     "text": [
      "You set the light to level 8\n"
     ]
    }
   ],
   "source": [
    "cactus.set_light(cactus.perfect_light)"
   ]
  },
  {
   "cell_type": "code",
   "execution_count": 31,
   "metadata": {
    "id": "Q8l_o-IPd9AG",
    "tags": []
   },
   "outputs": [
    {
     "name": "stdout",
     "output_type": "stream",
     "text": [
      "You watered your plant.\n"
     ]
    }
   ],
   "source": [
    "cactus.water_plant(cactus.perfect_water)"
   ]
  },
  {
   "cell_type": "code",
   "execution_count": 32,
   "metadata": {
    "id": "dplfkRvqd9AG",
    "tags": []
   },
   "outputs": [
    {
     "name": "stdout",
     "output_type": "stream",
     "text": [
      "Day 1\n",
      "Your plant looks happy with the light it has.\n",
      "Your plant looks happy with the water it had.\n",
      "\n",
      "\n"
     ]
    }
   ],
   "source": [
    "cactus.wait(1)"
   ]
  },
  {
   "cell_type": "code",
   "execution_count": 33,
   "metadata": {
    "id": "OqYOrDrDd9AG",
    "tags": []
   },
   "outputs": [
    {
     "name": "stdout",
     "output_type": "stream",
     "text": [
      "Your plant's health is a 10.0/10.\n",
      "If you had to rate the wetness of the soil, it would be a 0/10.\n",
      "Your light is turned up to 8.\n"
     ]
    }
   ],
   "source": [
    "cactus.check_health()"
   ]
  },
  {
   "cell_type": "markdown",
   "metadata": {
    "id": "_uX885yrIh5T"
   },
   "source": [
    "---\n",
    "\n",
    "<center>\n",
    "\n",
    "#### **Wait for Your Instructor to Continue**\n",
    "\n",
    "---"
   ]
  },
  {
   "cell_type": "markdown",
   "metadata": {
    "id": "XvDIuw6vlsKN"
   },
   "source": [
    "<a name=\"p2\"></a>\n",
    "\n",
    "---\n",
    "## **Part 2: Debugging**\n",
    "---\n",
    "\n",
    "In this part, we will explore how to identify and correct errors in Python."
   ]
  },
  {
   "cell_type": "markdown",
   "metadata": {
    "id": "ApCmfZIh-ecP"
   },
   "source": [
    "#### **Problem #2.1**\n",
    "\n",
    "**Together**, let's correct the error below."
   ]
  },
  {
   "cell_type": "code",
   "execution_count": 34,
   "metadata": {
    "colab": {
     "base_uri": "https://localhost:8080/",
     "height": 143
    },
    "executionInfo": {
     "elapsed": 6,
     "status": "error",
     "timestamp": 1707393052470,
     "user": {
      "displayName": "Adam Pearson",
      "userId": "12812318258019242438"
     },
     "user_tz": -120
    },
    "id": "_TvLwwZv-ecQ",
    "outputId": "b7b78901-fdc7-4090-ddbf-f1c86fd71953",
    "tags": []
   },
   "outputs": [
    {
     "name": "stdout",
     "output_type": "stream",
     "text": [
      "dragon fruit\n"
     ]
    }
   ],
   "source": [
    "favorite_fruit = \"dragon fruit\"\n",
    "print(favorite_fruit)"
   ]
  },
  {
   "cell_type": "markdown",
   "metadata": {
    "id": "rHWtdxaXPOrK"
   },
   "source": [
    "#### **Problem #2.2**\n",
    "\n",
    "**Independently**, let's correct the line below based on what we most likely think it is intending to do."
   ]
  },
  {
   "cell_type": "code",
   "execution_count": 35,
   "metadata": {
    "colab": {
     "base_uri": "https://localhost:8080/",
     "height": 143
    },
    "executionInfo": {
     "elapsed": 332,
     "status": "error",
     "timestamp": 1707393169270,
     "user": {
      "displayName": "Adam Pearson",
      "userId": "12812318258019242438"
     },
     "user_tz": -120
    },
    "id": "sRqUoXp-PjJG",
    "outputId": "a6695869-d336-450a-d98f-bd2b15ccf2fc",
    "tags": []
   },
   "outputs": [
    {
     "data": {
      "text/plain": [
       "4"
      ]
     },
     "execution_count": 35,
     "metadata": {},
     "output_type": "execute_result"
    }
   ],
   "source": [
    "x = 0\n",
    "x = 2 * x\n",
    "x = 2 ** x\n",
    "x = 2 * x\n",
    "x = x ** x\n",
    "\n",
    "x"
   ]
  },
  {
   "cell_type": "markdown",
   "metadata": {
    "id": "ZuO22Rx-knbR"
   },
   "source": [
    "#### **Problem #2.3**\n",
    "\n",
    "**Together,** let's debug the code shown below to ensure the plant is given 5 units of water."
   ]
  },
  {
   "cell_type": "code",
   "execution_count": 36,
   "metadata": {
    "colab": {
     "base_uri": "https://localhost:8080/",
     "height": 197
    },
    "executionInfo": {
     "elapsed": 4,
     "status": "error",
     "timestamp": 1707393265821,
     "user": {
      "displayName": "Adam Pearson",
      "userId": "12812318258019242438"
     },
     "user_tz": -120
    },
    "id": "aaa1mwF0knbe",
    "outputId": "1b1a29e6-2a65-42da-85e8-e74ae205e39e",
    "tags": []
   },
   "outputs": [
    {
     "name": "stdout",
     "output_type": "stream",
     "text": [
      "You watered your plant.\n"
     ]
    }
   ],
   "source": [
    "bonsai = plant()\n",
    "bonsai.water_plant(5)"
   ]
  },
  {
   "cell_type": "markdown",
   "metadata": {
    "id": "ouBGRgNjwk-9"
   },
   "source": [
    "---\n",
    "\n",
    "#### **Now it's your turn! Try Problems #2.4 - 2.8 on your own.**\n",
    "\n",
    "---"
   ]
  },
  {
   "cell_type": "markdown",
   "metadata": {
    "id": "nU_fifgR7jM5"
   },
   "source": [
    "#### **Problem #2.4**\n",
    "\n",
    "**Independently**, comment out the line that is causing an error."
   ]
  },
  {
   "cell_type": "code",
   "execution_count": 37,
   "metadata": {
    "colab": {
     "base_uri": "https://localhost:8080/",
     "height": 143
    },
    "executionInfo": {
     "elapsed": 7,
     "status": "error",
     "timestamp": 1707393384937,
     "user": {
      "displayName": "Adam Pearson",
      "userId": "12812318258019242438"
     },
     "user_tz": -120
    },
    "id": "gciUmz8i7jNN",
    "outputId": "f4ca9ae2-b05f-4792-9a26-e8657097f46c",
    "tags": []
   },
   "outputs": [
    {
     "data": {
      "text/plain": [
       "1"
      ]
     },
     "execution_count": 37,
     "metadata": {},
     "output_type": "execute_result"
    }
   ],
   "source": [
    "x = 0\n",
    "x = 2 * x\n",
    "x = 2 ** x\n",
    "# x = 2x\n",
    "x = x ** x\n",
    "\n",
    "x"
   ]
  },
  {
   "cell_type": "markdown",
   "metadata": {
    "id": "u0vQg1AM8qDU"
   },
   "source": [
    "#### **Problem #2.5**\n",
    "\n",
    "**Independently,** debug the code shown below."
   ]
  },
  {
   "cell_type": "code",
   "execution_count": 38,
   "metadata": {
    "colab": {
     "base_uri": "https://localhost:8080/",
     "height": 214
    },
    "executionInfo": {
     "elapsed": 3,
     "status": "error",
     "timestamp": 1707393447176,
     "user": {
      "displayName": "Adam Pearson",
      "userId": "12812318258019242438"
     },
     "user_tz": -120
    },
    "id": "8mauoKut8qDt",
    "outputId": "87770504-75b9-4807-c1ae-d9b74519e085",
    "tags": []
   },
   "outputs": [
    {
     "data": {
      "text/plain": [
       "'crying'"
      ]
     },
     "execution_count": 38,
     "metadata": {},
     "output_type": "execute_result"
    }
   ],
   "source": [
    "kaito = baby()\n",
    "\n",
    "kaito.mood"
   ]
  },
  {
   "cell_type": "markdown",
   "metadata": {
    "id": "RE9FToJzAqOc"
   },
   "source": [
    "#### **Problem #2.6**\n",
    "\n",
    "**Independently**, debug the code shown below such that it performs the intended mathematical operations."
   ]
  },
  {
   "cell_type": "code",
   "execution_count": 39,
   "metadata": {
    "colab": {
     "base_uri": "https://localhost:8080/",
     "height": 228
    },
    "executionInfo": {
     "elapsed": 267,
     "status": "error",
     "timestamp": 1692888718702,
     "user": {
      "displayName": "Tristin Rice",
      "userId": "01719244519041825611"
     },
     "user_tz": 240
    },
    "id": "7kfw5iyWA2a3",
    "outputId": "b60eaca1-a71b-4317-82d3-7a355c7b0999",
    "tags": []
   },
   "outputs": [
    {
     "name": "stdout",
     "output_type": "stream",
     "text": [
      "103823\n"
     ]
    }
   ],
   "source": [
    "x = int(\"47\")\n",
    "y = 3\n",
    "z = x**y\n",
    "print(z)"
   ]
  },
  {
   "cell_type": "markdown",
   "metadata": {
    "id": "AQ_Z2Ct9_QG9"
   },
   "source": [
    "#### **Problem #2.7**\n",
    "\n",
    "**Independently**, debug the code shown below so that baby Dakota's mood actually changes."
   ]
  },
  {
   "cell_type": "code",
   "execution_count": 40,
   "metadata": {
    "colab": {
     "base_uri": "https://localhost:8080/"
    },
    "executionInfo": {
     "elapsed": 333,
     "status": "ok",
     "timestamp": 1707392903003,
     "user": {
      "displayName": "Adam Pearson",
      "userId": "12812318258019242438"
     },
     "user_tz": -120
    },
    "id": "LJdSVbcc_eeF",
    "outputId": "39539c99-397c-4773-8b8a-f61618ee07f7",
    "tags": []
   },
   "outputs": [
    {
     "name": "stdout",
     "output_type": "stream",
     "text": [
      "crying\n",
      "happy\n"
     ]
    }
   ],
   "source": [
    "dakota = baby()\n",
    "print(dakota.mood)\n",
    "dakota.play()\n",
    "print(dakota.mood)"
   ]
  },
  {
   "cell_type": "markdown",
   "metadata": {
    "id": "NfApuJeDC6Ht"
   },
   "source": [
    "#### **Problem #2.8**\n",
    "\n",
    "**Independently**, debug the code shown below."
   ]
  },
  {
   "cell_type": "code",
   "execution_count": 41,
   "metadata": {
    "colab": {
     "base_uri": "https://localhost:8080/"
    },
    "executionInfo": {
     "elapsed": 262,
     "status": "ok",
     "timestamp": 1692889631005,
     "user": {
      "displayName": "Tristin Rice",
      "userId": "01719244519041825611"
     },
     "user_tz": 240
    },
    "id": "NF2e5jYVDSh3",
    "outputId": "793eac0c-2a43-4931-f864-bfc81334af46",
    "tags": []
   },
   "outputs": [
    {
     "name": "stdout",
     "output_type": "stream",
     "text": [
      "Your plant's health is a 10/10.\n",
      "If you had to rate the wetness of the soil, it would be a 0/10.\n",
      "Your light is turned up to 0.\n"
     ]
    }
   ],
   "source": [
    "cactus = plant()\n",
    "cactus.check_health()"
   ]
  },
  {
   "cell_type": "code",
   "execution_count": 42,
   "metadata": {
    "colab": {
     "base_uri": "https://localhost:8080/",
     "height": 211
    },
    "executionInfo": {
     "elapsed": 216,
     "status": "error",
     "timestamp": 1692889634374,
     "user": {
      "displayName": "Tristin Rice",
      "userId": "01719244519041825611"
     },
     "user_tz": 240
    },
    "id": "7xvp4wRJEavz",
    "outputId": "f9a5cafa-b25a-4594-d4b2-690fd498c3dd",
    "tags": []
   },
   "outputs": [
    {
     "name": "stdout",
     "output_type": "stream",
     "text": [
      "You watered your plant.\n",
      "You set the light to level 8\n",
      "Your plant's health is a 10/10.\n",
      "If you had to rate the wetness of the soil, it would be a 1/10.\n",
      "Your light is turned up to 8.\n"
     ]
    }
   ],
   "source": [
    "cactus.water_plant(1)\n",
    "cactus.set_light(8)\n",
    "cactus.check_health()"
   ]
  },
  {
   "cell_type": "code",
   "execution_count": 43,
   "metadata": {
    "colab": {
     "base_uri": "https://localhost:8080/",
     "height": 193
    },
    "executionInfo": {
     "elapsed": 228,
     "status": "error",
     "timestamp": 1692889637635,
     "user": {
      "displayName": "Tristin Rice",
      "userId": "01719244519041825611"
     },
     "user_tz": 240
    },
    "id": "ik32NRnZEbFV",
    "outputId": "61148b2b-04ab-441b-fe99-dd34054fbd66",
    "tags": []
   },
   "outputs": [
    {
     "name": "stdout",
     "output_type": "stream",
     "text": [
      "Day 1\n",
      "Your plant needs more light\n",
      "Your plant needs more water\n",
      "\n",
      "\n",
      "Day 2\n",
      "Your plant needs more light\n",
      "Your plant needs more water\n",
      "\n",
      "\n",
      "Day 3\n",
      "Your plant needs more light\n",
      "Your plant needs more water\n",
      "\n",
      "\n",
      "Your plant's health is a 7.700000000000003/10.\n",
      "If you had to rate the wetness of the soil, it would be a 0/10.\n",
      "Your light is turned up to 8.\n"
     ]
    }
   ],
   "source": [
    "cactus.wait(3)\n",
    "cactus.check_health()"
   ]
  },
  {
   "cell_type": "markdown",
   "metadata": {
    "id": "wF60jPs7FMg1"
   },
   "source": [
    "<a name=\"p3\"></a>\n",
    "\n",
    "---\n",
    "\n",
    "## **Part 3: Basic Statistics with Python [OPTIONAL]**\n",
    "\n",
    "---"
   ]
  },
  {
   "cell_type": "markdown",
   "metadata": {
    "id": "Ca_PUlOZ9iyT"
   },
   "source": [
    "<a name=\"p3.1\"></a>\n",
    "\n",
    "---\n",
    "\n",
    "### **Part 3.1: Implementing Mean, Standard Deviation, and Others**\n",
    "\n",
    "---"
   ]
  },
  {
   "cell_type": "markdown",
   "metadata": {
    "id": "EXcaq4YuFVa0"
   },
   "source": [
    "#### **Problem #3.1.1**\n",
    "\n",
    "**Together**, let's write code to determine the mean of the provided data.\n",
    "\n",
    "<br>\n",
    "\n",
    "**HINT**: Mathematically, the mean of a variable $x$ is $\\frac{\\sum_{i}^{n}{x_i}}{n}$."
   ]
  },
  {
   "cell_type": "code",
   "execution_count": 44,
   "metadata": {
    "id": "QmdmqTu8FXRT",
    "tags": []
   },
   "outputs": [
    {
     "name": "stdout",
     "output_type": "stream",
     "text": [
      "5.5\n"
     ]
    }
   ],
   "source": [
    "data = [1, 2, 3, 4, 5, 6, 7, 8, 9, 10]\n",
    "\n",
    "total = 0\n",
    "for v in data:\n",
    "    total += v\n",
    "avg = total/len(data)\n",
    "print(avg)"
   ]
  },
  {
   "cell_type": "markdown",
   "metadata": {
    "id": "VgMCJO8dF-89"
   },
   "source": [
    "#### **Problem #3.1.2**\n",
    "\n",
    "**Together**, let's put this code into the function below such that it:\n",
    "* Takes a list of numbers, `data`, as a parameter.\n",
    "* Returns the mean of `data`."
   ]
  },
  {
   "cell_type": "code",
   "execution_count": 45,
   "metadata": {
    "id": "An1USgc_F-9A",
    "tags": []
   },
   "outputs": [
    {
     "name": "stdout",
     "output_type": "stream",
     "text": [
      "5.5\n"
     ]
    }
   ],
   "source": [
    "def mean(data):\n",
    "    sum = 0\n",
    "    for v in data:\n",
    "        sum += v\n",
    "    return sum/len(data)\n",
    "\n",
    "print(mean([1, 2, 3, 4, 5, 6, 7, 8, 9, 10]))"
   ]
  },
  {
   "cell_type": "markdown",
   "metadata": {
    "id": "SkB4pFt0G8iC"
   },
   "source": [
    "#### **Problem #3.1.3**\n",
    "\n",
    "**Together**, let's write code to determine the variance of the provided data.\n",
    "\n",
    "<br>\n",
    "\n",
    "**HINT**: Mathematically, the variance of a variable $x$ is $\\frac{\\sum_{i}^{n}{(x_i - \\text{mean}(x))^2}}{n}$."
   ]
  },
  {
   "cell_type": "code",
   "execution_count": 46,
   "metadata": {
    "id": "_szaLel6G8iM",
    "tags": []
   },
   "outputs": [
    {
     "name": "stdout",
     "output_type": "stream",
     "text": [
      "8.25\n"
     ]
    }
   ],
   "source": [
    "data = [1, 2, 3, 4, 5, 6, 7, 8, 9, 10]\n",
    "\n",
    "avg = mean(data)\n",
    "total = 0\n",
    "for v in data:\n",
    "    total += (v-avg) ** 2\n",
    "variance = total/len(data)    \n",
    "\n",
    "print(variance)"
   ]
  },
  {
   "cell_type": "markdown",
   "metadata": {
    "id": "qSToR9L6IAR9"
   },
   "source": [
    "#### **Problem #3.1.4**\n",
    "\n",
    "**Together**, let's put this code into the function below such that it:\n",
    "\n",
    "* Takes a list of numbers, `data`, as a parameter.\n",
    "* Returns the variance of `data`."
   ]
  },
  {
   "cell_type": "code",
   "execution_count": 47,
   "metadata": {
    "id": "7SbwDRHYIASL",
    "tags": []
   },
   "outputs": [
    {
     "name": "stdout",
     "output_type": "stream",
     "text": [
      "8.25\n"
     ]
    }
   ],
   "source": [
    "def variance(data):\n",
    "    mean_value = mean(data)\n",
    "    sum = 0\n",
    "    for v in data:\n",
    "        sum += (v-mean_value) ** 2\n",
    "    return sum/len(data)\n",
    "\n",
    "print(variance([1, 2, 3, 4, 5, 6, 7, 8, 9, 10]))"
   ]
  },
  {
   "cell_type": "markdown",
   "metadata": {
    "id": "N_KLr6ozLWTF"
   },
   "source": [
    "#### **Problem #3.1.5**\n",
    "\n",
    "**Independently**, complete the function below to determine the standard deviation of the provided data such that it:\n",
    "\n",
    "* Takes a list of numbers, `data`, as a parameter.\n",
    "* Returns the standard deviation of `data`.\n",
    "\n",
    "<br>\n",
    "\n",
    "**HINT**: Mathematically, the standard deviation of a variable $x$ is $\\sqrt{\\text{variance}(x)}$."
   ]
  },
  {
   "cell_type": "code",
   "execution_count": 48,
   "metadata": {
    "id": "ilsljBR4LWTG"
   },
   "outputs": [
    {
     "name": "stdout",
     "output_type": "stream",
     "text": [
      "2.8722813232690143\n"
     ]
    }
   ],
   "source": [
    "def standard_deviation(data):\n",
    "    return variance(data) ** 0.5\n",
    "\n",
    "print(standard_deviation([1, 2, 3, 4, 5, 6, 7, 8, 9, 10]))"
   ]
  },
  {
   "cell_type": "markdown",
   "metadata": {
    "id": "xXCKl3mA2i-z"
   },
   "source": [
    "#### **Problem #3.1.6**\n",
    "\n",
    "Now, put your functions to use by finding the mean, variance, and standard deviation of the following data."
   ]
  },
  {
   "cell_type": "code",
   "execution_count": 49,
   "metadata": {
    "id": "HhLdlC7_2i-_"
   },
   "outputs": [
    {
     "name": "stdout",
     "output_type": "stream",
     "text": [
      "Mean 86.6\n",
      "Variance 23.84\n",
      "Standard Deviation 4.882622246293481\n"
     ]
    }
   ],
   "source": [
    "math_scores = [85, 90, 78, 92, 88]\n",
    "\n",
    "print('Mean', mean(math_scores))\n",
    "print('Variance', variance(math_scores))\n",
    "print('Standard Deviation', standard_deviation(math_scores))"
   ]
  },
  {
   "cell_type": "markdown",
   "metadata": {
    "id": "sBbPqAj24Ekr"
   },
   "source": [
    "#### **Problem #3.1.7**\n",
    "\n",
    "Do the same for the data provided below."
   ]
  },
  {
   "cell_type": "code",
   "execution_count": 50,
   "metadata": {
    "id": "n-bF_UnC4Ek5"
   },
   "outputs": [
    {
     "name": "stdout",
     "output_type": "stream",
     "text": [
      "Mean 115.0\n",
      "Variance 100.0\n",
      "Standard Deviation 10.0\n"
     ]
    }
   ],
   "source": [
    "monthly_rainfall = [120, 100, 130, 110, 115]\n",
    "\n",
    "print('Mean', mean(monthly_rainfall))\n",
    "print('Variance', variance(monthly_rainfall))\n",
    "print('Standard Deviation', standard_deviation(monthly_rainfall))"
   ]
  },
  {
   "cell_type": "markdown",
   "metadata": {
    "id": "cTp8n25SIcrc"
   },
   "source": [
    "#### **Problem #3.1.8 [CHALLENGE]**\n",
    "\n",
    "Complete the function below to determine the correlation of the provided data.\n",
    "\n",
    "<br>\n",
    "\n",
    "**HINT**: Mathematically, the correlation of two variables $x$ and $y$ is $\\frac{\\sum_{i}^{n}{(x_i - \\text{mean}(x))*(y_i - \\text{mean}(y))}}{ \\sqrt{\\sum_{i}^{n}{(x_i - \\text{mean}(x))^2}}*\\sqrt{\\sum_{i}^{n}{(y_i - \\text{mean}(y))^2} }} = \\frac{\\sum_{i}^{n}{(x_i - \\text{mean}(x))*(y_i - \\text{mean}(y))}}{n*\\text{standard deviation}(x)*\\text{standard deviation}(y)}$."
   ]
  },
  {
   "cell_type": "code",
   "execution_count": 51,
   "metadata": {
    "id": "D7aij2nKIcrq"
   },
   "outputs": [
    {
     "name": "stdout",
     "output_type": "stream",
     "text": [
      "0.9873445994862486\n"
     ]
    }
   ],
   "source": [
    "def correlation(x, y):\n",
    "    mean_x = mean(x)\n",
    "    mean_y = mean(y)\n",
    "    stdev_x = standard_deviation(x)\n",
    "    stdev_y = standard_deviation(y)\n",
    "    size = len(x)\n",
    "    sum = 0\n",
    "    for i in range(size):\n",
    "        sum += (x[i]-mean_x)*(y[i]-mean_y)\n",
    "    return sum/(size*stdev_x*stdev_y)\n",
    "\n",
    "print(correlation([1, 2, 3, 4, 5, 6, 7, 8, 9, 10], [-1, 2, 3, 4, 5, 6, 7, 8, 9, 10]))"
   ]
  },
  {
   "cell_type": "markdown",
   "metadata": {
    "id": "ryL-LRLK4qSF"
   },
   "source": [
    "#### **Problem #3.1.9 [CHALLENGE]**\n",
    "\n",
    "Find the correlation between these two sets of test scores in different courses."
   ]
  },
  {
   "cell_type": "code",
   "execution_count": 52,
   "metadata": {
    "id": "CSEeiC6D4qSU"
   },
   "outputs": [
    {
     "name": "stdout",
     "output_type": "stream",
     "text": [
      "0.9585363562790536\n"
     ]
    }
   ],
   "source": [
    "math_scores = [85, 90, 78, 92, 88]\n",
    "science_scores = [82, 85, 79, 88, 86]\n",
    "\n",
    "print(correlation(math_scores, science_scores))"
   ]
  },
  {
   "cell_type": "markdown",
   "metadata": {
    "id": "XiqkPOY75R4K"
   },
   "source": [
    "#### **Problem #3.1.10 [CHALLENGE]**\n",
    "\n",
    "Find the correlation between these two sets of monthly rainfall records on opposite coasts."
   ]
  },
  {
   "cell_type": "code",
   "execution_count": 53,
   "metadata": {
    "id": "K7f5fNVm5R4Y"
   },
   "outputs": [
    {
     "name": "stdout",
     "output_type": "stream",
     "text": [
      "-0.4242640687119285\n"
     ]
    }
   ],
   "source": [
    "east_coast_rainfall = [120, 100, 130, 110, 115]\n",
    "west_coast_rainfall = [80, 90, 85, 95, 100]\n",
    "\n",
    "print(correlation(east_coast_rainfall, west_coast_rainfall))"
   ]
  },
  {
   "cell_type": "markdown",
   "metadata": {
    "id": "68SU0Pbh56nf"
   },
   "source": [
    "<a name=\"p3.2\"></a>\n",
    "\n",
    "---\n",
    "\n",
    "### **Part 3.2: Analyzing Product Sales**\n",
    "\n",
    "---\n",
    "\n",
    "\n",
    "In this section, we will analyze and interpret monthly sales data for two products over the course of a year. We will use statistical measures such as mean, standard deviation, and variance to understand sales performance, identify trends and patterns, and make simple predictions about future sales. Our goal is to develop practical skills in data analysis and statistical inference, enabling us to make informed decisions and insights from artificial sales data that could just as well have come from a real company.\n",
    "\n",
    "<br>\n",
    "\n",
    "**NOTE**: This section is an example of how we *could* try to make predictions from data using basic statistics. We will be learning and using different (and more sophisticated) approaches throughout this course. As such, this is an interesting point of comparison as you go throughout the course, but is not anything you need to worry about understanding or remembering how to do. In other words, enjoy this section if you're curious and otherwise don't worry!\n",
    "\n",
    "<br>\n",
    "\n",
    "**Run the cell below to \"load\" the data and ensure we have properly defined functions for the statistical measures.**"
   ]
  },
  {
   "cell_type": "code",
   "execution_count": 54,
   "metadata": {
    "id": "Vaslh2Zc6epc"
   },
   "outputs": [],
   "source": [
    "# \"Load\" data\n",
    "product_a_sales = [320, 305, 350, 345, 400, 415, 410, 420, 430, 390, 370, 360]\n",
    "product_b_sales = [210, 205, 200, 215, 220, 230, 235, 240, 245, 250, 255, 260]\n",
    "\n",
    "\n",
    "# Define stats functions\n",
    "def mean(data):\n",
    "\n",
    "  return sum(data) / len(data)\n",
    "\n",
    "\n",
    "def variance(data):\n",
    "\n",
    "  mu = mean(data)\n",
    "  variance = sum((x - mu)**2 for x in data) / len(data)\n",
    "\n",
    "  return variance\n",
    "\n",
    "\n",
    "def standard_deviation(data):\n",
    "\n",
    "  return variance(data)**(1/2)\n",
    "\n",
    "\n",
    "def correlation(x, y):\n",
    "\n",
    "  mu_x = mean(x)\n",
    "  std_x = standard_deviation(x)\n",
    "\n",
    "  mu_y = mean(y)\n",
    "  std_y = standard_deviation(y)\n",
    "\n",
    "  corr = sum((x[i] - mu_x)*(y[i] - mu_y) for i in range(len(x)))/(len(x)*std_x*std_y)\n",
    "\n",
    "  return corr"
   ]
  },
  {
   "cell_type": "markdown",
   "metadata": {
    "id": "jl9FG6B_6N7h"
   },
   "source": [
    "#### **Problem #3.2.1**\n",
    "\n",
    "Start your analysis of this data by comparing the mean for each product."
   ]
  },
  {
   "cell_type": "code",
   "execution_count": 55,
   "metadata": {
    "id": "At6CzPBc8wKC"
   },
   "outputs": [
    {
     "name": "stdout",
     "output_type": "stream",
     "text": [
      "Mean of A:  376.25\n",
      "Mean of B:  230.41666666666666\n"
     ]
    }
   ],
   "source": [
    "print('Mean of A: ', mean(product_a_sales))\n",
    "print('Mean of B: ', mean(product_b_sales))"
   ]
  },
  {
   "cell_type": "markdown",
   "metadata": {
    "id": "GTGobzq69L2I"
   },
   "source": [
    "#### **Problem #3.2.2**\n",
    "\n",
    "Now, compare the variances for each product to see which product seems more consistent. The smaller the variance, the more stable or consistent we can interpret the sales to be."
   ]
  },
  {
   "cell_type": "code",
   "execution_count": 56,
   "metadata": {
    "id": "pZLFvU3W9L2V"
   },
   "outputs": [
    {
     "name": "stdout",
     "output_type": "stream",
     "text": [
      "1533.8541666666667 376.90972222222223\n"
     ]
    }
   ],
   "source": [
    "var_a = variance(product_a_sales)\n",
    "var_b = variance(product_b_sales)\n",
    "print(var_a, var_b)"
   ]
  },
  {
   "cell_type": "markdown",
   "metadata": {
    "id": "9XKssNh5AT4L"
   },
   "source": [
    "#### **Problem #3.2.3**\n",
    "\n",
    "See what kind of relationship the products' sales have with each other using correlation. **What are the possible interpretations of this correlation?**"
   ]
  },
  {
   "cell_type": "code",
   "execution_count": 57,
   "metadata": {
    "id": "uJFNn81DAT4V"
   },
   "outputs": [
    {
     "name": "stdout",
     "output_type": "stream",
     "text": [
      "Correlation between A and B: 0.5445718583853562\n"
     ]
    }
   ],
   "source": [
    "print('Correlation between A and B:', correlation(product_a_sales, product_b_sales))"
   ]
  },
  {
   "cell_type": "markdown",
   "metadata": {
    "id": "1BFHvBclAybI"
   },
   "source": [
    "#### **Problem #3.2.4**\n",
    "\n",
    "Now, find any months where product A's sales were more than a standard deviation above the mean. **Consider if the number of such months if surprising or not and what this means about how much we should consider the standard deviation a good measure of the spread here.**\n",
    "\n",
    "<br>\n",
    "\n",
    "**NOTE**: There are several ways to do this, so go with what you're most comfortable with in python (e.g. loops, conditionals, list comprehensions, etc.)."
   ]
  },
  {
   "cell_type": "code",
   "execution_count": 58,
   "metadata": {
    "id": "dtjljgbzAybJ"
   },
   "outputs": [
    {
     "name": "stdout",
     "output_type": "stream",
     "text": [
      "sales data for Product A in 2 out of 12 months deviates from the average!\n"
     ]
    }
   ],
   "source": [
    "mu_A = mean(product_a_sales)\n",
    "std_A = standard_deviation(product_a_sales)\n",
    "outlier_count_A = 0\n",
    "for v in product_a_sales:\n",
    "    if v > mu_A + std_A:\n",
    "        outlier_count_A += 1\n",
    "print('sales data for Product A in %d out of %d months deviates from the average!' % (outlier_count_A, len(product_a_sales)))\n"
   ]
  },
  {
   "cell_type": "markdown",
   "metadata": {
    "id": "6MTvxvVtE9xm"
   },
   "source": [
    "#### **Problem #3.2.5**\n",
    "\n",
    "Now, determine the average *change*\n",
    "of product A's sales from month to month."
   ]
  },
  {
   "cell_type": "code",
   "execution_count": 59,
   "metadata": {
    "id": "NZcmSEEgE9xz"
   },
   "outputs": [
    {
     "name": "stdout",
     "output_type": "stream",
     "text": [
      "3.6363636363636362\n"
     ]
    }
   ],
   "source": [
    "total_change = product_a_sales[-1]-product_a_sales[0]\n",
    "avg_change = total_change / (len(product_a_sales) - 1)\n",
    "print(avg_change)"
   ]
  },
  {
   "cell_type": "markdown",
   "metadata": {
    "id": "Imbmar12G2Le"
   },
   "source": [
    "#### **Problem #3.2.6**\n",
    "\n",
    "Based on this average, predict the sales of product A in the month after the data ends."
   ]
  },
  {
   "cell_type": "code",
   "execution_count": 60,
   "metadata": {
    "id": "q7njJd0AG2Lm"
   },
   "outputs": [
    {
     "name": "stdout",
     "output_type": "stream",
     "text": [
      "363.6363636363636\n"
     ]
    }
   ],
   "source": [
    "print(product_a_sales[-1]+avg_change)"
   ]
  },
  {
   "cell_type": "markdown",
   "metadata": {
    "id": "DdXROQRlHRZ6"
   },
   "source": [
    "#### **Problem #3.2.7**\n",
    "\n",
    "What would this approach predict for the sales in the 2nd month (at index 1) in the data?"
   ]
  },
  {
   "cell_type": "code",
   "execution_count": 61,
   "metadata": {
    "id": "NofiMWl4HRaD"
   },
   "outputs": [
    {
     "name": "stdout",
     "output_type": "stream",
     "text": [
      "323.6363636363636\n"
     ]
    }
   ],
   "source": [
    "print(product_a_sales[0]+avg_change)"
   ]
  },
  {
   "cell_type": "markdown",
   "metadata": {
    "id": "LcdSCbaSHe6z"
   },
   "source": [
    "#### **Problem #3.2.8**\n",
    "\n",
    "How does the prediction above compare to the actual value? In other words, find the difference in the predicted and actual value.\n",
    "\n",
    "<br>\n",
    "\n",
    "**Does this seem like a *good* prediction? How could you use the statistical tools here to answer this question?**"
   ]
  },
  {
   "cell_type": "code",
   "execution_count": 62,
   "metadata": {
    "id": "6z3xUjx6He68"
   },
   "outputs": [
    {
     "name": "stdout",
     "output_type": "stream",
     "text": [
      "-18.636363636363637\n"
     ]
    }
   ],
   "source": [
    "print(product_a_sales[1]-product_a_sales[0]-avg_change)"
   ]
  },
  {
   "cell_type": "markdown",
   "metadata": {
    "id": "O7wc1IPdJ0kk"
   },
   "source": [
    "#### **Problem #3.2.9**\n",
    "\n",
    "Use the average change like above to predict the sales for every month after the first (index 0)."
   ]
  },
  {
   "cell_type": "code",
   "execution_count": 63,
   "metadata": {
    "id": "GNZVRGUbJ0kx"
   },
   "outputs": [
    {
     "name": "stdout",
     "output_type": "stream",
     "text": [
      "Predicted Sales: [323.6363636363636, 327.27272727272725, 330.9090909090909, 334.5454545454545, 338.18181818181813, 341.81818181818176, 345.4545454545454, 349.090909090909, 352.72727272727263, 356.36363636363626, 359.9999999999999]\n"
     ]
    }
   ],
   "source": [
    "predictions = []\n",
    "current_sales = product_a_sales[0]\n",
    "for i in range(1, len(product_a_sales)):\n",
    "    current_sales = current_sales + avg_change\n",
    "    predictions.append(current_sales)\n",
    "\n",
    "print('Predicted Sales:', predictions)"
   ]
  },
  {
   "cell_type": "markdown",
   "metadata": {
    "id": "j-mjzJ6yKsS9"
   },
   "source": [
    "#### **Problem #3.2.10**\n",
    "\n",
    "Now determine the average difference between the prediction and the actual value from all months that overlap. **NOTE**: Remember that the first prediction starts at month 2 (index 1) and the last prediction goes past the available data."
   ]
  },
  {
   "cell_type": "code",
   "execution_count": 64,
   "metadata": {
    "id": "tjC8z3xZKsTJ"
   },
   "outputs": [
    {
     "name": "stdout",
     "output_type": "stream",
     "text": [
      "Average Prediction Error: 42.93388429752072\n"
     ]
    }
   ],
   "source": [
    "errors = []\n",
    "\n",
    "for i in range(len(predictions)):\n",
    "    errors.append(abs(predictions[i] - product_a_sales[i+1]))\n",
    "\n",
    "print('Average Prediction Error:', mean(errors))"
   ]
  },
  {
   "cell_type": "markdown",
   "metadata": {
    "id": "54e5L569INDN"
   },
   "source": [
    "#### **Reflection**\n",
    "\n",
    "Now that you've completed this section, take some time to reflect on the findings and predictions you've made. In particular consider the following (open ended) questions and ways to continue analyzing this data:\n",
    "\n",
    "* When and why would it make sense to use the average change of sales to predict the next month's sale?\n",
    "\n",
    "* When and why would this method fail?\n",
    "\n",
    "* How well does this method work on average?\n",
    "\n",
    "* How well does this method work on average for product B?\n",
    "\n",
    "* Is there a relationship between the statistical measures of the sales (mean and standard deviation) and the quality of these predictions?"
   ]
  },
  {
   "cell_type": "markdown",
   "metadata": {
    "id": "IAxXp5T5m_JM"
   },
   "source": [
    "<a name=\"p4\"></a>\n",
    "\n",
    "---\n",
    "## **Part 4: Homework Practice [OPTIONAL]**\n",
    "---"
   ]
  },
  {
   "cell_type": "markdown",
   "metadata": {
    "id": "yhhNVj8tszfa"
   },
   "source": [
    "<a name=\"p4.1\"></a>\n",
    "\n",
    "---\n",
    "### **Part 4.1: Arithmetic Operators**\n",
    "---"
   ]
  },
  {
   "cell_type": "markdown",
   "metadata": {
    "id": "3UHFE0F-r_AY"
   },
   "source": [
    "#### **Problem #4.1.1**\n",
    "\n",
    "Calculate 5 divided by 2."
   ]
  },
  {
   "cell_type": "code",
   "execution_count": 65,
   "metadata": {
    "id": "0gTl9x12r_AZ"
   },
   "outputs": [
    {
     "data": {
      "text/plain": [
       "2.5"
      ]
     },
     "execution_count": 65,
     "metadata": {},
     "output_type": "execute_result"
    }
   ],
   "source": [
    "5/2"
   ]
  },
  {
   "cell_type": "markdown",
   "metadata": {
    "id": "-Op2trMwsNTO"
   },
   "source": [
    "#### **Problem #4.1.2**\n",
    "\n",
    "Calculate 50 divided by 2."
   ]
  },
  {
   "cell_type": "code",
   "execution_count": 66,
   "metadata": {
    "id": "r8PUMKhbsNTP"
   },
   "outputs": [
    {
     "data": {
      "text/plain": [
       "25.0"
      ]
     },
     "execution_count": 66,
     "metadata": {},
     "output_type": "execute_result"
    }
   ],
   "source": [
    "50/2"
   ]
  },
  {
   "cell_type": "markdown",
   "metadata": {
    "id": "bgSOjzrtsVPZ"
   },
   "source": [
    "#### **Problem #4.1.3**\n",
    "\n",
    "Calculate 28 multiplied by 1995."
   ]
  },
  {
   "cell_type": "code",
   "execution_count": 67,
   "metadata": {
    "id": "wx4fZWNnsVPa"
   },
   "outputs": [
    {
     "data": {
      "text/plain": [
       "55860"
      ]
     },
     "execution_count": 67,
     "metadata": {},
     "output_type": "execute_result"
    }
   ],
   "source": [
    "28*1995"
   ]
  },
  {
   "cell_type": "markdown",
   "metadata": {
    "id": "amw5Yd8xsbfR"
   },
   "source": [
    "#### **Problem #4.1.4**\n",
    "\n",
    "Calculate 3 squared."
   ]
  },
  {
   "cell_type": "code",
   "execution_count": 68,
   "metadata": {
    "id": "O1kUtqUisbfT"
   },
   "outputs": [
    {
     "data": {
      "text/plain": [
       "9"
      ]
     },
     "execution_count": 68,
     "metadata": {},
     "output_type": "execute_result"
    }
   ],
   "source": [
    "3**2"
   ]
  },
  {
   "cell_type": "markdown",
   "metadata": {
    "id": "ixi0A-EKslsg"
   },
   "source": [
    "#### **Problem #4.1.5**\n",
    "\n",
    "Calculate 2 to the 10th power minus 5."
   ]
  },
  {
   "cell_type": "code",
   "execution_count": 69,
   "metadata": {
    "id": "JgEGihlislsg"
   },
   "outputs": [
    {
     "data": {
      "text/plain": [
       "1019"
      ]
     },
     "execution_count": 69,
     "metadata": {},
     "output_type": "execute_result"
    }
   ],
   "source": [
    "2**10-5"
   ]
  },
  {
   "cell_type": "markdown",
   "metadata": {
    "id": "oMCHyhfet4wi"
   },
   "source": [
    "#### **Problem #4.1.6**\n",
    "\n",
    "Write code that outputs the names of three different countries. **HINT**: You will need a new code cell for every output."
   ]
  },
  {
   "cell_type": "code",
   "execution_count": 70,
   "metadata": {
    "id": "_WGe1OS14lY4"
   },
   "outputs": [
    {
     "name": "stdout",
     "output_type": "stream",
     "text": [
      "China\n"
     ]
    }
   ],
   "source": [
    "print('China')"
   ]
  },
  {
   "cell_type": "code",
   "execution_count": 71,
   "metadata": {
    "id": "oEnG4TGIsRFV"
   },
   "outputs": [
    {
     "name": "stdout",
     "output_type": "stream",
     "text": [
      "Canada\n"
     ]
    }
   ],
   "source": [
    "print('Canada')"
   ]
  },
  {
   "cell_type": "code",
   "execution_count": 72,
   "metadata": {
    "id": "fp5qPW6HsRk-"
   },
   "outputs": [
    {
     "name": "stdout",
     "output_type": "stream",
     "text": [
      "USA\n"
     ]
    }
   ],
   "source": [
    "print('USA')"
   ]
  },
  {
   "cell_type": "markdown",
   "metadata": {
    "id": "QinoVuPOAdBg"
   },
   "source": [
    "#### **Problem #4.1.7**\n",
    "\n",
    "Write code that outputs the result of multiplying 5 by 23."
   ]
  },
  {
   "cell_type": "code",
   "execution_count": 73,
   "metadata": {
    "id": "z4kNYrt2Nj0W"
   },
   "outputs": [
    {
     "name": "stdout",
     "output_type": "stream",
     "text": [
      "115\n"
     ]
    }
   ],
   "source": [
    "print(5*23)"
   ]
  },
  {
   "cell_type": "markdown",
   "metadata": {
    "id": "brKDsi2BuT75"
   },
   "source": [
    "#### **Problem #4.1.8**\n",
    "\n",
    "Write code that outputs the result of raising 2 to the 100th power."
   ]
  },
  {
   "cell_type": "code",
   "execution_count": 74,
   "metadata": {
    "id": "_XU69Lrc4mJ-"
   },
   "outputs": [
    {
     "name": "stdout",
     "output_type": "stream",
     "text": [
      "1267650600228229401496703205376\n"
     ]
    }
   ],
   "source": [
    "print(2**100)"
   ]
  },
  {
   "cell_type": "markdown",
   "metadata": {
    "id": "XQ3zpD9G_rb3"
   },
   "source": [
    "#### **Problem #4.1.9**\n",
    "\n",
    "Calculate 50 multiplied by 4.5."
   ]
  },
  {
   "cell_type": "code",
   "execution_count": 75,
   "metadata": {
    "id": "czESqJz_AKQP",
    "tags": []
   },
   "outputs": [
    {
     "data": {
      "text/plain": [
       "225.0"
      ]
     },
     "execution_count": 75,
     "metadata": {},
     "output_type": "execute_result"
    }
   ],
   "source": [
    "50*4.5"
   ]
  },
  {
   "cell_type": "markdown",
   "metadata": {
    "id": "Z-3vJncgC8OU"
   },
   "source": [
    "#### **Problem #4.1.10**\n",
    "\n",
    "Calculate 50 multiplied by 4.5 plus 10."
   ]
  },
  {
   "cell_type": "code",
   "execution_count": 76,
   "metadata": {
    "id": "YaJTKsdZC8OV",
    "tags": []
   },
   "outputs": [
    {
     "data": {
      "text/plain": [
       "235.0"
      ]
     },
     "execution_count": 76,
     "metadata": {},
     "output_type": "execute_result"
    }
   ],
   "source": [
    "50*4.5+10"
   ]
  },
  {
   "cell_type": "markdown",
   "metadata": {
    "id": "UQoQTP-souNh"
   },
   "source": [
    "#### **Problem #4.1.11**\n",
    "\n",
    "Calculate 4 to the 8th power plus 10."
   ]
  },
  {
   "cell_type": "code",
   "execution_count": 77,
   "metadata": {
    "id": "arINPqrTAh5P",
    "tags": []
   },
   "outputs": [
    {
     "data": {
      "text/plain": [
       "65546"
      ]
     },
     "execution_count": 77,
     "metadata": {},
     "output_type": "execute_result"
    }
   ],
   "source": [
    "4**8+10"
   ]
  },
  {
   "cell_type": "markdown",
   "metadata": {
    "id": "4MoSMLBItCdo"
   },
   "source": [
    "<a name=\"p4.2\"></a>\n",
    "\n",
    "---\n",
    "### **Part 4.2: Variables**\n",
    "---"
   ]
  },
  {
   "cell_type": "markdown",
   "metadata": {
    "id": "DNQ0uGTgtCd0"
   },
   "source": [
    "#### **Problem #4.2.1**\n",
    "\n",
    "Create a variable named `favorite_animal` and assign a string to it of your favorite animal. Output its value."
   ]
  },
  {
   "cell_type": "code",
   "execution_count": 78,
   "metadata": {
    "id": "RGutT2VXtCd0"
   },
   "outputs": [],
   "source": [
    "favorite_animal = 'dog'"
   ]
  },
  {
   "cell_type": "markdown",
   "metadata": {
    "id": "qEeBTTwhtCd2"
   },
   "source": [
    "#### **Problem #4.2.2**\n",
    "\n",
    "Create a variable called `problem_number` and assign the float `4.22` to it. Output its value."
   ]
  },
  {
   "cell_type": "code",
   "execution_count": 79,
   "metadata": {
    "id": "GzcVlThPtCd2"
   },
   "outputs": [
    {
     "name": "stdout",
     "output_type": "stream",
     "text": [
      "4.22\n"
     ]
    }
   ],
   "source": [
    "problem_number = 4.22\n",
    "print(problem_number)"
   ]
  },
  {
   "cell_type": "markdown",
   "metadata": {
    "id": "foTpdnTStCd1"
   },
   "source": [
    "#### **Problem #4.2.3**\n",
    "\n",
    "Create a variable called `next_problem_number` and assign the result of adding `problem_number` and 0.01. Output its value."
   ]
  },
  {
   "cell_type": "code",
   "execution_count": 80,
   "metadata": {
    "id": "r3pRvWxwtCd2"
   },
   "outputs": [
    {
     "name": "stdout",
     "output_type": "stream",
     "text": [
      "4.2299999999999995\n"
     ]
    }
   ],
   "source": [
    "next_problem_number = problem_number + 0.01\n",
    "print(next_problem_number)"
   ]
  },
  {
   "cell_type": "markdown",
   "metadata": {
    "id": "j9LT67KptCd1"
   },
   "source": [
    "#### **Problem #4.2.4**\n",
    "\n",
    "Create a variable named `my_age` and assign an int with your age to it. Output its value."
   ]
  },
  {
   "cell_type": "code",
   "execution_count": 81,
   "metadata": {
    "id": "9M1RGVVZtCd1"
   },
   "outputs": [],
   "source": [
    "my_age = 49"
   ]
  },
  {
   "cell_type": "markdown",
   "metadata": {
    "id": "219fzMgitCd1"
   },
   "source": [
    "#### **Problem #4.2.5**\n",
    "\n",
    "Create a variable named `my_age_in_months` that is equal to `my_age` multiplied by 12. Output its value."
   ]
  },
  {
   "cell_type": "code",
   "execution_count": 82,
   "metadata": {
    "id": "Tf5uJpXftCd1"
   },
   "outputs": [
    {
     "name": "stdout",
     "output_type": "stream",
     "text": [
      "588\n"
     ]
    }
   ],
   "source": [
    "my_age_in_months = my_age * 12\n",
    "print(my_age_in_months)"
   ]
  },
  {
   "cell_type": "markdown",
   "metadata": {
    "id": "DrNIKf1TAo1z"
   },
   "source": [
    "#### **Problem #4.2.6**\n",
    "Write code that creates and outputs a variable called `popular_name` and assign to it the `string` `'Olivia'`."
   ]
  },
  {
   "cell_type": "code",
   "execution_count": 83,
   "metadata": {
    "id": "cD69JsmO47iH"
   },
   "outputs": [],
   "source": [
    "popular_name = 'Olivia'"
   ]
  },
  {
   "cell_type": "markdown",
   "metadata": {
    "id": "oLDz58wguUFM"
   },
   "source": [
    "#### **Problem #4.2.7**\n",
    "\n",
    "Create a variable `birth_year` and set it equal to the year you were born. Then output `\"I was born in\"` in the first cell and `birth_year` in the second cell."
   ]
  },
  {
   "cell_type": "code",
   "execution_count": 84,
   "metadata": {
    "id": "xt9fHgKF5Az3"
   },
   "outputs": [
    {
     "name": "stdout",
     "output_type": "stream",
     "text": [
      "I was born in\n"
     ]
    }
   ],
   "source": [
    "birth_year = 1974\n",
    "print('I was born in')"
   ]
  },
  {
   "cell_type": "code",
   "execution_count": 85,
   "metadata": {
    "id": "S2qI4u-dr3Kz"
   },
   "outputs": [
    {
     "name": "stdout",
     "output_type": "stream",
     "text": [
      "1974\n"
     ]
    }
   ],
   "source": [
    "print(birth_year)"
   ]
  },
  {
   "cell_type": "markdown",
   "metadata": {
    "id": "-bnV4zY2yMs8"
   },
   "source": [
    "#### **Problem #4.2.8**\n",
    "\n",
    "Create a variable `favorite_food` and assign to it a `string` with your favorite food. Output `'I love to eat'` in the first cell and `favorite_food` in the second cell."
   ]
  },
  {
   "cell_type": "code",
   "execution_count": 86,
   "metadata": {
    "id": "DqES7-rS5jcm"
   },
   "outputs": [
    {
     "name": "stdout",
     "output_type": "stream",
     "text": [
      "I love to eat\n"
     ]
    }
   ],
   "source": [
    "favorite_food = 'hotdog'\n",
    "print('I love to eat')"
   ]
  },
  {
   "cell_type": "code",
   "execution_count": 87,
   "metadata": {
    "id": "jLNR6hi0sFEQ"
   },
   "outputs": [
    {
     "name": "stdout",
     "output_type": "stream",
     "text": [
      "hotdog\n"
     ]
    }
   ],
   "source": [
    "print(favorite_food)"
   ]
  },
  {
   "cell_type": "markdown",
   "metadata": {
    "id": "xwi8nagW-1ad"
   },
   "source": [
    "#### **Problem #4.2.9**\n",
    "\n",
    "Modify the code to calculate the area of a rectangle whose length is 10 and width is 5."
   ]
  },
  {
   "cell_type": "code",
   "execution_count": 88,
   "metadata": {
    "colab": {
     "base_uri": "https://localhost:8080/"
    },
    "executionInfo": {
     "elapsed": 7,
     "status": "ok",
     "timestamp": 1689387761262,
     "user": {
      "displayName": "Marie Angelique Membrido",
      "userId": "04984385250682432912"
     },
     "user_tz": 420
    },
    "id": "ntGXhAFY9Yd-",
    "outputId": "d80b25f1-1206-4c8f-9e29-05f107a79ba4"
   },
   "outputs": [
    {
     "name": "stdout",
     "output_type": "stream",
     "text": [
      "50\n"
     ]
    }
   ],
   "source": [
    "length = 10\n",
    "width = 5\n",
    "area = length*width\n",
    "print(area)"
   ]
  },
  {
   "cell_type": "markdown",
   "metadata": {
    "id": "zLYs9izPCfMM"
   },
   "source": [
    "#### **Problem #4.2.10**\n",
    "\n",
    "Modify the code to calculate the `cost_per_person` if the `total_cost` is 500."
   ]
  },
  {
   "cell_type": "code",
   "execution_count": 89,
   "metadata": {
    "id": "QfgQPydj9gIl"
   },
   "outputs": [
    {
     "data": {
      "text/plain": [
       "100.0"
      ]
     },
     "execution_count": 89,
     "metadata": {},
     "output_type": "execute_result"
    }
   ],
   "source": [
    "total_cost = 500\n",
    "number_of_people = 5\n",
    "cost_per_person = total_cost/number_of_people\n",
    "cost_per_person"
   ]
  },
  {
   "cell_type": "markdown",
   "metadata": {
    "id": "9FS3rfX9CrNU"
   },
   "source": [
    "#### **Problem #4.2.11**\n",
    "\n",
    "Modify the code shown below to calculate the final exam grade needed when:\n",
    "\n",
    "| Exam         \t| Grade \t| Weight \t|\n",
    "|--------------\t|-------\t|--------\t|\n",
    "| Exam 1:      \t| 75    \t| 0.2    \t|\n",
    "| Exam 2:      \t| 82    \t| 0.2    \t|\n",
    "| Final Exam:  \t| ?     \t| 0.6    \t|\n",
    "| Final Grade: \t| 85    \t|        \t|"
   ]
  },
  {
   "cell_type": "code",
   "execution_count": 90,
   "metadata": {
    "colab": {
     "base_uri": "https://localhost:8080/"
    },
    "executionInfo": {
     "elapsed": 7,
     "status": "ok",
     "timestamp": 1688996301479,
     "user": {
      "displayName": "Ricky Dube",
      "userId": "06710072071973473025"
     },
     "user_tz": 240
    },
    "id": "_waPzkfG9sK4",
    "outputId": "0043a437-a0a4-4cf8-c5d5-5497e3caa97a"
   },
   "outputs": [
    {
     "data": {
      "text/plain": [
       "91.0"
      ]
     },
     "execution_count": 90,
     "metadata": {},
     "output_type": "execute_result"
    }
   ],
   "source": [
    "exam_1_grade = 75\n",
    "exam_1_weight = 0.2\n",
    "\n",
    "exam_2_grade = 82\n",
    "exam_2_weight = 0.2\n",
    "\n",
    "final_exam_weight = 0.6\n",
    "wanted_final_grade = 86\n",
    "\n",
    "required_grade_on_final = (wanted_final_grade - exam_1_grade * exam_1_weight - exam_2_grade * exam_2_weight)/final_exam_weight\n",
    "required_grade_on_final"
   ]
  },
  {
   "cell_type": "markdown",
   "metadata": {
    "id": "3usiWIdCo0KA"
   },
   "source": [
    "#### **Problem #4.2.12**\n",
    "\n",
    "Create a variable that stores the name of the country you live in. Output that variable."
   ]
  },
  {
   "cell_type": "code",
   "execution_count": 91,
   "metadata": {
    "id": "x-OTbMmiuMU1",
    "tags": []
   },
   "outputs": [
    {
     "data": {
      "text/plain": [
       "'USA'"
      ]
     },
     "execution_count": 91,
     "metadata": {},
     "output_type": "execute_result"
    }
   ],
   "source": [
    "living_in_country = 'USA'\n",
    "living_in_country"
   ]
  },
  {
   "cell_type": "markdown",
   "metadata": {
    "id": "xXoYLnwgutEq"
   },
   "source": [
    "#### **Problem #4.2.13**\n",
    "\n",
    "Create a variable named `height_cm` and set it equal to your height in centimeters. Output `height_cm`.\n",
    "\n",
    "<br>\n",
    "\n",
    "**NOTE**: 1 inch = 2.54 cm."
   ]
  },
  {
   "cell_type": "code",
   "execution_count": 92,
   "metadata": {
    "id": "GYEksLk4LmLC",
    "tags": []
   },
   "outputs": [
    {
     "data": {
      "text/plain": [
       "174"
      ]
     },
     "execution_count": 92,
     "metadata": {},
     "output_type": "execute_result"
    }
   ],
   "source": [
    "height_cm = 174\n",
    "height_cm"
   ]
  },
  {
   "cell_type": "markdown",
   "metadata": {
    "id": "y-uOGaf0LTqK"
   },
   "source": [
    "#### **Problem #4.2.14**\n",
    "\n",
    "Create a variable named `height_m` and set it equal to your height in m. Use the `height_cm` variable from the previous problem. Output `height_m`.\n",
    "\n",
    "<br>\n",
    "\n",
    "**NOTE**: 1 m = 100 cm."
   ]
  },
  {
   "cell_type": "code",
   "execution_count": 93,
   "metadata": {
    "id": "kORv2WhnMtIJ",
    "tags": []
   },
   "outputs": [
    {
     "data": {
      "text/plain": [
       "1.74"
      ]
     },
     "execution_count": 93,
     "metadata": {},
     "output_type": "execute_result"
    }
   ],
   "source": [
    "height_m = height_cm/100\n",
    "height_m"
   ]
  },
  {
   "cell_type": "markdown",
   "metadata": {
    "id": "FeID_zqavKiq"
   },
   "source": [
    "#### **Problem #4.2.15**\n",
    "\n",
    "Which of the following variables names would not run in python?"
   ]
  },
  {
   "cell_type": "markdown",
   "metadata": {
    "id": "BLgXAY79xwqs"
   },
   "source": [
    "a.\n",
    "```python\n",
    "1var = 10\n",
    "```\n",
    "\n",
    "b.\n",
    "```python\n",
    "2var = 20\n",
    "```\n",
    "\n",
    "c.\n",
    "```python\n",
    "3_var = 30\n",
    "```\n",
    "\n",
    "d.\n",
    "```python\n",
    "Var4 = 40\n",
    "```\n",
    "\n",
    "e.\n",
    "```python\n",
    "VAR5 = 50\n",
    "```\n",
    "\n",
    "f.\n",
    "```python\n",
    "var_6 = 60\n",
    "```\n",
    "\n",
    "g.\n",
    "```python\n",
    "month&year = \"July 2022\"\n",
    "```\n",
    "\n",
    "h.\n",
    "```python\n",
    "hello = \"hello\"\n",
    "```\n",
    "\n",
    "i.\n",
    "```python\n",
    "for = \"for\"\n",
    "```"
   ]
  },
  {
   "cell_type": "markdown",
   "metadata": {
    "id": "-Dd_Ho8Vo0KD"
   },
   "source": [
    "#### **Problem #4.2.16**\n",
    "\n",
    "Create a variable `name` and assign it to your name. Output `name`. Then, reassign `name` to a friend's name. Output again."
   ]
  },
  {
   "cell_type": "code",
   "execution_count": 94,
   "metadata": {
    "id": "ftjFXIglo0KD",
    "tags": []
   },
   "outputs": [
    {
     "name": "stdout",
     "output_type": "stream",
     "text": [
      "Jinzhong Niu\n"
     ]
    }
   ],
   "source": [
    "name = \"Jinzhong Niu\"\n",
    "print(name)"
   ]
  },
  {
   "cell_type": "code",
   "execution_count": 95,
   "metadata": {
    "id": "sZwWBkHhFCc0",
    "tags": []
   },
   "outputs": [
    {
     "name": "stdout",
     "output_type": "stream",
     "text": [
      "Parviz\n"
     ]
    }
   ],
   "source": [
    "name = \"Parviz\"\n",
    "print(name)"
   ]
  },
  {
   "cell_type": "markdown",
   "metadata": {
    "id": "DP9_oKpi6T9g"
   },
   "source": [
    "<a name=\"p4.3\"></a>\n",
    "\n",
    "---\n",
    "### **Part 4.3: Objects and Types**\n",
    "---\n",
    "\n",
    "In this section, you will hone your understanding of the concepts of objects and types."
   ]
  },
  {
   "cell_type": "markdown",
   "metadata": {
    "id": "wo7SOJPU7AXD"
   },
   "source": [
    "#### **Problem #4.3.1**\n",
    "\n",
    "Which of the following objects are floats?\n",
    "\n",
    "a.\n",
    "```python\n",
    "5.2\n",
    "```\n",
    "\n",
    "b.\n",
    "```python\n",
    "\"this is an object\"\n",
    "```\n",
    "\n",
    "c.\n",
    "```python\n",
    "\"5.2\"\n",
    "```\n",
    "\n",
    "d.\n",
    "```python\n",
    "52\n",
    "```\n",
    "\n",
    "e.\n",
    "```python\n",
    "52 / 10\n",
    "```"
   ]
  },
  {
   "cell_type": "markdown",
   "metadata": {
    "id": "8E_hjAwnzJIJ"
   },
   "source": [
    "#### **Problem #4.3.2**\n",
    "\n",
    "Label the following data types.\n",
    "\n",
    "a.\n",
    "```python\n",
    "2\n",
    "```\n",
    "\n",
    "b.\n",
    "```python\n",
    "8.9\n",
    "```\n",
    "\n",
    "c.\n",
    "```python\n",
    "\"TRAIN\"\n",
    "```\n",
    "\n",
    "d.\n",
    "```python\n",
    "[\"string\"]\n",
    "```\n",
    "\n",
    "e.\n",
    "```python\n",
    "5.0\n",
    "```\n",
    "\n",
    "\n"
   ]
  },
  {
   "cell_type": "markdown",
   "metadata": {
    "id": "TzwueTwDAT_e"
   },
   "source": [
    "#### **Problem #4.3.3**\n",
    "\n",
    "Which of the following are objects?\n",
    "\n",
    "a.\n",
    "```python\n",
    "\"28\"\n",
    "```\n",
    "\n",
    "b.\n",
    "```python\n",
    "28.5\n",
    "```\n",
    "\n",
    "c.\n",
    "```python\n",
    "num_eggs = 2 * 3\n",
    "```\n",
    "\n",
    "d.\n",
    "```python\n",
    "True\n",
    "```\n",
    "\n",
    "e.\n",
    "```python\n",
    "is_cheese = False\n",
    "```"
   ]
  },
  {
   "cell_type": "markdown",
   "metadata": {
    "id": "tmEby-pV9ctp"
   },
   "source": [
    "#### **Problem #4.3.4**\n",
    "\n",
    "As we've discussed, objects consist of two parts: attributes (data) and methods (behaviors). Given that the syntax for both is different, which of the following are attributes?\n",
    "\n",
    "a.\n",
    "```python\n",
    "phone.call(\"Bob\")\n",
    "```\n",
    "\n",
    "b.\n",
    "```python\n",
    "phone.time\n",
    "```\n",
    "\n",
    "c.\n",
    "```python\n",
    "phone.change_volume(50)\n",
    "```\n",
    "\n",
    "d.\n",
    "```python\n",
    "students.names_list\n",
    "```\n",
    "\n",
    "e.\n",
    "```python\n",
    "students.sort_by_age()\n",
    "```"
   ]
  },
  {
   "cell_type": "markdown",
   "metadata": {
    "id": "Fn-MmuBT6dzZ"
   },
   "source": [
    "#### **Problem #4.3.5**\n",
    "\n",
    "Create a `baby` object and set its age to 1. Then print out its \"age\" attribute."
   ]
  },
  {
   "cell_type": "code",
   "execution_count": 96,
   "metadata": {
    "id": "iszC3Nln2wkT"
   },
   "outputs": [
    {
     "name": "stdout",
     "output_type": "stream",
     "text": [
      "1\n"
     ]
    }
   ],
   "source": [
    "skylar = baby()\n",
    "skylar.age = 1\n",
    "print(skylar.age)"
   ]
  },
  {
   "cell_type": "markdown",
   "metadata": {
    "id": "B51rkpDd9KdP"
   },
   "source": [
    "#### **Problem #4.3.6**\n",
    "\n",
    "Print out the baby's `hunger` and `mood` attributes."
   ]
  },
  {
   "cell_type": "code",
   "execution_count": 97,
   "metadata": {
    "id": "ffXS2vaE7b7S"
   },
   "outputs": [
    {
     "name": "stdout",
     "output_type": "stream",
     "text": [
      "hungry\n"
     ]
    }
   ],
   "source": [
    "print(skylar.hunger)"
   ]
  },
  {
   "cell_type": "code",
   "execution_count": 98,
   "metadata": {
    "id": "nlO-ANpSQ03U"
   },
   "outputs": [
    {
     "name": "stdout",
     "output_type": "stream",
     "text": [
      "crying\n"
     ]
    }
   ],
   "source": [
    "print(skylar.mood)"
   ]
  },
  {
   "cell_type": "markdown",
   "metadata": {
    "id": "nCy0pue79_rA"
   },
   "source": [
    "#### **Problem #4.3.7**\n",
    "\n",
    "Now, use the baby's `feed` and `play` methods. Then print out its `hunger` and `mood` attributes once again."
   ]
  },
  {
   "cell_type": "code",
   "execution_count": 99,
   "metadata": {
    "id": "JnebEKI4RITF"
   },
   "outputs": [
    {
     "name": "stdout",
     "output_type": "stream",
     "text": [
      "full\n"
     ]
    }
   ],
   "source": [
    "skylar.feed()\n",
    "print(skylar.hunger)"
   ]
  },
  {
   "cell_type": "code",
   "execution_count": 100,
   "metadata": {
    "id": "ewY0mWW391qb"
   },
   "outputs": [
    {
     "name": "stdout",
     "output_type": "stream",
     "text": [
      "happy\n"
     ]
    }
   ],
   "source": [
    "skylar.play()\n",
    "print(skylar.mood)"
   ]
  },
  {
   "cell_type": "markdown",
   "metadata": {
    "id": "9YYUG7us_YLw"
   },
   "source": [
    "#### **Problem #4.3.8**\n",
    "\n",
    "Create a `plant` object using its corresponding function, and use the `check_health` method to measure the plant's health."
   ]
  },
  {
   "cell_type": "code",
   "execution_count": 101,
   "metadata": {
    "id": "R52FGssZAAEA"
   },
   "outputs": [
    {
     "name": "stdout",
     "output_type": "stream",
     "text": [
      "Your plant's health is a 10/10.\n",
      "If you had to rate the wetness of the soil, it would be a 0/10.\n",
      "Your light is turned up to 0.\n"
     ]
    }
   ],
   "source": [
    "p = plant()\n",
    "p.check_health()"
   ]
  },
  {
   "cell_type": "markdown",
   "metadata": {
    "id": "yuW5cDWgAj03"
   },
   "source": [
    "#### **Problem #4.3.9**\n",
    "\n",
    "Using the necessary methods and attributes, get your plant to grow a bit.\n",
    "\n",
    "**Hint:** Read through the `plant` class to see if there is a way to give it the perfect amount of water and light without guessing and checking."
   ]
  },
  {
   "cell_type": "code",
   "execution_count": 102,
   "metadata": {
    "id": "Hm_lqzKjAPt-"
   },
   "outputs": [
    {
     "name": "stdout",
     "output_type": "stream",
     "text": [
      "You watered your plant.\n",
      "You set the light to level 1\n",
      "Day 1\n",
      "Your plant looks happy with the light it has.\n",
      "Your plant looks happy with the water it had.\n",
      "\n",
      "\n"
     ]
    }
   ],
   "source": [
    "p.water_plant(p.perfect_water)\n",
    "p.set_light(p.perfect_light)\n",
    "p.wait(1)"
   ]
  },
  {
   "cell_type": "markdown",
   "metadata": {
    "id": "O5OLepZKn_aT"
   },
   "source": [
    "<a name=\"p4.4\"></a>\n",
    "\n",
    "---\n",
    "### **Part 4.4: Debugging**\n",
    "---"
   ]
  },
  {
   "cell_type": "markdown",
   "metadata": {
    "id": "DJYgxQ2hGN9U"
   },
   "source": [
    "#### **Problem #4.4.1**\n",
    "\n",
    "Debug the code shown below."
   ]
  },
  {
   "cell_type": "code",
   "execution_count": 104,
   "metadata": {
    "colab": {
     "base_uri": "https://localhost:8080/",
     "height": 214
    },
    "executionInfo": {
     "elapsed": 217,
     "status": "error",
     "timestamp": 1707421871833,
     "user": {
      "displayName": "Hannah Walden",
      "userId": "09051575008630852092"
     },
     "user_tz": 300
    },
    "id": "RA-PHpSHGMOR",
    "outputId": "8297523f-00d2-445b-a57c-89d5c04e3b7e"
   },
   "outputs": [
    {
     "data": {
      "text/plain": [
       "51"
      ]
     },
     "execution_count": 104,
     "metadata": {},
     "output_type": "execute_result"
    }
   ],
   "source": [
    "x = \"17\"\n",
    "y = \"3\"\n",
    "# x * y\n",
    "int(x) * int(y)"
   ]
  },
  {
   "cell_type": "markdown",
   "metadata": {
    "id": "qBRQlNdAIoMM"
   },
   "source": [
    "#### **Problem #4.4.2**\n",
    "\n",
    "Debug the code shown below. **NOTE**: This is a *logical* error. The intention is to make the baby happy, but the current method of doing so isn't working and they are crying."
   ]
  },
  {
   "cell_type": "code",
   "execution_count": null,
   "metadata": {
    "colab": {
     "base_uri": "https://localhost:8080/",
     "height": 35
    },
    "executionInfo": {
     "elapsed": 271,
     "status": "ok",
     "timestamp": 1707468523043,
     "user": {
      "displayName": "Adam Pearson",
      "userId": "12812318258019242438"
     },
     "user_tz": -120
    },
    "id": "Zw0EixWuIhyv",
    "outputId": "b2c86c8e-3051-4e92-f137-cb4b9ea9b392"
   },
   "outputs": [
    {
     "data": {
      "text/plain": [
       "'happy'"
      ]
     },
     "execution_count": 110,
     "metadata": {},
     "output_type": "execute_result"
    }
   ],
   "source": [
    "newborn = baby()\n",
    "newborn.play()\n",
    "newborn.mood"
   ]
  },
  {
   "cell_type": "markdown",
   "metadata": {
    "id": "LnemW_PyJSHN"
   },
   "source": [
    "#### **Problem #4.4.3**\n",
    "\n",
    "Debug the code shown below."
   ]
  },
  {
   "cell_type": "code",
   "execution_count": null,
   "metadata": {
    "colab": {
     "base_uri": "https://localhost:8080/",
     "height": 245
    },
    "executionInfo": {
     "elapsed": 120,
     "status": "error",
     "timestamp": 1692991665596,
     "user": {
      "displayName": "Tristin Rice",
      "userId": "01719244519041825611"
     },
     "user_tz": 240
    },
    "id": "f7o4YPXsKMmj",
    "outputId": "fdbebf55-8ebd-48e2-8a1e-e6b5c9901410"
   },
   "outputs": [
    {
     "name": "stdout",
     "output_type": "stream",
     "text": [
      "Your plant's health is a 10/10.\n",
      "If you had to rate the wetness of the soil, it would be a 0/10.\n",
      "Your light is turned up to 0.\n",
      "You set the light to level 6\n",
      "You watered your plant.\n",
      "Day 1\n",
      "Your plant needs more light\n",
      "Your plant needs more water\n",
      "\n",
      "\n",
      "Day 2\n",
      "Your plant needs more light\n",
      "Your plant needs more water\n",
      "\n",
      "\n",
      "Day 3\n",
      "Your plant needs more light\n",
      "Your plant needs more water\n",
      "\n",
      "\n",
      "Day 4\n",
      "Your plant needs more light\n",
      "Your plant needs more water\n",
      "\n",
      "\n",
      "Day 5\n",
      "Your plant needs more light\n",
      "Your plant needs more water\n",
      "\n",
      "\n",
      "Day 6\n",
      "Your plant needs more light\n",
      "Your plant needs more water\n",
      "\n",
      "\n",
      "Day 7\n",
      "Your plant needs more light\n",
      "Your plant needs more water\n",
      "\n",
      "\n",
      "Day 8\n",
      "Your plant needs more light\n",
      "Your plant needs more water\n",
      "\n",
      "\n",
      "Day 9\n",
      "Your plant needs more light\n",
      "Your plant needs more water\n",
      "Your plant died! You decide to plant a new seed. Treat this one better!\n",
      "\n",
      "\n",
      "Day 1\n",
      "Your plant needs more light\n",
      "Your plant needs more water\n",
      "\n",
      "\n",
      "Your plant's health is a 8.9/10.\n",
      "If you had to rate the wetness of the soil, it would be a 0/10.\n",
      "Your light is turned up to 0.\n"
     ]
    }
   ],
   "source": [
    "oak = plant()\n",
    "oak.check_health()\n",
    "oak.set_light(6)\n",
    "oak.water_plant(8)\n",
    "oak.wait(10)\n",
    "oak.check_health()"
   ]
  },
  {
   "cell_type": "markdown",
   "metadata": {
    "id": "pLqchySgLB5E"
   },
   "source": [
    "#### **Problem #4.4.4**\n",
    "\n",
    "Debug the code shown below."
   ]
  },
  {
   "cell_type": "code",
   "execution_count": null,
   "metadata": {
    "colab": {
     "base_uri": "https://localhost:8080/",
     "height": 245
    },
    "executionInfo": {
     "elapsed": 121,
     "status": "error",
     "timestamp": 1692992042415,
     "user": {
      "displayName": "Tristin Rice",
      "userId": "01719244519041825611"
     },
     "user_tz": 240
    },
    "id": "gafSvfZTJ8qO",
    "outputId": "5ce24256-f2c1-4355-d2bf-a684e2886f5b"
   },
   "outputs": [
    {
     "name": "stdout",
     "output_type": "stream",
     "text": [
      "-3.0\n",
      "-5.0\n"
     ]
    }
   ],
   "source": [
    "#f(x) = ax^2 + bx + c\n",
    "a = 1\n",
    "b = 8\n",
    "c = 15\n",
    "x1 = (-b + (b**2 - 4 * a * c)**0.5)/(2 * a)\n",
    "x2 = (-b - (b**2 - 4 * a * c)**0.5)/(2 * a)\n",
    "print(x1)\n",
    "print(x2)"
   ]
  },
  {
   "cell_type": "markdown",
   "metadata": {
    "id": "uesbpA-INjWh"
   },
   "source": [
    "#### **Problem #4.4.5**\n",
    "\n",
    "Debug the code shown below."
   ]
  },
  {
   "cell_type": "code",
   "execution_count": null,
   "metadata": {
    "colab": {
     "base_uri": "https://localhost:8080/",
     "height": 211
    },
    "executionInfo": {
     "elapsed": 114,
     "status": "error",
     "timestamp": 1692993298223,
     "user": {
      "displayName": "Tristin Rice",
      "userId": "01719244519041825611"
     },
     "user_tz": 240
    },
    "id": "J3OW1W6aMQu0",
    "outputId": "86489273-a365-4353-ed0c-de8ba77928ea"
   },
   "outputs": [
    {
     "data": {
      "text/plain": [
       "1"
      ]
     },
     "execution_count": 117,
     "metadata": {},
     "output_type": "execute_result"
    }
   ],
   "source": [
    "alisha = baby()\n",
    "alisha.age = 1\n",
    "alisha.age"
   ]
  },
  {
   "cell_type": "markdown",
   "metadata": {
    "id": "IFWD_7GUpElv"
   },
   "source": [
    "<a name=\"p4.5\"></a>\n",
    "\n",
    "---\n",
    "### **Part 4.5: Challenge Problems**\n",
    "---"
   ]
  },
  {
   "cell_type": "markdown",
   "metadata": {
    "id": "7MCBBIuFaqG0"
   },
   "source": [
    "#### **Problem #4.5.1**\n",
    "\n",
    "Research the `numpy` module to find a function that allows you simulate rolling a weighted die that is twice as likely to land on 6 than a typical die. Then, simulate this die being rolled six times."
   ]
  },
  {
   "cell_type": "code",
   "execution_count": null,
   "metadata": {
    "id": "f6-MmfxWRfhJ"
   },
   "outputs": [
    {
     "name": "stdout",
     "output_type": "stream",
     "text": [
      "6\n",
      "3\n",
      "6\n",
      "5\n",
      "3\n",
      "4\n"
     ]
    }
   ],
   "source": [
    "for i in range(6):\n",
    "    num = numpy.random.randint(1, 8)\n",
    "    if num == 7:\n",
    "        num = 6\n",
    "    print(num)\n",
    "    "
   ]
  },
  {
   "cell_type": "markdown",
   "metadata": {
    "id": "MAbKoxKzey5X"
   },
   "source": [
    "#### **Problem #4.5.2**\n",
    "\n",
    "Use the `append` method to add \"six\" to the list below. Then, write code the prints out the reversed list."
   ]
  },
  {
   "cell_type": "code",
   "execution_count": null,
   "metadata": {
    "id": "492gscAegBnq"
   },
   "outputs": [
    {
     "name": "stdout",
     "output_type": "stream",
     "text": [
      "six\n",
      "five\n",
      "four\n",
      "three\n",
      "two\n",
      "one\n"
     ]
    }
   ],
   "source": [
    "my_list = [\"one\",\"two\",\"three\", \"four\",\"five\"]\n",
    "my_list.append(\"six\")\n",
    "for i in range(1, len(my_list)+1):\n",
    "    print(my_list[-i])"
   ]
  },
  {
   "cell_type": "markdown",
   "metadata": {
    "id": "dbLvQlEJgno8"
   },
   "source": [
    "#### **Problem #4.5.3**\n",
    "\n",
    "Research the `matplotlib` module to find a function that creates a line graph of the data provided below. For an extra challenge, label the x-axis \"Year\" and the y-axis \"Number of Transistors per Microprocessor in Millions\". This is a visual representation of Moore's Law!"
   ]
  },
  {
   "cell_type": "code",
   "execution_count": null,
   "metadata": {
    "id": "UuekpDjKlkpU",
    "tags": []
   },
   "outputs": [
    {
     "data": {
      "image/png": "[encoded data removed]",
      "text/plain": [
       "<Figure size 640x480 with 1 Axes>"
      ]
     },
     "metadata": {},
     "output_type": "display_data"
    }
   ],
   "source": [
    "years = [1972, 1982, 1992, 2002, 2012]\n",
    "num_transistors = [.004, .14, 3.11, 220.67, 2600]\n",
    "\n",
    "\n",
    "import numpy as np\n",
    "import matplotlib as mpl\n",
    "import matplotlib.pyplot as plt\n",
    "\n",
    "fig, ax = plt.subplots()\n",
    "ax.grid()\n",
    "ax.plot(years, num_transistors, color='green')\n",
    "ax.set_xlabel('Year')\n",
    "ax.set_ylabel('Number of Transistors per Microprocessor in Millions')\n",
    "#fig.savefig(\"moore-law.pdf\")\n",
    "plt.show()"
   ]
  },
  {
   "cell_type": "markdown",
   "metadata": {
    "id": "7dzC09dLlEhm"
   },
   "source": [
    "#End of notebook\n",
    "---\n",
    "© 2024 The Coding School, All rights reserved"
   ]
  }
 ],
 "metadata": {
  "colab": {
   "provenance": [],
   "toc_visible": true
  },
  "kernelspec": {
   "display_name": ".venv",
   "language": "python",
   "name": "python3"
  },
  "language_info": {
   "codemirror_mode": {
    "name": "ipython",
    "version": 3
   },
   "file_extension": ".py",
   "mimetype": "text/x-python",
   "name": "python",
   "nbconvert_exporter": "python",
   "pygments_lexer": "ipython3",
   "version": "3.12.2"
  }
 },
 "nbformat": 4,
 "nbformat_minor": 4
}
