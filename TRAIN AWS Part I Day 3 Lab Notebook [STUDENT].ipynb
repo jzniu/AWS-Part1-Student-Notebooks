{
 "cells": [
  {
   "cell_type": "markdown",
   "metadata": {
    "id": "mbZXQ3rA3NwL"
   },
   "source": [
    "# **Day 3: Data Visualizations with matplotlib**\n",
    "---\n",
    "\n",
    "### **Description**\n",
    "In this notebook, you will be introduced to an essential step of the Machine Learning process: Data Visualization. We will explore different types of visualizations including scatter plots, line plots and bar plots.\n",
    "\n",
    "\n",
    "<br>\n",
    "\n",
    "### **Structure**\n",
    "**Part 1**: [Scatter Plots](#p1)\n",
    "\n",
    "**Part 2**: [Line Plots](#p2)\n",
    "\n",
    "**Part 3**: [Bar Plots](#p3)\n",
    "\n",
    "**Part 4**: [[ADVANCED] Improving Visualizations](#p4)\n",
    "\n",
    "\n",
    "<br>\n",
    "\n",
    "### **Learning Objectives**\n",
    "By the end of this lab, we will:\n",
    "* Recognize what matplotlib is and why we're using it.\n",
    "* Recognize how to implement scatter, line, and bar plots.\n",
    "\n",
    "\n",
    "<br>\n",
    "\n",
    "### **Resources**\n",
    "* [Python Basics Cheat Sheet](https://docs.google.com/document/d/1bMqW8SKR6xC0-d1f0hb-DnYPJ0CyszjiwPCovAl9TLc/edit?usp=drive_link)\n",
    "\n",
    "* [EDA with pandas Cheat Sheet](https://docs.google.com/document/d/1PDHUzx7dHCa6MZBpHFME8IMW3EFtcUj-FHPhi_p6QEE/edit?usp=sharing)\n",
    "\n",
    "* [Data Visualization with matplotlib Cheat Sheet\n",
    "](https://docs.google.com/document/d/1kRBEo82pP5r5OJ1npGbfubUw2z8aXIKonjW4PXgY4x8/edit?usp=sharing)\n",
    "\n",
    "* [matplotlib documentation](https://matplotlib.org/stable/)\n",
    "\n",
    "<br>\n",
    "\n",
    "**Before starting, run the code below to import all necessary functions and libraries.**\n"
   ]
  },
  {
   "cell_type": "code",
   "execution_count": 1,
   "metadata": {
    "id": "YAvvLhRIoqYp"
   },
   "outputs": [
    {
     "name": "stdout",
     "output_type": "stream",
     "text": [
      "Requirement already satisfied: pandas in c:\\data\\python-workspaces\\vscode\\aws-part1-student-notebooks\\.venv\\lib\\site-packages (2.2.1)\n",
      "Requirement already satisfied: matplotlib in c:\\data\\python-workspaces\\vscode\\aws-part1-student-notebooks\\.venv\\lib\\site-packages (3.8.3)\n",
      "Requirement already satisfied: numpy in c:\\data\\python-workspaces\\vscode\\aws-part1-student-notebooks\\.venv\\lib\\site-packages (1.26.4)\n",
      "Requirement already satisfied: seaborn in c:\\data\\python-workspaces\\vscode\\aws-part1-student-notebooks\\.venv\\lib\\site-packages (0.13.2)\n",
      "Requirement already satisfied: python-dateutil>=2.8.2 in c:\\data\\python-workspaces\\vscode\\aws-part1-student-notebooks\\.venv\\lib\\site-packages (from pandas) (2.9.0.post0)\n",
      "Requirement already satisfied: pytz>=2020.1 in c:\\data\\python-workspaces\\vscode\\aws-part1-student-notebooks\\.venv\\lib\\site-packages (from pandas) (2024.1)\n",
      "Requirement already satisfied: tzdata>=2022.7 in c:\\data\\python-workspaces\\vscode\\aws-part1-student-notebooks\\.venv\\lib\\site-packages (from pandas) (2024.1)\n",
      "Requirement already satisfied: contourpy>=1.0.1 in c:\\data\\python-workspaces\\vscode\\aws-part1-student-notebooks\\.venv\\lib\\site-packages (from matplotlib) (1.2.0)\n",
      "Requirement already satisfied: cycler>=0.10 in c:\\data\\python-workspaces\\vscode\\aws-part1-student-notebooks\\.venv\\lib\\site-packages (from matplotlib) (0.12.1)\n",
      "Requirement already satisfied: fonttools>=4.22.0 in c:\\data\\python-workspaces\\vscode\\aws-part1-student-notebooks\\.venv\\lib\\site-packages (from matplotlib) (4.50.0)\n",
      "Requirement already satisfied: kiwisolver>=1.3.1 in c:\\data\\python-workspaces\\vscode\\aws-part1-student-notebooks\\.venv\\lib\\site-packages (from matplotlib) (1.4.5)\n",
      "Requirement already satisfied: packaging>=20.0 in c:\\data\\python-workspaces\\vscode\\aws-part1-student-notebooks\\.venv\\lib\\site-packages (from matplotlib) (24.0)\n",
      "Requirement already satisfied: pillow>=8 in c:\\data\\python-workspaces\\vscode\\aws-part1-student-notebooks\\.venv\\lib\\site-packages (from matplotlib) (10.2.0)\n",
      "Requirement already satisfied: pyparsing>=2.3.1 in c:\\data\\python-workspaces\\vscode\\aws-part1-student-notebooks\\.venv\\lib\\site-packages (from matplotlib) (3.1.2)\n",
      "Requirement already satisfied: six>=1.5 in c:\\data\\python-workspaces\\vscode\\aws-part1-student-notebooks\\.venv\\lib\\site-packages (from python-dateutil>=2.8.2->pandas) (1.16.0)\n"
     ]
    }
   ],
   "source": [
    "! pip install pandas matplotlib numpy seaborn\n",
    "\n",
    "import warnings\n",
    "warnings.filterwarnings('ignore')\n",
    "\n",
    "import matplotlib.pyplot as plt\n",
    "\n",
    "import pandas as pd\n",
    "\n",
    "import numpy as np\n",
    "\n",
    "import seaborn as sns\n"
   ]
  },
  {
   "cell_type": "markdown",
   "metadata": {
    "id": "35kCNtZbRXbC"
   },
   "source": [
    "<a name=\"p1\"></a>\n",
    "\n",
    "---\n",
    "## **Part 1: Scatter Plots**\n",
    "---"
   ]
  },
  {
   "cell_type": "markdown",
   "metadata": {
    "id": "A9yCEWGndMPX"
   },
   "source": [
    "#### **Problem #1.1**\n",
    "\n",
    "**Together**, we will create a scatter plot. Specifically, let's:\n",
    "\n",
    "1. Create a scatter plot.\n",
    "\n",
    "2. Add a title.\n",
    "\n",
    "3. Add x and y labels.\n",
    "\n",
    "<br>\n",
    "\n",
    "**First, run the code below to create your dataframe called `df`.**"
   ]
  },
  {
   "cell_type": "code",
   "execution_count": 2,
   "metadata": {
    "colab": {
     "base_uri": "https://localhost:8080/"
    },
    "executionInfo": {
     "elapsed": 178,
     "status": "ok",
     "timestamp": 1707511221034,
     "user": {
      "displayName": "Hannah Walden",
      "userId": "09051575008630852092"
     },
     "user_tz": 300
    },
    "id": "N8MJgw3qR3vy",
    "outputId": "75529a75-7570-4a68-bfb0-4c4186396962"
   },
   "outputs": [
    {
     "name": "stdout",
     "output_type": "stream",
     "text": [
      "     ID Gender  Height (in)  Weight\n",
      "0   101      F           64     125\n",
      "1   102      F           59     101\n",
      "2   103      M           70     165\n",
      "3   104      M           72     187\n",
      "4   105      F           66     144\n",
      "5   106      M           72     202\n",
      "6   107      F           61     113\n",
      "7   108      M           71     191\n",
      "8   109      M           74     223\n",
      "9   110      F           69     303\n",
      "10  111      F           69     166\n",
      "11  112      M           67     150\n",
      "12  113      F           60     108\n",
      "13  114      M           70     217\n",
      "14  115      M           65     191\n"
     ]
    }
   ],
   "source": [
    "# create dataframe\n",
    "df = pd.DataFrame.from_dict({\"ID\": [101, 102, 103, 104, 105, 106, 107, 108, 109, 110, 111, 112, 113, 114, 115],\n",
    "           \"Weight\": [125, 101, 165, 187, 144, 202, 113, 191, 223, 303, 166, 150, 108, 217, 191],\n",
    "           \"Gender\": ['F', 'F', 'M', 'M', 'F', 'M', 'F', 'M', 'M', 'F', 'F', 'M', 'F', 'M', 'M'],\n",
    "           \"Height (in)\": [64, 59, 70, 72, 66, 72, 61, 71, 74, 69, 69, 67, 60, 70, 65]})\n",
    "\n",
    "# reorganize columns\n",
    "df = df[['ID', 'Gender', 'Height (in)', 'Weight']]\n",
    "\n",
    "print(df)\n"
   ]
  },
  {
   "cell_type": "code",
   "execution_count": 3,
   "metadata": {},
   "outputs": [
    {
     "name": "stdout",
     "output_type": "stream",
     "text": [
      "Requirement already satisfied: pandas in c:\\data\\python-workspaces\\vscode\\aws-part1-student-notebooks\\.venv\\lib\\site-packages (2.2.1)\n",
      "Requirement already satisfied: matplotlib in c:\\data\\python-workspaces\\vscode\\aws-part1-student-notebooks\\.venv\\lib\\site-packages (3.8.3)\n",
      "Requirement already satisfied: numpy in c:\\data\\python-workspaces\\vscode\\aws-part1-student-notebooks\\.venv\\lib\\site-packages (1.26.4)\n",
      "Requirement already satisfied: seaborn in c:\\data\\python-workspaces\\vscode\\aws-part1-student-notebooks\\.venv\\lib\\site-packages (0.13.2)\n",
      "Requirement already satisfied: python-dateutil>=2.8.2 in c:\\data\\python-workspaces\\vscode\\aws-part1-student-notebooks\\.venv\\lib\\site-packages (from pandas) (2.9.0.post0)\n",
      "Requirement already satisfied: pytz>=2020.1 in c:\\data\\python-workspaces\\vscode\\aws-part1-student-notebooks\\.venv\\lib\\site-packages (from pandas) (2024.1)\n",
      "Requirement already satisfied: tzdata>=2022.7 in c:\\data\\python-workspaces\\vscode\\aws-part1-student-notebooks\\.venv\\lib\\site-packages (from pandas) (2024.1)\n",
      "Requirement already satisfied: contourpy>=1.0.1 in c:\\data\\python-workspaces\\vscode\\aws-part1-student-notebooks\\.venv\\lib\\site-packages (from matplotlib) (1.2.0)\n",
      "Requirement already satisfied: cycler>=0.10 in c:\\data\\python-workspaces\\vscode\\aws-part1-student-notebooks\\.venv\\lib\\site-packages (from matplotlib) (0.12.1)\n",
      "Requirement already satisfied: fonttools>=4.22.0 in c:\\data\\python-workspaces\\vscode\\aws-part1-student-notebooks\\.venv\\lib\\site-packages (from matplotlib) (4.50.0)\n",
      "Requirement already satisfied: kiwisolver>=1.3.1 in c:\\data\\python-workspaces\\vscode\\aws-part1-student-notebooks\\.venv\\lib\\site-packages (from matplotlib) (1.4.5)\n",
      "Requirement already satisfied: packaging>=20.0 in c:\\data\\python-workspaces\\vscode\\aws-part1-student-notebooks\\.venv\\lib\\site-packages (from matplotlib) (24.0)\n",
      "Requirement already satisfied: pillow>=8 in c:\\data\\python-workspaces\\vscode\\aws-part1-student-notebooks\\.venv\\lib\\site-packages (from matplotlib) (10.2.0)\n",
      "Requirement already satisfied: pyparsing>=2.3.1 in c:\\data\\python-workspaces\\vscode\\aws-part1-student-notebooks\\.venv\\lib\\site-packages (from matplotlib) (3.1.2)\n",
      "Requirement already satisfied: six>=1.5 in c:\\data\\python-workspaces\\vscode\\aws-part1-student-notebooks\\.venv\\lib\\site-packages (from python-dateutil>=2.8.2->pandas) (1.16.0)\n"
     ]
    }
   ],
   "source": [
    "# @title\n",
    "! pip install pandas matplotlib numpy seaborn\n",
    "\n",
    "import warnings\n",
    "warnings.filterwarnings('ignore')\n",
    "\n",
    "import matplotlib.pyplot as plt\n",
    "\n",
    "import pandas as pd\n",
    "\n",
    "import numpy as np\n",
    "\n",
    "import seaborn as sns\n"
   ]
  },
  {
   "cell_type": "code",
   "execution_count": 4,
   "metadata": {},
   "outputs": [
    {
     "name": "stdout",
     "output_type": "stream",
     "text": [
      "Requirement already satisfied: pandas in c:\\data\\python-workspaces\\vscode\\aws-part1-student-notebooks\\.venv\\lib\\site-packages (2.2.1)\n",
      "Requirement already satisfied: matplotlib in c:\\data\\python-workspaces\\vscode\\aws-part1-student-notebooks\\.venv\\lib\\site-packages (3.8.3)\n",
      "Requirement already satisfied: numpy in c:\\data\\python-workspaces\\vscode\\aws-part1-student-notebooks\\.venv\\lib\\site-packages (1.26.4)\n",
      "Requirement already satisfied: seaborn in c:\\data\\python-workspaces\\vscode\\aws-part1-student-notebooks\\.venv\\lib\\site-packages (0.13.2)\n",
      "Requirement already satisfied: python-dateutil>=2.8.2 in c:\\data\\python-workspaces\\vscode\\aws-part1-student-notebooks\\.venv\\lib\\site-packages (from pandas) (2.9.0.post0)\n",
      "Requirement already satisfied: pytz>=2020.1 in c:\\data\\python-workspaces\\vscode\\aws-part1-student-notebooks\\.venv\\lib\\site-packages (from pandas) (2024.1)\n",
      "Requirement already satisfied: tzdata>=2022.7 in c:\\data\\python-workspaces\\vscode\\aws-part1-student-notebooks\\.venv\\lib\\site-packages (from pandas) (2024.1)\n",
      "Requirement already satisfied: contourpy>=1.0.1 in c:\\data\\python-workspaces\\vscode\\aws-part1-student-notebooks\\.venv\\lib\\site-packages (from matplotlib) (1.2.0)\n",
      "Requirement already satisfied: cycler>=0.10 in c:\\data\\python-workspaces\\vscode\\aws-part1-student-notebooks\\.venv\\lib\\site-packages (from matplotlib) (0.12.1)\n",
      "Requirement already satisfied: fonttools>=4.22.0 in c:\\data\\python-workspaces\\vscode\\aws-part1-student-notebooks\\.venv\\lib\\site-packages (from matplotlib) (4.50.0)\n",
      "Requirement already satisfied: kiwisolver>=1.3.1 in c:\\data\\python-workspaces\\vscode\\aws-part1-student-notebooks\\.venv\\lib\\site-packages (from matplotlib) (1.4.5)\n",
      "Requirement already satisfied: packaging>=20.0 in c:\\data\\python-workspaces\\vscode\\aws-part1-student-notebooks\\.venv\\lib\\site-packages (from matplotlib) (24.0)\n",
      "Requirement already satisfied: pillow>=8 in c:\\data\\python-workspaces\\vscode\\aws-part1-student-notebooks\\.venv\\lib\\site-packages (from matplotlib) (10.2.0)\n",
      "Requirement already satisfied: pyparsing>=2.3.1 in c:\\data\\python-workspaces\\vscode\\aws-part1-student-notebooks\\.venv\\lib\\site-packages (from matplotlib) (3.1.2)\n",
      "Requirement already satisfied: six>=1.5 in c:\\data\\python-workspaces\\vscode\\aws-part1-student-notebooks\\.venv\\lib\\site-packages (from python-dateutil>=2.8.2->pandas) (1.16.0)\n"
     ]
    }
   ],
   "source": [
    "# @title\n",
    "! pip install pandas matplotlib numpy seaborn\n",
    "\n",
    "import warnings\n",
    "warnings.filterwarnings('ignore')\n",
    "\n",
    "import matplotlib.pyplot as plt\n",
    "\n",
    "import pandas as pd\n",
    "\n",
    "import numpy as np\n",
    "\n",
    "import seaborn as sns\n"
   ]
  },
  {
   "cell_type": "markdown",
   "metadata": {
    "id": "Sn8pkut_R79Z"
   },
   "source": [
    "#### **Step #1: Create a scatter plot using `Weight` as the x-axis value and `Height (in)` as the y-axis value.**"
   ]
  },
  {
   "cell_type": "markdown",
   "metadata": {
    "id": "r4EsM8qjSBXk"
   },
   "source": [
    "#### **Step #2: Add a title called \"The relationship between height and weight in patients\".**"
   ]
  },
  {
   "cell_type": "markdown",
   "metadata": {
    "id": "YHpZG9f_SEw6"
   },
   "source": [
    "#### **Step #3: Add a x-axis label called \"Weight (lbs)\" and a y-axis label called \"Height (in)\".**"
   ]
  },
  {
   "cell_type": "code",
   "execution_count": 5,
   "metadata": {
    "id": "ucy2CbbnrbTU"
   },
   "outputs": [
    {
     "data": {
      "image/png": "[encoded data removed]",
      "text/plain": [
       "<Figure size 640x480 with 1 Axes>"
      ]
     },
     "metadata": {},
     "output_type": "display_data"
    }
   ],
   "source": [
    "plt.scatter(df['Weight'], df['Height (in)'])\n",
    "plt.title('The relationship between height and weight in patients')\n",
    "plt.xlabel('Weight (lbs)')\n",
    "plt.ylabel('Height (in)')\n",
    "plt.show()"
   ]
  },
  {
   "cell_type": "markdown",
   "metadata": {
    "id": "Mq2gi4MoMF52"
   },
   "source": [
    "---\n",
    "### **Try Problem #1.2 on your own!**\n",
    "---"
   ]
  },
  {
   "cell_type": "markdown",
   "metadata": {
    "id": "gJM55cc_SMyx"
   },
   "source": [
    "#### **Problem #1.2**"
   ]
  },
  {
   "cell_type": "markdown",
   "metadata": {
    "id": "4-h9Kp9uSPtv"
   },
   "source": [
    "#### **Step #1: Graph the `x` and `y` data in the code below as a scatter plot.**\n"
   ]
  },
  {
   "cell_type": "code",
   "execution_count": 6,
   "metadata": {
    "id": "ZShMfqUNSQI-"
   },
   "outputs": [],
   "source": [
    "df = pd.DataFrame.from_dict({'x': [5,7,8,7,2,17,2,9,4,11,12,9,6], 'y': [99,86,87,88,111,86,103,87,94,78,77,85,86]})"
   ]
  },
  {
   "cell_type": "markdown",
   "metadata": {
    "id": "1aWeWYuMSYx2"
   },
   "source": [
    "#### **Step #2: Add a title.**\n",
    "The above information is from recording the age of cars and the speed at which they passed by. Add the following title: `Speed of Cars Passing By vs. Age of Car`."
   ]
  },
  {
   "cell_type": "markdown",
   "metadata": {
    "id": "h8Z8uvGISdXj"
   },
   "source": [
    "#### **Step #3: Add the x-axis label: \"Age of Car (years)\".**"
   ]
  },
  {
   "cell_type": "markdown",
   "metadata": {
    "id": "T_9VfHRMSh-Y"
   },
   "source": [
    "#### **Step #4: Add the y-axis label: `Passing Speed (mph)`**."
   ]
  },
  {
   "cell_type": "code",
   "execution_count": 7,
   "metadata": {
    "id": "H9htdHbicUtW"
   },
   "outputs": [
    {
     "data": {
      "image/png": "[encoded data removed]",
      "text/plain": [
       "<Figure size 640x480 with 1 Axes>"
      ]
     },
     "metadata": {},
     "output_type": "display_data"
    }
   ],
   "source": [
    "plt.scatter(df['x'], df['y'])\n",
    "plt.title('Speed of Cars Passing By vs. Age of Car')\n",
    "plt.xlabel('Age of Car (years)')\n",
    "plt.ylabel('Passing Speed (mph)')\n",
    "plt.show()"
   ]
  },
  {
   "cell_type": "markdown",
   "metadata": {
    "id": "KO9EgSEdJ979"
   },
   "source": [
    "<center>\n",
    "\n",
    "---\n",
    "### **Back to Lecture**\n",
    "---\n",
    "\n",
    "</center>"
   ]
  },
  {
   "cell_type": "markdown",
   "metadata": {
    "id": "nGhw3y8aWiTT"
   },
   "source": [
    "<a name=\"p2\"></a>\n",
    "\n",
    "---\n",
    "## **Part 2: Line Plots**\n",
    "---"
   ]
  },
  {
   "cell_type": "markdown",
   "metadata": {
    "id": "-AgTMHaeSth3"
   },
   "source": [
    "#### **Problem #2.1**\n",
    "\n",
    "**Together**, we will create a line plot. Specifically, let's:\n",
    "\n",
    "1. Create a line plot.\n",
    "\n",
    "2. Add a title.\n",
    "\n",
    "3. Add x and y labels.\n",
    "\n",
    "<br>\n",
    "\n",
    "**First, run the code below to create your dataframe called `heights`.**"
   ]
  },
  {
   "cell_type": "code",
   "execution_count": 8,
   "metadata": {
    "colab": {
     "base_uri": "https://localhost:8080/",
     "height": 645
    },
    "executionInfo": {
     "elapsed": 164,
     "status": "ok",
     "timestamp": 1707511318628,
     "user": {
      "displayName": "Hannah Walden",
      "userId": "09051575008630852092"
     },
     "user_tz": 300
    },
    "id": "LXeV9SWOSzq3",
    "outputId": "8dbafd61-b6eb-4c53-dc8c-ca99a22dc105"
   },
   "outputs": [
    {
     "name": "stdout",
     "output_type": "stream",
     "text": [
      "(19, 2)\n"
     ]
    },
    {
     "data": {
      "text/html": [
       "<div>\n",
       "<style scoped>\n",
       "    .dataframe tbody tr th:only-of-type {\n",
       "        vertical-align: middle;\n",
       "    }\n",
       "\n",
       "    .dataframe tbody tr th {\n",
       "        vertical-align: top;\n",
       "    }\n",
       "\n",
       "    .dataframe thead th {\n",
       "        text-align: right;\n",
       "    }\n",
       "</style>\n",
       "<table border=\"1\" class=\"dataframe\">\n",
       "  <thead>\n",
       "    <tr style=\"text-align: right;\">\n",
       "      <th></th>\n",
       "      <th>age</th>\n",
       "      <th>Height (in)</th>\n",
       "    </tr>\n",
       "  </thead>\n",
       "  <tbody>\n",
       "    <tr>\n",
       "      <th>0</th>\n",
       "      <td>0</td>\n",
       "      <td>12</td>\n",
       "    </tr>\n",
       "    <tr>\n",
       "      <th>1</th>\n",
       "      <td>1</td>\n",
       "      <td>18</td>\n",
       "    </tr>\n",
       "    <tr>\n",
       "      <th>2</th>\n",
       "      <td>2</td>\n",
       "      <td>24</td>\n",
       "    </tr>\n",
       "    <tr>\n",
       "      <th>3</th>\n",
       "      <td>3</td>\n",
       "      <td>30</td>\n",
       "    </tr>\n",
       "    <tr>\n",
       "      <th>4</th>\n",
       "      <td>4</td>\n",
       "      <td>34</td>\n",
       "    </tr>\n",
       "    <tr>\n",
       "      <th>5</th>\n",
       "      <td>5</td>\n",
       "      <td>38</td>\n",
       "    </tr>\n",
       "    <tr>\n",
       "      <th>6</th>\n",
       "      <td>6</td>\n",
       "      <td>42</td>\n",
       "    </tr>\n",
       "    <tr>\n",
       "      <th>7</th>\n",
       "      <td>7</td>\n",
       "      <td>45</td>\n",
       "    </tr>\n",
       "    <tr>\n",
       "      <th>8</th>\n",
       "      <td>8</td>\n",
       "      <td>47</td>\n",
       "    </tr>\n",
       "    <tr>\n",
       "      <th>9</th>\n",
       "      <td>9</td>\n",
       "      <td>50</td>\n",
       "    </tr>\n",
       "    <tr>\n",
       "      <th>10</th>\n",
       "      <td>10</td>\n",
       "      <td>53</td>\n",
       "    </tr>\n",
       "    <tr>\n",
       "      <th>11</th>\n",
       "      <td>11</td>\n",
       "      <td>56</td>\n",
       "    </tr>\n",
       "    <tr>\n",
       "      <th>12</th>\n",
       "      <td>12</td>\n",
       "      <td>59</td>\n",
       "    </tr>\n",
       "    <tr>\n",
       "      <th>13</th>\n",
       "      <td>13</td>\n",
       "      <td>62</td>\n",
       "    </tr>\n",
       "    <tr>\n",
       "      <th>14</th>\n",
       "      <td>14</td>\n",
       "      <td>67</td>\n",
       "    </tr>\n",
       "    <tr>\n",
       "      <th>15</th>\n",
       "      <td>15</td>\n",
       "      <td>68</td>\n",
       "    </tr>\n",
       "    <tr>\n",
       "      <th>16</th>\n",
       "      <td>16</td>\n",
       "      <td>69</td>\n",
       "    </tr>\n",
       "    <tr>\n",
       "      <th>17</th>\n",
       "      <td>17</td>\n",
       "      <td>70</td>\n",
       "    </tr>\n",
       "    <tr>\n",
       "      <th>18</th>\n",
       "      <td>18</td>\n",
       "      <td>70</td>\n",
       "    </tr>\n",
       "  </tbody>\n",
       "</table>\n",
       "</div>"
      ],
      "text/plain": [
       "    age  Height (in)\n",
       "0     0           12\n",
       "1     1           18\n",
       "2     2           24\n",
       "3     3           30\n",
       "4     4           34\n",
       "5     5           38\n",
       "6     6           42\n",
       "7     7           45\n",
       "8     8           47\n",
       "9     9           50\n",
       "10   10           53\n",
       "11   11           56\n",
       "12   12           59\n",
       "13   13           62\n",
       "14   14           67\n",
       "15   15           68\n",
       "16   16           69\n",
       "17   17           70\n",
       "18   18           70"
      ]
     },
     "execution_count": 8,
     "metadata": {},
     "output_type": "execute_result"
    }
   ],
   "source": [
    "#create dataframe\n",
    "heights = pd.DataFrame.from_dict({\"age\": [0, 1, 2, 3, 4, 5, 6, 7, 8, 9, 10, 11, 12, 13, 14, 15, 16, 17, 18], \"Height (in)\": [12, 18, 24, 30, 34, 38, 42, 45, 47, 50, 53, 56, 59, 62, 67, 68, 69, 70, 70]})\n",
    "print(heights.shape)\n",
    "heights"
   ]
  },
  {
   "cell_type": "markdown",
   "metadata": {
    "id": "_vsuIIQzSyJm"
   },
   "source": [
    "#### **Step #1: Create a line plot using `age` as the x-axis value and `Height (in)` as the y-axis value.**"
   ]
  },
  {
   "cell_type": "code",
   "execution_count": 12,
   "metadata": {
    "id": "EQAyQ7IXZy9O"
   },
   "outputs": [
    {
     "data": {
      "image/png": "[encoded data removed]",
      "text/plain": [
       "<Figure size 640x480 with 1 Axes>"
      ]
     },
     "metadata": {},
     "output_type": "display_data"
    }
   ],
   "source": [
    "plt.plot(heights['age'], heights['Height (in)'])\n",
    "\n",
    "plt.show()"
   ]
  },
  {
   "cell_type": "markdown",
   "metadata": {
    "id": "EnQzQgOLS3sY"
   },
   "source": [
    "#### **Step #2: Add in labels and a title.**\n",
    "\n",
    "Make the title and x- and y-axis labels the following:\n",
    "* `Title`: \"Patients Height Over Time\"\n",
    "* `X-axis`: \"Age\"\n",
    "* `Y-axis`: \"Height\""
   ]
  },
  {
   "cell_type": "code",
   "execution_count": 11,
   "metadata": {
    "id": "Abe7GHjAZ3RA"
   },
   "outputs": [
    {
     "data": {
      "image/png": "[encoded data removed]",
      "text/plain": [
       "<Figure size 640x480 with 1 Axes>"
      ]
     },
     "metadata": {},
     "output_type": "display_data"
    }
   ],
   "source": [
    "plt.plot(heights['age'], heights['Height (in)'])\n",
    "\n",
    "plt.title('Patients Height Over Time')\n",
    "plt.xlabel('Age')\n",
    "plt.ylabel('Height')\n",
    "\n",
    "plt.show()"
   ]
  },
  {
   "cell_type": "markdown",
   "metadata": {
    "id": "TqOVvPeO5CUv"
   },
   "source": [
    "---\n",
    "### **Try Problem #2.2 on your own!**\n",
    "---"
   ]
  },
  {
   "cell_type": "markdown",
   "metadata": {
    "id": "cli6KeMRS86H"
   },
   "source": [
    "#### **Problem #2.2**"
   ]
  },
  {
   "cell_type": "markdown",
   "metadata": {
    "id": "dOq0DuwNTAvz"
   },
   "source": [
    "#### **Step #1: Create a line plot out of the following data.**"
   ]
  },
  {
   "cell_type": "code",
   "execution_count": null,
   "metadata": {
    "id": "k3VmfD-AS-3I"
   },
   "outputs": [],
   "source": [
    "df = pd.DataFrame.from_dict({'x': [1, 2, 3, 4, 5, 20], 'y': [1, 5, 3, 5, 7, 8]})\n",
    "\n",
    "\n",
    "# add graph here"
   ]
  },
  {
   "cell_type": "markdown",
   "metadata": {
    "id": "GKNkBQDtTISi"
   },
   "source": [
    "#### **Step #2: Add a title and labels.**\n",
    "\n",
    "Let's assume the graph and data is representative of a stock on the market. Add a title, x-label, and y-label as follows:\n",
    "* `Title:` \"Stock Price Over Time\"\n",
    "* `X-axis:` \"Month\"\n",
    "* `Y-axis`: \"Price (in thousands)\""
   ]
  },
  {
   "cell_type": "code",
   "execution_count": null,
   "metadata": {
    "id": "Gfjdc9HFa4Ew"
   },
   "outputs": [],
   "source": []
  },
  {
   "cell_type": "markdown",
   "metadata": {
    "id": "CQeTZdP4J7B0"
   },
   "source": [
    "<center>\n",
    "\n",
    "---\n",
    "### **Back to Lecture**\n",
    "---\n",
    "\n",
    "</center>"
   ]
  },
  {
   "cell_type": "markdown",
   "metadata": {
    "id": "g6oBbsgKWm2M"
   },
   "source": [
    "<a name=\"p3\"></a>\n",
    "\n",
    "---\n",
    "## **Part 3: Bar Plots**\n",
    "---"
   ]
  },
  {
   "cell_type": "markdown",
   "metadata": {
    "id": "IMHC6e1aTQJZ"
   },
   "source": [
    "#### **Problem #3.1**\n",
    "\n",
    "**Together**, we will create a bar plot. Specifically, let's:\n",
    "\n",
    "1. Create a bar plot.\n",
    "\n",
    "2. Add a title.\n",
    "\n",
    "3. Add x and y labels.\n",
    "\n",
    "<br>\n",
    "\n",
    "**First, run the code below to create your dataframe called `courses`.**"
   ]
  },
  {
   "cell_type": "code",
   "execution_count": null,
   "metadata": {
    "colab": {
     "base_uri": "https://localhost:8080/",
     "height": 175
    },
    "executionInfo": {
     "elapsed": 181,
     "status": "ok",
     "timestamp": 1707511365624,
     "user": {
      "displayName": "Hannah Walden",
      "userId": "09051575008630852092"
     },
     "user_tz": 300
    },
    "id": "uns-Cu9yTb6F",
    "outputId": "bac2ac45-f2a6-45dd-8700-3086fafecf49"
   },
   "outputs": [
    {
     "data": {
      "text/html": [
       "<div>\n",
       "<style scoped>\n",
       "    .dataframe tbody tr th:only-of-type {\n",
       "        vertical-align: middle;\n",
       "    }\n",
       "\n",
       "    .dataframe tbody tr th {\n",
       "        vertical-align: top;\n",
       "    }\n",
       "\n",
       "    .dataframe thead th {\n",
       "        text-align: right;\n",
       "    }\n",
       "</style>\n",
       "<table border=\"1\" class=\"dataframe\">\n",
       "  <thead>\n",
       "    <tr style=\"text-align: right;\">\n",
       "      <th></th>\n",
       "      <th>courses</th>\n",
       "      <th>students</th>\n",
       "    </tr>\n",
       "  </thead>\n",
       "  <tbody>\n",
       "    <tr>\n",
       "      <th>0</th>\n",
       "      <td>Maths</td>\n",
       "      <td>35</td>\n",
       "    </tr>\n",
       "    <tr>\n",
       "      <th>1</th>\n",
       "      <td>English</td>\n",
       "      <td>15</td>\n",
       "    </tr>\n",
       "    <tr>\n",
       "      <th>2</th>\n",
       "      <td>Science</td>\n",
       "      <td>30</td>\n",
       "    </tr>\n",
       "    <tr>\n",
       "      <th>3</th>\n",
       "      <td>Music</td>\n",
       "      <td>50</td>\n",
       "    </tr>\n",
       "  </tbody>\n",
       "</table>\n",
       "</div>"
      ],
      "text/plain": [
       "   courses  students\n",
       "0    Maths        35\n",
       "1  English        15\n",
       "2  Science        30\n",
       "3    Music        50"
      ]
     },
     "execution_count": 18,
     "metadata": {},
     "output_type": "execute_result"
    }
   ],
   "source": [
    "courses = pd.DataFrame.from_dict({'courses': ['Maths', 'English','Science','Music'], 'students': [35,15,30,50]})\n",
    "\n",
    "courses.head()"
   ]
  },
  {
   "cell_type": "markdown",
   "metadata": {
    "id": "c08SgzqqTdk4"
   },
   "source": [
    "#### **Step #1: Create a bar plot using `courses` as the x-axis value and number of students enrolled as the y-axis value.**\n",
    "\n"
   ]
  },
  {
   "cell_type": "markdown",
   "metadata": {
    "id": "kRMfghzDThOY"
   },
   "source": [
    "#### **Step #2: Add in labels and a title.**\n",
    "\n",
    "Add a title, x-label, and y-label as follows:\n",
    "* `Title:` \"Students enrolled in different courses\"\n",
    "* `X-axis:` \"Courses offered\"\n",
    "* `Y-axis`: \"Number of students enrolled\""
   ]
  },
  {
   "cell_type": "code",
   "execution_count": null,
   "metadata": {
    "id": "79b_5k9Mn_U9",
    "tags": []
   },
   "outputs": [
    {
     "data": {
      "image/png": "[encoded data removed]",
      "text/plain": [
       "<Figure size 640x480 with 1 Axes>"
      ]
     },
     "metadata": {},
     "output_type": "display_data"
    }
   ],
   "source": [
    "plt.bar(courses['courses'], courses['students'], width=0.9)\n",
    "plt.title('Students enrolled in different courses')\n",
    "plt.xlabel('Courses offered')\n",
    "plt.ylabel('Number of students enrolled')\n",
    "plt.show()"
   ]
  },
  {
   "cell_type": "markdown",
   "metadata": {
    "id": "HBqq5Mq_OFAj"
   },
   "source": [
    "---\n",
    "### **Try Problem #3.2 on your own!**\n",
    "---"
   ]
  },
  {
   "cell_type": "markdown",
   "metadata": {
    "id": "5GNtcXXqTkEr"
   },
   "source": [
    "#### **Problem #3.2**"
   ]
  },
  {
   "cell_type": "markdown",
   "metadata": {
    "id": "3yQpgYrZd1zh"
   },
   "source": [
    "\n",
    "#### **Step #1: Create a bar plot out of the following data.**\n",
    "\n",
    "`langs` refers to different programming classes, and `students` refers to the number of students enrolled in each one."
   ]
  },
  {
   "cell_type": "code",
   "execution_count": null,
   "metadata": {
    "id": "VD1AoLbhTpOj"
   },
   "outputs": [],
   "source": [
    "langs = pd.DataFrame.from_dict({'langs': ['C', 'C++', 'Java', 'Python', 'PHP'], 'students': [23,17,35,29,12]})"
   ]
  },
  {
   "cell_type": "markdown",
   "metadata": {
    "id": "evtYp9HkTrlq"
   },
   "source": [
    "#### **Step #2: Add in the following labels and title.**\n",
    "* `Title`: \"Number of students in different programming classes\"\n",
    "* `X-axis`: \"Programming classes\"\n",
    "* `Y-axis`: \"Number of students\"\n"
   ]
  },
  {
   "cell_type": "code",
   "execution_count": null,
   "metadata": {
    "id": "PM5Cnu1Tc-Mq"
   },
   "outputs": [],
   "source": []
  },
  {
   "cell_type": "markdown",
   "metadata": {
    "id": "sbxppuZnJqy6"
   },
   "source": [
    "<center>\n",
    "\n",
    "---\n",
    "### **Back to Lecture**\n",
    "---\n",
    "\n",
    "</center>"
   ]
  },
  {
   "cell_type": "markdown",
   "metadata": {
    "id": "p5_an2bSV9UK"
   },
   "source": [
    "<a name=\"p4\"></a>\n",
    "\n",
    "---\n",
    "## **Part 4: [ADVANCED] Improving Visualizations**\n",
    "---\n",
    "\n",
    "In this section, we will explore several ways to improve upon the visuals we learned to make above."
   ]
  },
  {
   "cell_type": "markdown",
   "metadata": {
    "id": "8yXy7TnmVlsM"
   },
   "source": [
    "<a name=\"p4.1\"></a>\n",
    "\n",
    "---\n",
    "### **Part 4.1: Improving Scatter Plots**\n",
    "---"
   ]
  },
  {
   "cell_type": "markdown",
   "metadata": {
    "id": "dUqOMFqIqMGq"
   },
   "source": [
    "#### **Problem #4.1.1**\n",
    "\n",
    "We are given average temperature values for the months of the year for two cities: `city_A` and `city_B`. Let's plot each city's average temperatures. We'll need to make two scatter plots.\n",
    "\n",
    "Make `city_A` markers blue squares and `city_B` markers red stars. Add labels and a legend.\n",
    "\n",
    "From the graph, which city is most likely located in the Northeast?"
   ]
  },
  {
   "cell_type": "code",
   "execution_count": null,
   "metadata": {
    "id": "ZBZcgZ2trRtM"
   },
   "outputs": [],
   "source": [
    "city_A_temps = [60,65,67, 70, 77, 84, 94, 101, 90, 82, 62]\n",
    "city_B_temps = [-11, 14, 25, 32, 55, 73, 87, 92, 82, 66, 53]\n",
    "months = np.arange(1,12)"
   ]
  },
  {
   "cell_type": "code",
   "execution_count": null,
   "metadata": {
    "id": "B6nuqGlIOWDU"
   },
   "outputs": [],
   "source": [
    "# Plot here\n"
   ]
  },
  {
   "cell_type": "markdown",
   "metadata": {
    "id": "XJTJjzIdhMuF"
   },
   "source": [
    "#### **Problem #4.1.2**\n",
    "\n",
    "Now, adjust the plot so that `city_A` markers are black diamonds and `city_B` markers are green octagons. You can find all the marker options [here](https://matplotlib.org/stable/api/markers_api.html)."
   ]
  },
  {
   "cell_type": "code",
   "execution_count": null,
   "metadata": {
    "id": "FGyhRMmBhMuG"
   },
   "outputs": [],
   "source": [
    "city_A_temps = [60,65,67, 70, 77, 84, 94, 101, 90, 82, 62]\n",
    "city_B_temps = [-11, 14, 25, 32, 55, 73, 87, 92, 82, 66, 53]\n",
    "months = np.arange(1,12)"
   ]
  },
  {
   "cell_type": "code",
   "execution_count": null,
   "metadata": {
    "id": "tDc50XjYOZ-g"
   },
   "outputs": [],
   "source": [
    "# Plot here\n",
    "\n"
   ]
  },
  {
   "cell_type": "markdown",
   "metadata": {
    "id": "D8fNYzcGUV3O"
   },
   "source": [
    "#### **Problem #4.1.3**\n",
    "\n",
    "Run the following cell to see the given scatter plot. As you can see, there is a lot of overlap of the points. So, let's set the transparency (`alpha`) to 0.5."
   ]
  },
  {
   "cell_type": "code",
   "execution_count": null,
   "metadata": {
    "colab": {
     "base_uri": "https://localhost:8080/",
     "height": 472
    },
    "executionInfo": {
     "elapsed": 599,
     "status": "ok",
     "timestamp": 1707527270028,
     "user": {
      "displayName": "Angelique Membrido",
      "userId": "04984385250682432912"
     },
     "user_tz": 480
    },
    "id": "ecevoMqiUb9p",
    "outputId": "79d139b8-dc27-46e9-f8de-17e5b836005d"
   },
   "outputs": [],
   "source": [
    "# get data (ignore the sns part)\n",
    "tips_df = sns.load_dataset('tips')\n",
    "total_bill = tips_df.total_bill.to_numpy()\n",
    "tip = tips_df.tip.to_numpy()\n",
    "\n",
    "# plot data\n",
    "plt.scatter(total_bill, tip)\n",
    "plt.title('Total Bill vs Tip')\n",
    "plt.xlabel('Total Bill ($)')\n",
    "plt.ylabel('Tip ($)')\n",
    "plt.show()"
   ]
  },
  {
   "cell_type": "code",
   "execution_count": null,
   "metadata": {
    "id": "7jPR8UfIOdym"
   },
   "outputs": [],
   "source": [
    "# Change transparency\n",
    "\n",
    "\n"
   ]
  },
  {
   "cell_type": "markdown",
   "metadata": {
    "id": "EhK1ndAGms-O"
   },
   "source": [
    "#### **Problem #4.1.4**\n",
    "\n",
    "Using the scatter plot from the problem above, change the size of the scatter points using the variable `size_table_scaled`."
   ]
  },
  {
   "cell_type": "code",
   "execution_count": null,
   "metadata": {
    "colab": {
     "base_uri": "https://localhost:8080/",
     "height": 250
    },
    "executionInfo": {
     "elapsed": 146,
     "status": "error",
     "timestamp": 1707511561641,
     "user": {
      "displayName": "Hannah Walden",
      "userId": "09051575008630852092"
     },
     "user_tz": 300
    },
    "id": "t2MCTEgcV0_b",
    "outputId": "8a8273ec-62ba-42f9-f376-5b110db90712"
   },
   "outputs": [],
   "source": [
    "# use size_table_scaled for size\n",
    "size_table = tips_df['size'].to_numpy()\n",
    "size_table_scaled = [3*s**2 for s in size_table]\n",
    "\n",
    "print(size_table_scaled)\n",
    "# update plot\n"
   ]
  },
  {
   "cell_type": "code",
   "execution_count": null,
   "metadata": {
    "id": "NHaL6w0nOgBY"
   },
   "outputs": [],
   "source": [
    "# Change size\n",
    "\n"
   ]
  },
  {
   "cell_type": "markdown",
   "metadata": {
    "id": "ekZX9XHgvpBh"
   },
   "source": [
    "<a name=\"p4.2\"></a>\n",
    "\n",
    "---\n",
    "### **Part 4.2: Improving Line Plots**\n",
    "---"
   ]
  },
  {
   "cell_type": "markdown",
   "metadata": {
    "id": "tCDKL5LXIDtm"
   },
   "source": [
    "#### **Problem #4.2.1**\n",
    "\n",
    "Let's create a line plot with the following features:\n",
    "\n",
    "\n",
    "* A dashed line\n",
    "* Change the dashed line and markers to the color purple\n",
    "* A legend\n",
    "\n"
   ]
  },
  {
   "cell_type": "code",
   "execution_count": null,
   "metadata": {
    "id": "u04mZF2WYrb1"
   },
   "outputs": [],
   "source": [
    "Year = [1920,1930,1940,1950,1960,1970,1980,1990,2000,2010]\n",
    "Unemployment_Rate = [9.8,12,8,7.2,6.9,7,6.5,6.2,5.5,6.3]"
   ]
  },
  {
   "cell_type": "code",
   "execution_count": null,
   "metadata": {
    "id": "NYq809wfOiUe"
   },
   "outputs": [],
   "source": [
    "# Making further improvements\n",
    "\n",
    "\n"
   ]
  },
  {
   "cell_type": "markdown",
   "metadata": {
    "id": "Jf5F6kZOZFoI"
   },
   "source": [
    "#### **Problem #4.2.2**\n",
    "\n",
    "Using the following data, create a line plot. In addition:\n",
    "* Make that line dashed and dotted with `\"-.\"`\n",
    "* Add a grid to the background"
   ]
  },
  {
   "cell_type": "code",
   "execution_count": null,
   "metadata": {
    "id": "jWVJ7xzZZfk1"
   },
   "outputs": [],
   "source": [
    "# x axis values\n",
    "x = [1,2,3]\n",
    "# corresponding y axis values\n",
    "y = [2,4,1]"
   ]
  },
  {
   "cell_type": "code",
   "execution_count": null,
   "metadata": {
    "id": "J2vGRGAHOk1Y"
   },
   "outputs": [],
   "source": [
    "# Making improvements\n",
    "\n",
    "\n"
   ]
  },
  {
   "cell_type": "markdown",
   "metadata": {
    "id": "n0zfv749v-qj"
   },
   "source": [
    "<a name=\"p4.3\"></a>\n",
    "\n",
    "---\n",
    "### **Part 4.3: Improving Bar Plots**\n",
    "---"
   ]
  },
  {
   "cell_type": "markdown",
   "metadata": {
    "id": "MsZMPksXamGz"
   },
   "source": [
    "#### **Problem #4.3.1**\n",
    "\n",
    "Let's make a bar plot with each bar as a different color."
   ]
  },
  {
   "cell_type": "code",
   "execution_count": null,
   "metadata": {
    "id": "tun4npXIUqH9"
   },
   "outputs": [],
   "source": [
    "langs = ['English', 'French', 'Spanish', 'Chinese', 'Arabic']\n",
    "students = [23,17,35,29,12]"
   ]
  },
  {
   "cell_type": "code",
   "execution_count": null,
   "metadata": {
    "id": "AeG2wGZBOm-I"
   },
   "outputs": [],
   "source": [
    "# Bar plot\n",
    "\n"
   ]
  },
  {
   "cell_type": "markdown",
   "metadata": {
    "id": "UBfUrUZBa0jQ"
   },
   "source": [
    "#### **Problem #4.3.2**\n",
    "\n",
    "Use the following data to create a simple bar plot. Make all of the bars blue except bar `E`; make bar `E` red."
   ]
  },
  {
   "cell_type": "code",
   "execution_count": null,
   "metadata": {
    "id": "0WAX4X4wbGnS"
   },
   "outputs": [],
   "source": [
    "height = [3, 12, 5, 18, 45]       # y\n",
    "bars = ['A', 'B', 'C', 'D', 'E']  # x"
   ]
  },
  {
   "cell_type": "code",
   "execution_count": null,
   "metadata": {
    "id": "lcI6wXQEOqPs"
   },
   "outputs": [],
   "source": [
    "# Bar plot modifications\n",
    "\n"
   ]
  },
  {
   "cell_type": "markdown",
   "metadata": {
    "id": "g4mLFO9lfZwS"
   },
   "source": [
    "<a name=\"p4.4\"></a>\n",
    "\n",
    "---\n",
    "### **Part 4.4: Enhancing Plot Aesthetics**\n",
    "---\n",
    "\n",
    "**Run the cell below to import the data for the following problems.**\n",
    "\n",
    "This dataset contains information on U.S. agricultural exports in 2011."
   ]
  },
  {
   "cell_type": "code",
   "execution_count": null,
   "metadata": {
    "colab": {
     "base_uri": "https://localhost:8080/",
     "height": 244
    },
    "executionInfo": {
     "elapsed": 181,
     "status": "ok",
     "timestamp": 1707511625620,
     "user": {
      "displayName": "Hannah Walden",
      "userId": "09051575008630852092"
     },
     "user_tz": 300
    },
    "id": "7ltA47zfPiTN",
    "outputId": "a2da451e-63e1-47f8-c931-8623e52f4008"
   },
   "outputs": [],
   "source": [
    "url = 'https://raw.githubusercontent.com/plotly/datasets/master/2011_us_ag_exports.csv'\n",
    "export_df = pd.read_csv(url)\n",
    "export_df.head()"
   ]
  },
  {
   "cell_type": "markdown",
   "metadata": {
    "id": "nN0tkLl8PoT4"
   },
   "source": [
    "#### **Problem #4.4.1**\n",
    "\n",
    "Let's compare beef export of different states using a bar plot. Adjust the size of the plot so that the graph and its labels are legible.\n",
    "\n",
    "\n",
    "\n",
    "**NOTE**: to use a dataframe for a graph, here is the syntax:\n",
    "```\n",
    "plt.bar(DF_NAME['x_variable'],export_df['y_variable'])\n",
    "```"
   ]
  },
  {
   "cell_type": "code",
   "execution_count": null,
   "metadata": {
    "id": "0JArGmUYP2jQ"
   },
   "outputs": [],
   "source": [
    "# Adjusting size of the graph plot\n",
    "\n"
   ]
  },
  {
   "cell_type": "markdown",
   "metadata": {
    "id": "_TtWLwGvQS7U"
   },
   "source": [
    "#### **Problem #4.4.2**\n",
    "\n",
    "Compare the export of corn from different states using a bar plot. Make sure you adjust the size of the plot."
   ]
  },
  {
   "cell_type": "code",
   "execution_count": null,
   "metadata": {
    "id": "aRIt-71SQTvy"
   },
   "outputs": [],
   "source": []
  },
  {
   "cell_type": "markdown",
   "metadata": {
    "id": "zWf-dga5fl6P"
   },
   "source": [
    "<a name=\"p4.5\"></a>\n",
    "\n",
    "---\n",
    "### **Part 4.5: Text Customization and Independent Practice**\n",
    "---"
   ]
  },
  {
   "cell_type": "markdown",
   "metadata": {
    "id": "DrsWeKWtGs8d"
   },
   "source": [
    "#### **Problem #4.5.1**\n",
    "\n",
    "Update your line plot from above to include the following:\n",
    "\n",
    "* Make the title bold and in the font `serif`\n",
    "* Make the x- and y-labels large and in the font `serif`"
   ]
  },
  {
   "cell_type": "code",
   "execution_count": null,
   "metadata": {
    "colab": {
     "base_uri": "https://localhost:8080/",
     "height": 472
    },
    "executionInfo": {
     "elapsed": 378,
     "status": "ok",
     "timestamp": 1688064333681,
     "user": {
      "displayName": "Marie Angelique Membrido",
      "userId": "04984385250682432912"
     },
     "user_tz": 420
    },
    "id": "90dZKCTGcjFr",
    "outputId": "2b9cb715-f336-481c-dd4d-ccb331f1aded"
   },
   "outputs": [],
   "source": [
    "Year = [1920,1930,1940,1950,1960,1970,1980,1990,2000,2010]\n",
    "Unemployment_Rate = [9.8,12,8,7.2,6.9,7,6.5,6.2,5.5,6.3]\n",
    "\n",
    "plt.plot(Year, Unemployment_Rate, color = \"purple\", marker = \".\", label = \"Unemp. Rate\", ls = \"--\")\n",
    "plt.xlabel(\"Year\")\n",
    "plt.ylabel(\"Unemployment Rate\")\n",
    "plt.title(\"Unemployment rate over the years\")\n",
    "plt.grid()\n",
    "plt.legend()\n",
    "plt.show()"
   ]
  },
  {
   "cell_type": "code",
   "execution_count": null,
   "metadata": {
    "id": "ocg6jRm7OyUA"
   },
   "outputs": [],
   "source": [
    "# YOUR CODE HERE\n",
    "\n",
    "\n"
   ]
  },
  {
   "cell_type": "markdown",
   "metadata": {
    "id": "N2s15JrL54G8"
   },
   "source": [
    "#### **Problem #4.5.2**\n",
    "\n",
    "Using the following data, create a line plot.\n",
    "\n",
    "**Hint:** Your graph should have three distinct lines corresponding to `y1`, `y2`, and `y3`.\n",
    "\n",
    "In addition:\n",
    "* Make sure each line is a different color\n",
    "* Make `y1` a dashed line\n",
    "* Add a grid to the background and make the background color black\n",
    "* Add a legend"
   ]
  },
  {
   "cell_type": "code",
   "execution_count": null,
   "metadata": {
    "id": "n_wxFXOn54HF"
   },
   "outputs": [],
   "source": [
    "# x axis values\n",
    "x = [1,2,3,4,5]\n",
    "# corresponding y axis values\n",
    "y1 = [2,4,6,8,10] # y = 2x\n",
    "y2 = [0.5,1,1.5,2,2.5] # y = 0.5x\n",
    "y3 = [1,4,9,16,25] # y = x^2\n",
    "\n",
    "# plot"
   ]
  },
  {
   "cell_type": "markdown",
   "metadata": {
    "id": "1zi19lH88t_L"
   },
   "source": [
    "#### **Problem #4.5.3**\n",
    "\n",
    "Using the following data, create a scatter plot. In addition:\n",
    "* Make the data points green\n",
    "* Change the transparency to 0.6\n",
    "* Make the x-label `Temperature (Fahrenheit)` and in the font `fantasy`\n",
    "* Make the y-label `Number of People` and in the font `fantasy`\n",
    "* Make the title `Number of People at the Beach` and in the font `fantasy`"
   ]
  },
  {
   "cell_type": "code",
   "execution_count": null,
   "metadata": {
    "id": "HzKR7meU8t_W"
   },
   "outputs": [],
   "source": [
    "# x axis values\n",
    "x = [87, 94, 98, 102, 96, 90, 92, 93, 85, 82, 96, 80, 90, 91]\n",
    "# corresponding y axis values\n",
    "y = [204, 375, 522, 731, 439, 302, 317, 346, 268, 197, 649, 158, 327, 353]\n",
    "\n",
    "# plot"
   ]
  },
  {
   "cell_type": "markdown",
   "metadata": {
    "id": "y-ILZBA-8ukB"
   },
   "source": [
    "#### **Problem #4.5.4**\n",
    "\n",
    "Using the following data, create a bar plot. In addition:\n",
    "* Make each bar's color the same as the color name\n",
    "* Make the x-label `Favorite Color` and with a font size of 12\n",
    "* Make the y-label `Number of People` and with a font size of 12\n",
    "* Make the title `Number of People vs Favorite Color` and with a font size of 20\n",
    "* Make the bar width 0.6"
   ]
  },
  {
   "cell_type": "code",
   "execution_count": null,
   "metadata": {
    "id": "C-PM-Uc18ukC"
   },
   "outputs": [],
   "source": [
    "# x axis values\n",
    "x = [1,2,3,4,5]\n",
    "# corresponding y axis values\n",
    "y1 = [2,4,6,8,10]\n",
    "y2 = [0.5,1,1.5,2,2.5]\n",
    "y3 = [1,4,9,16,25]\n",
    "\n",
    "# plot"
   ]
  },
  {
   "cell_type": "markdown",
   "metadata": {
    "id": "CArAIjgv8vLv"
   },
   "source": [
    "#### **Problem #4.5.5**\n",
    "\n",
    "Using the following data, create a line plot. In addition:\n",
    "* Make line y1 brown and dashed, and make line y2 pink\n",
    "* Add a grid to the background\n",
    "* Add a legend\n",
    "* Make the title `X vs Y` in font `monospace` and in size 18\n"
   ]
  },
  {
   "cell_type": "code",
   "execution_count": null,
   "metadata": {
    "id": "FwFLRWyN8vLw"
   },
   "outputs": [],
   "source": [
    "# x axis values\n",
    "x = [1,2,3,4,5,6,7]\n",
    "# corresponding y axis values\n",
    "y1 = [9, 4, 6, 8, 22, 17, 13]\n",
    "y2 = [3, 5, 8, 12, 17, 23, 30]\n",
    "\n",
    "# plot"
   ]
  },
  {
   "cell_type": "markdown",
   "metadata": {
    "id": "wtniW7m3xIw8"
   },
   "source": [
    "#### **Problem #4.5.6**\n",
    "\n",
    "Create a bar plot for the following data with the following:\n",
    "* One bar showing the number of females in the dataset and another bar showing the number of males in the dataset.\n",
    "* Bars labeled 'Female' and 'Male'.\n",
    "* The y-axis labeled 'Number in Dataset' with extra large font.\n",
    "* A title called \"Number of Males and Females in the Dataset\" with extra large font.\n",
    "\n",
    "<br>\n",
    "\n",
    "**Hint**: You will need to use pandas functions to get the count of males and females in the data frame."
   ]
  },
  {
   "cell_type": "code",
   "execution_count": null,
   "metadata": {
    "colab": {
     "base_uri": "https://localhost:8080/",
     "height": 206
    },
    "executionInfo": {
     "elapsed": 493,
     "status": "ok",
     "timestamp": 1688065822318,
     "user": {
      "displayName": "Marie Angelique Membrido",
      "userId": "04984385250682432912"
     },
     "user_tz": 420
    },
    "id": "sIlQ3hR5yXJE",
    "outputId": "aac53548-10ea-4f2a-da14-0d9977262e6b"
   },
   "outputs": [],
   "source": [
    "url = 'https://docs.google.com/spreadsheets/d/e/2PACX-1vSa0metcKBFqn-MHLn05vVGWONMlzljcWa-xIM1wJPXIa5kbrmIzGqmWcMh8eKG_ntByF9qqn6Mx3MT/pub?gid=1052859518&single=true&output=csv'\n",
    "df = pd.read_csv(url)\n",
    "df.head()\n",
    "# COMPLETE THIS CODE"
   ]
  },
  {
   "cell_type": "markdown",
   "metadata": {
    "id": "dWREWbsVykUC"
   },
   "source": [
    "#### **Problem #4.5.7**\n",
    "\n",
    "Create a *grouped* bar plot for the following data with the following:\n",
    "* One bar graph showing the number of females with heart attacks and without in the dataset.\n",
    "* This bar graph should be labeled 'Female' for the legend.\n",
    "* Another bar graph showing the number of males with heart attacks and without in the dataset.\n",
    "* This bar graph should be labeled 'Male' for the legend.\n",
    "* Both bar graphs should be located on the x-axis and given a width to make the graph readable.\n",
    "* The y-axis labeled 'Number in Dataset' with extra large font.\n",
    "* A title called \"Breakdown of Heart Attacks by Sex\" with extra large font.\n",
    "\n",
    "<br>\n",
    "\n",
    "**Hint**: You will need to use pandas functions and comparisons to get the count of males and females with and without heart attacks in the data frame."
   ]
  },
  {
   "cell_type": "code",
   "execution_count": null,
   "metadata": {
    "id": "FIMkkvVizT58"
   },
   "outputs": [],
   "source": [
    "df_female = df[# COMPLETE THIS LINE\n",
    "df_male = df[# COMPLETE THIS LINE\n",
    "\n",
    "# COMPLETE THIS CODE\n",
    "\n",
    "plt.xticks(ticks = [0, 1], labels = ['No Heart Attack', 'Heart Attack'], fontsize = 'x-large')\n",
    "\n",
    "plt.# COMPLETE THIS LINE"
   ]
  },
  {
   "cell_type": "markdown",
   "metadata": {
    "id": "8Y87uet9b5qb"
   },
   "source": [
    "#### **Comment on this Dataset**\n",
    "\n",
    "This is an unfortunately common case of biased data, specifically *unbalanced data*, leading to potentially harmful results. We could attempt removing `'Sex'` as a feature to blind any ML models to the sex of the patient. However, bias often runs deeper than the most superficial variables and may be correlated with others in ways that humans and especially advanced ML algorithms can still pick up on. Consider some of the following ideas for improving on these results:\n",
    "\n",
    "* Using statistical methods for balancing the data. For instance, upsampling and downsampling are common first approaches to tackling this problem.\n",
    "\n",
    "* Find a dataset that is more balanced to begin with. In an ideal world, we would make sure that the data is balanced (representative) upon collection."
   ]
  },
  {
   "cell_type": "markdown",
   "metadata": {
    "id": "vLNdkkSURW0K"
   },
   "source": [
    "<a name=\"p5\"></a>\n",
    "\n",
    "---\n",
    "## **Part 5: Homework Practice [OPTIONAL]**\n",
    "---"
   ]
  },
  {
   "cell_type": "markdown",
   "metadata": {
    "id": "lhiUHLAnkXG_"
   },
   "source": [
    "#### **Problem #5.1**\n",
    "\n",
    "Create a scatter plot for the following data. Make the title and labels the following:\n",
    "* `Title`: \"Random Variable Vs. Random Variable\"\n",
    "* `X-axis`: \"Random X\"\n",
    "* `Y-axis`: \"Random Y\""
   ]
  },
  {
   "cell_type": "code",
   "execution_count": null,
   "metadata": {
    "id": "1ZYDX62SkXG_"
   },
   "outputs": [],
   "source": [
    "x_range = np.random.randint(400, size=50)\n",
    "y_range = np.random.randint(400, size=50)\n",
    "\n",
    "# COMPLETE THIS CODE"
   ]
  },
  {
   "cell_type": "markdown",
   "metadata": {
    "id": "6S8fsll0UQXt"
   },
   "source": [
    "#### **Problem #5.2**\n",
    "\n",
    "Given the following scatter plot, add the following labels and title:\n",
    "* `Title`: \"Distance vs Workout Duration\"\n",
    "* `X-axis`: \"Distance (km)\"\n",
    "* `Y-axis`: \"Workout Duration (min)\""
   ]
  },
  {
   "cell_type": "code",
   "execution_count": null,
   "metadata": {
    "colab": {
     "base_uri": "https://localhost:8080/",
     "height": 430
    },
    "executionInfo": {
     "elapsed": 299,
     "status": "ok",
     "timestamp": 1690338573352,
     "user": {
      "displayName": "Marie Angelique Membrido",
      "userId": "04984385250682432912"
     },
     "user_tz": 420
    },
    "id": "8_s7i36wH5qM",
    "outputId": "8e64678b-ab29-49cf-a52f-0b0371915fb7"
   },
   "outputs": [],
   "source": [
    "workout_df = pd.DataFrame({\"date\": [\"10/17/21\", \"11/04/21\", \"11/18/21\", \"11/23/21\", \"11/28/21\", \"11/29/21\"],\n",
    "           \"distance_km\": [4.3, 1.9, 1.9, 1.9, 2.3, 2.8],\n",
    "           \"duration_min\": [21.58, 9.25, 9.0, 8.93, 11.94, 14.05],\n",
    "           \"delta_last_workout\":[1, 18, 14, 5, 5, 1],\n",
    "           \"day_category\": [0, 1, 1, 0, 0, 0]})\n",
    "\n",
    "x = workout_df['distance_km']\n",
    "y = workout_df['duration_min']\n",
    "\n",
    "\n",
    "plt.scatter(x, y)\n",
    "# COMPLETE THIS CODE\n",
    "\n",
    "plt.show()"
   ]
  },
  {
   "cell_type": "markdown",
   "metadata": {
    "id": "-J73dIIJM1PS"
   },
   "source": [
    "#### **Problem #5.3**\n",
    "\n",
    "Create a scatter plot for the following data. Make the title and labels the following:\n",
    "* `Title`: \"Age vs. height in teenagers\"\n",
    "* `X-axis`: \"Age\"\n",
    "* `Y-axis`: \"Height (in)\""
   ]
  },
  {
   "cell_type": "code",
   "execution_count": null,
   "metadata": {
    "id": "Z9DTJN9xM1Pa"
   },
   "outputs": [],
   "source": [
    "age = [14, 14, 13, 18, 17, 20, 17, 16, 19, 19]\n",
    "height = [65, 68, 58, 61, 64, 75, 67, 69, 71, 63]\n",
    "\n",
    "# COMPLETE THIS CODE"
   ]
  },
  {
   "cell_type": "markdown",
   "metadata": {
    "id": "Luab9N3dM1pO"
   },
   "source": [
    "#### **Problem #5.4**\n",
    "\n",
    "Create a line plot for the following data. Add a title called \"Bike Rideshare Activity\" with x-axis and y-axis labels called \"Month\" and \"Bike Trips\", respectively."
   ]
  },
  {
   "cell_type": "code",
   "execution_count": null,
   "metadata": {
    "id": "AgldHJkyM1pP"
   },
   "outputs": [],
   "source": [
    "months = [1, 2, 3, 4, 5, 6, 7, 8, 9, 10, 11, 12]\n",
    "trips = [300, 358, 521, 574, 783, 1549, 1776, 1920, 1714, 1234, 703, 438]\n",
    "\n",
    "# Line Plot"
   ]
  },
  {
   "cell_type": "markdown",
   "metadata": {
    "id": "fQ0i35FMVMXq"
   },
   "source": [
    "#### **Problem #5.5**\n",
    "\n",
    "\n",
    "Create a line plot for the following data. Make the title and labels the following:\n",
    "* `Title`: \"Unemployment rate over the years\"\n",
    "* `X-axis`: \"Year\"\n",
    "* `Y-axis`: \"Unemployment\""
   ]
  },
  {
   "cell_type": "code",
   "execution_count": null,
   "metadata": {
    "id": "TEXIY336VQt6"
   },
   "outputs": [],
   "source": [
    "Year = [1920,1930,1940,1950,1960,1970,1980,1990,2000,2010]\n",
    "Unemployment_Rate = [9.8,12,8,7.2,6.9,7,6.5,6.2,5.5,6.3]\n",
    "\n",
    "# COMPLETE THIS CODE"
   ]
  },
  {
   "cell_type": "markdown",
   "metadata": {
    "id": "JxoW7uzFos1r"
   },
   "source": [
    "#### **Problem #5.6**\n",
    "\n",
    "The information below contains data related to how many people have visited Disney Parks globally. Create a line plot to show how the number of visits have changed between 2017 to 2020. Make sure you add in helpful labels and a title.\n",
    "\n",
    "**Note:** Visitors is in millions. For example, in 2017, 150 million people visited Disney Parks globally."
   ]
  },
  {
   "cell_type": "code",
   "execution_count": null,
   "metadata": {
    "id": "aiovjQ71os15"
   },
   "outputs": [],
   "source": [
    "year = [2017, 2018, 2019, 2020]\n",
    "visitors = [150, 157, 155.991, 43.525]\n",
    "\n",
    "# COMPLETE THIS CODE"
   ]
  },
  {
   "cell_type": "markdown",
   "metadata": {
    "id": "p3honiJxkXHA"
   },
   "source": [
    "#### **Problem #5.7**\n",
    "\n",
    "Now, plot the same data as above, but using a bar plot. In some cases, it may not be clear which plot will be best until you see your options!"
   ]
  },
  {
   "cell_type": "code",
   "execution_count": null,
   "metadata": {
    "id": "441xyVRvkXHB"
   },
   "outputs": [],
   "source": [
    "year = ['2017', '2018', '2019', '2020']\n",
    "visitors = [150, 157, 155.991, 43.525]\n",
    "\n",
    "# COMPLETE THIS CODE"
   ]
  },
  {
   "cell_type": "markdown",
   "metadata": {
    "id": "AVjC3efXkXHC"
   },
   "source": [
    "#### **Problem #5.8**\n",
    "\n",
    "Create a bar plot for the following data. Make the title and labels the following:\n",
    "* `Title`: \"Favorite Types of Drinks\"\n",
    "* `X-axis`: \"Drink\"\n",
    "* `Y-axis`: \"Number of People\""
   ]
  },
  {
   "cell_type": "code",
   "execution_count": null,
   "metadata": {
    "id": "NzbmRrWAkXHC"
   },
   "outputs": [],
   "source": [
    "drinks = [\"water\", \"tea\", \"coffee\", \"juice\", \"soda\"]\n",
    "people = [12, 5, 17, 15, 9]\n",
    "\n",
    "# COMPLETE THIS CODE"
   ]
  },
  {
   "cell_type": "markdown",
   "metadata": {
    "id": "9pyY5MuXUX1R"
   },
   "source": [
    "#### **Problem #5.9**\n",
    "\n",
    "\n",
    "Create a bar plot for the following data. Make the title and labels the following:\n",
    "* `Title`: \"Innovative Countries\"\n",
    "* `X-axis`: \"Countries\"\n",
    "* `Y-axis`: \"Number of Companies\""
   ]
  },
  {
   "cell_type": "code",
   "execution_count": null,
   "metadata": {
    "id": "i0sk0NKfUYYo"
   },
   "outputs": [],
   "source": [
    "companies_df = pd.DataFrame({\"countries\": [\"USA\", \"South Korea\", \"China\", \"Japan\", \"Germany\", \"Netherlands\", \"India\", \"France\", \"London\", \"Switzerland\", \"Sweden\", \"Italy\"],\n",
    "             \"companies\": [25, 2, 3, 3, 6, 1, 3, 1, 1, 2, 2, 1]})\n",
    "\n",
    "companies_df.head()\n",
    "\n",
    "# COMPLETE THIS CODE"
   ]
  },
  {
   "cell_type": "markdown",
   "metadata": {
    "id": "_HyK3MU03rBY"
   },
   "source": [
    "---\n",
    "#End of Notebook\n",
    "\n",
    "© 2024 The Coding School, All rights reserved"
   ]
  }
 ],
 "metadata": {
  "colab": {
   "provenance": []
  },
  "kernelspec": {
   "display_name": ".venv",
   "language": "python",
   "name": "python3"
  },
  "language_info": {
   "codemirror_mode": {
    "name": "ipython",
    "version": 3
   },
   "file_extension": ".py",
   "mimetype": "text/x-python",
   "name": "python",
   "nbconvert_exporter": "python",
   "pygments_lexer": "ipython3",
   "version": "3.12.2"
  }
 },
 "nbformat": 4,
 "nbformat_minor": 4
}
